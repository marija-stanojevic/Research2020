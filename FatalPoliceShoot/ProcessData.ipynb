{
 "cells": [
  {
   "cell_type": "code",
   "execution_count": 1,
   "metadata": {},
   "outputs": [],
   "source": [
    "import pandas as pd\n",
    "import numpy as np"
   ]
  },
  {
   "cell_type": "code",
   "execution_count": 7,
   "metadata": {},
   "outputs": [],
   "source": [
    "df=pd.read_csv(\"PoliceKillingsUS.csv\",engine='python')"
   ]
  },
  {
   "cell_type": "code",
   "execution_count": 8,
   "metadata": {},
   "outputs": [
    {
     "data": {
      "text/plain": [
       "id                                        4\n",
       "name                       Lewis Lee Lembke\n",
       "date                             2015-02-01\n",
       "manner_of_death                        shot\n",
       "armed                                   gun\n",
       "age                                      47\n",
       "gender                                    M\n",
       "race                                      W\n",
       "city                                  Aloha\n",
       "state                                    OR\n",
       "signs_of_mental_illness               False\n",
       "threat_level                         attack\n",
       "flee                            Not fleeing\n",
       "body_camera                           False\n",
       "Name: 1, dtype: object"
      ]
     },
     "execution_count": 8,
     "metadata": {},
     "output_type": "execute_result"
    }
   ],
   "source": [
    "df.iloc[1]"
   ]
  },
  {
   "cell_type": "code",
   "execution_count": 10,
   "metadata": {},
   "outputs": [],
   "source": [
    "City=[]\n",
    "State=[]\n",
    "PeneName=[]\n",
    "Date=[]\n",
    "CrimeType=[]\n",
    "PeneAge=[]\n",
    "PeneGender=[]\n",
    "PeneRace=[]\n",
    "PeneMental=[]\n",
    "PeneFlee=[]\n",
    "Weapon=[]\n"
   ]
  },
  {
   "cell_type": "code",
   "execution_count": 11,
   "metadata": {},
   "outputs": [],
   "source": [
    "for i in range(len(df)):\n",
    "    CrimeType.append(df.iloc[i]['manner_of_death']+':'+df.iloc[i]['threat_level'])"
   ]
  },
  {
   "cell_type": "code",
   "execution_count": null,
   "metadata": {},
   "outputs": [],
   "source": [
    "newdf=pd.DataFrame()\n",
    "newdf['City']=df['city']\n",
    "newdf['State']=df['state']\n",
    "newdf['PeneName']=df['name']\n",
    "newdf['Date']=df['date']\n",
    "newdf['CrimeType']=CrimeType\n",
    "newdf['PeneAge']=df['age']\n",
    "newdf[\"PeneGender\"]=df['gender']\n",
    "newdf[\"PeneRace\"]=df['race']\n",
    "newdf['PeneMental']=df['signs_']"
   ]
  }
 ],
 "metadata": {
  "kernelspec": {
   "display_name": "Python 3",
   "language": "python",
   "name": "python3"
  },
  "language_info": {
   "codemirror_mode": {
    "name": "ipython",
    "version": 3
   },
   "file_extension": ".py",
   "mimetype": "text/x-python",
   "name": "python",
   "nbconvert_exporter": "python",
   "pygments_lexer": "ipython3",
   "version": "3.7.6"
  }
 },
 "nbformat": 4,
 "nbformat_minor": 2
}
