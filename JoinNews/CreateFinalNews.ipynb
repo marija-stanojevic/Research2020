{
 "cells": [
  {
   "cell_type": "code",
   "execution_count": 1,
   "metadata": {},
   "outputs": [],
   "source": [
    "import pandas as pd"
   ]
  },
  {
   "cell_type": "code",
   "execution_count": 13,
   "metadata": {},
   "outputs": [],
   "source": [
    "news1=pd.read_csv(\"SQLnews.csv\")\n",
    "news2=pd.read_csv(\"FinalNews.csv\")\n",
    "news2= news2.loc[:, ~news2.columns.str.contains('^Unnamed')]\n",
    "news1=news1.dropna()\n",
    "news2=news2.dropna()"
   ]
  },
  {
   "cell_type": "code",
   "execution_count": 14,
   "metadata": {},
   "outputs": [
    {
     "data": {
      "text/plain": [
       "Index(['ArticleID', 'Title', 'NewslineID', 'NewsOutletID', 'Publishtime',\n",
       "       'OutletName', 'ArticleText', 'ArticleURL', 'common_ents'],\n",
       "      dtype='object')"
      ]
     },
     "execution_count": 14,
     "metadata": {},
     "output_type": "execute_result"
    }
   ],
   "source": [
    "news1.columns"
   ]
  },
  {
   "cell_type": "code",
   "execution_count": 15,
   "metadata": {},
   "outputs": [
    {
     "data": {
      "text/plain": [
       "Index(['id', 'title', 'publication', 'author', 'date', 'year', 'month', 'url',\n",
       "       'content', 'common_ents'],\n",
       "      dtype='object')"
      ]
     },
     "execution_count": 15,
     "metadata": {},
     "output_type": "execute_result"
    }
   ],
   "source": [
    "news2.columns"
   ]
  },
  {
   "cell_type": "code",
   "execution_count": 35,
   "metadata": {},
   "outputs": [],
   "source": [
    "#Columns of final news dataset\n",
    "Source=[]\n",
    "ID=[]\n",
    "Title=[]\n",
    "Publication=[]\n",
    "NewslineID=[]\n",
    "NewsOutletID=[]\n",
    "Author=[]\n",
    "Publishtime=[]\n",
    "OutletName=[]\n",
    "Content=[]\n",
    "ArticleURL=[]\n",
    "Common_Ent=[]\n"
   ]
  },
  {
   "cell_type": "code",
   "execution_count": 12,
   "metadata": {},
   "outputs": [
    {
     "data": {
      "text/html": [
       "<div>\n",
       "<style scoped>\n",
       "    .dataframe tbody tr th:only-of-type {\n",
       "        vertical-align: middle;\n",
       "    }\n",
       "\n",
       "    .dataframe tbody tr th {\n",
       "        vertical-align: top;\n",
       "    }\n",
       "\n",
       "    .dataframe thead th {\n",
       "        text-align: right;\n",
       "    }\n",
       "</style>\n",
       "<table border=\"1\" class=\"dataframe\">\n",
       "  <thead>\n",
       "    <tr style=\"text-align: right;\">\n",
       "      <th></th>\n",
       "      <th>id</th>\n",
       "      <th>title</th>\n",
       "      <th>publication</th>\n",
       "      <th>author</th>\n",
       "      <th>date</th>\n",
       "      <th>year</th>\n",
       "      <th>month</th>\n",
       "      <th>url</th>\n",
       "      <th>content</th>\n",
       "      <th>common_ents</th>\n",
       "    </tr>\n",
       "  </thead>\n",
       "  <tbody>\n",
       "    <tr>\n",
       "      <th>0</th>\n",
       "      <td>82605</td>\n",
       "      <td>Open carry comes to Texas: Why the Lone Star s...</td>\n",
       "      <td>Fox News</td>\n",
       "      <td>John R Lott</td>\n",
       "      <td>2015-12-30</td>\n",
       "      <td>2015.0</td>\n",
       "      <td>12.0</td>\n",
       "      <td>https://web.archive.org/web/20160102032517/htt...</td>\n",
       "      <td>With about 900, 000 concealed handgun permit ...</td>\n",
       "      <td>[('Texas', 7), ('000', 2), ('Friday', 2), ('P....</td>\n",
       "    </tr>\n",
       "    <tr>\n",
       "      <th>1</th>\n",
       "      <td>82630</td>\n",
       "      <td>President Obama wants to disarm America</td>\n",
       "      <td>Fox News</td>\n",
       "      <td>Todd Starnes</td>\n",
       "      <td>2016-01-04</td>\n",
       "      <td>2016.0</td>\n",
       "      <td>1.0</td>\n",
       "      <td>https://web.archive.org/web/20160105014544/htt...</td>\n",
       "      <td>President Obama is plotting with his attorney...</td>\n",
       "      <td>[('Fox News', 3), ('Obama', 1), ('Congress', 1...</td>\n",
       "    </tr>\n",
       "    <tr>\n",
       "      <th>2</th>\n",
       "      <td>82631</td>\n",
       "      <td>Rancher family reports to prison, does not end...</td>\n",
       "      <td>Fox News</td>\n",
       "      <td>Hollie McKay</td>\n",
       "      <td>2016-01-04</td>\n",
       "      <td>2016.0</td>\n",
       "      <td>1.0</td>\n",
       "      <td>https://web.archive.org/web/20160105014544/htt...</td>\n",
       "      <td>As armed protesters occupied buildings on a f...</td>\n",
       "      <td>[('Hammonds', 12), ('Dwight Hammond', 5), ('Or...</td>\n",
       "    </tr>\n",
       "  </tbody>\n",
       "</table>\n",
       "</div>"
      ],
      "text/plain": [
       "      id                                              title publication  \\\n",
       "0  82605  Open carry comes to Texas: Why the Lone Star s...    Fox News   \n",
       "1  82630            President Obama wants to disarm America    Fox News   \n",
       "2  82631  Rancher family reports to prison, does not end...    Fox News   \n",
       "\n",
       "         author        date    year  month  \\\n",
       "0   John R Lott  2015-12-30  2015.0   12.0   \n",
       "1  Todd Starnes  2016-01-04  2016.0    1.0   \n",
       "2  Hollie McKay  2016-01-04  2016.0    1.0   \n",
       "\n",
       "                                                 url  \\\n",
       "0  https://web.archive.org/web/20160102032517/htt...   \n",
       "1  https://web.archive.org/web/20160105014544/htt...   \n",
       "2  https://web.archive.org/web/20160105014544/htt...   \n",
       "\n",
       "                                             content  \\\n",
       "0   With about 900, 000 concealed handgun permit ...   \n",
       "1   President Obama is plotting with his attorney...   \n",
       "2   As armed protesters occupied buildings on a f...   \n",
       "\n",
       "                                         common_ents  \n",
       "0  [('Texas', 7), ('000', 2), ('Friday', 2), ('P....  \n",
       "1  [('Fox News', 3), ('Obama', 1), ('Congress', 1...  \n",
       "2  [('Hammonds', 12), ('Dwight Hammond', 5), ('Or...  "
      ]
     },
     "execution_count": 12,
     "metadata": {},
     "output_type": "execute_result"
    }
   ],
   "source": [
    "news2.head(3)"
   ]
  },
  {
   "cell_type": "code",
   "execution_count": 36,
   "metadata": {},
   "outputs": [],
   "source": [
    "#News1 add to df\n",
    "for i in range(len(news1)):\n",
    "    Source.append(\"SQLdatabase\")\n",
    "    ID.append(news1.iloc[i]['ArticleID'])\n",
    "    Title.append(news1.iloc[i]['Title'])\n",
    "    Publication.append(\"No Info\")\n",
    "    NewslineID.append(news1.iloc[i]['NewslineID'])\n",
    "    NewsOutletID.append(news1.iloc[i][\"NewsOutletID\"])\n",
    "    Author.append(\"No Info\")\n",
    "    Publishtime.append(news1.iloc[i]['Publishtime'])\n",
    "    OutletName.append(news1.iloc[i]['OutletName'])\n",
    "    Content.append(news1.iloc[i]['ArticleText'])\n",
    "    ArticleURL.append(news1.iloc[i]['ArticleURL'])\n",
    "    Common_Ent.append(news1.iloc[i]['common_ents'])"
   ]
  },
  {
   "cell_type": "code",
   "execution_count": 40,
   "metadata": {},
   "outputs": [],
   "source": [
    "#News2 add to df\n",
    "for i in range(len(news2)):\n",
    "    Source.append(\"Kaggledata\")\n",
    "    ID.append(news2.iloc[i]['id'])\n",
    "    Title.append(news2.iloc[i]['title'])\n",
    "    Publication.append(news2.iloc[i][\"publication\"])\n",
    "    NewslineID.append(\"No Info\")\n",
    "    NewsOutletID.append(\"No Info\")\n",
    "    Author.append(news2.iloc[i]['author'])\n",
    "    Publishtime.append(news2.iloc[i]['date'])\n",
    "    OutletName.append(\"No Info\")\n",
    "    Content.append(news2.iloc[i]['content'])\n",
    "    ArticleURL.append(news2.iloc[i]['url'])\n",
    "    Common_Ent.append(news2.iloc[i]['common_ents'])"
   ]
  },
  {
   "cell_type": "code",
   "execution_count": 43,
   "metadata": {},
   "outputs": [],
   "source": [
    "df=pd.DataFrame()\n",
    "df['Source']=Source\n",
    "df['ID']=ID\n",
    "df['Title']=Title\n",
    "df['Publication']=Publication\n",
    "df['NewslineID']=NewslineID\n",
    "df['NewsOutletID']=NewsOutletID\n",
    "df['Author']=Author\n",
    "df['Publishtime']=Publishtime\n",
    "df['OutletName']=OutletName\n",
    "df['Content']=Content\n",
    "df['ArticleURL']=ArticleURL\n",
    "df['Common_Ent.append']=Common_Ent"
   ]
  },
  {
   "cell_type": "code",
   "execution_count": 45,
   "metadata": {},
   "outputs": [],
   "source": [
    "df.to_csv(\"news_full.csv\")"
   ]
  },
  {
   "cell_type": "code",
   "execution_count": null,
   "metadata": {},
   "outputs": [],
   "source": []
  }
 ],
 "metadata": {
  "kernelspec": {
   "display_name": "Python 3",
   "language": "python",
   "name": "python3"
  },
  "language_info": {
   "codemirror_mode": {
    "name": "ipython",
    "version": 3
   },
   "file_extension": ".py",
   "mimetype": "text/x-python",
   "name": "python",
   "nbconvert_exporter": "python",
   "pygments_lexer": "ipython3",
   "version": "3.7.6"
  }
 },
 "nbformat": 4,
 "nbformat_minor": 2
}
