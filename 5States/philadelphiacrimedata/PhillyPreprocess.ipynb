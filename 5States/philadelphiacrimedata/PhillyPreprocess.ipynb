{
 "cells": [
  {
   "cell_type": "code",
   "execution_count": 1,
   "metadata": {},
   "outputs": [],
   "source": [
    "import pandas as pd\n",
    "import numpy as np"
   ]
  },
  {
   "cell_type": "code",
   "execution_count": 2,
   "metadata": {},
   "outputs": [],
   "source": [
    "df=pd.read_csv(\"crime.csv\",engine='python')\n"
   ]
  },
  {
   "cell_type": "code",
   "execution_count": 4,
   "metadata": {},
   "outputs": [
    {
     "data": {
      "text/plain": [
       "Dc_Dist                                14\n",
       "Psa                                     1\n",
       "Dispatch_Date_Time    2009-05-10 00:55:00\n",
       "Dispatch_Date                  2009-05-10\n",
       "Dispatch_Time                    00:55:00\n",
       "Hour                                    0\n",
       "Dc_Key                       200914033994\n",
       "Location_Block           8500 BLOCK MITCH\n",
       "UCR_General                          2600\n",
       "Text_General_Code      All Other Offenses\n",
       "Police_Districts                      NaN\n",
       "Month                             2009-05\n",
       "Lon                                   NaN\n",
       "Lat                                   NaN\n",
       "Name: 1, dtype: object"
      ]
     },
     "execution_count": 4,
     "metadata": {},
     "output_type": "execute_result"
    }
   ],
   "source": [
    "df.iloc[1]"
   ]
  },
  {
   "cell_type": "code",
   "execution_count": 3,
   "metadata": {},
   "outputs": [],
   "source": [
    "newdf=pd.DataFrame()\n",
    "newdf['Date']=df['Dispatch_Date_Time']\n",
    "newdf['District']=df['Dc_Dist']\n",
    "newdf[\"Street\"]=df['Location_Block']\n",
    "newdf['CrimeType']=df['Text_General_Code']\n",
    "\n",
    "newdf['Long']=df['Long']\n",
    "newdf[\"Lat\"]=d[\"Lat\"]"
   ]
  },
  {
   "cell_type": "code",
   "execution_count": 5,
   "metadata": {},
   "outputs": [],
   "source": [
    "newdf.to_csv(\"BoCrimeF.csv\")"
   ]
  },
  {
   "cell_type": "code",
   "execution_count": null,
   "metadata": {},
   "outputs": [],
   "source": []
  }
 ],
 "metadata": {
  "kernelspec": {
   "display_name": "Python 3",
   "language": "python",
   "name": "python3"
  },
  "language_info": {
   "codemirror_mode": {
    "name": "ipython",
    "version": 3
   },
   "file_extension": ".py",
   "mimetype": "text/x-python",
   "name": "python",
   "nbconvert_exporter": "python",
   "pygments_lexer": "ipython3",
   "version": "3.7.6"
  }
 },
 "nbformat": 4,
 "nbformat_minor": 2
}
