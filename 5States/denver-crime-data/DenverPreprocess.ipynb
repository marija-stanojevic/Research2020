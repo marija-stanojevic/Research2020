{
 "cells": [
  {
   "cell_type": "code",
   "execution_count": 1,
   "metadata": {},
   "outputs": [],
   "source": [
    "import pandas as pd\n",
    "import numpy as np"
   ]
  },
  {
   "cell_type": "code",
   "execution_count": 2,
   "metadata": {},
   "outputs": [],
   "source": [
    "df=pd.read_csv(\"crime.csv\",engine='python')\n",
    "dfcodes=pd.read_csv(\"offense_codes.csv\",engine='python')"
   ]
  },
  {
   "cell_type": "code",
   "execution_count": 5,
   "metadata": {},
   "outputs": [
    {
     "data": {
      "text/plain": [
       "INCIDENT_ID                                 2016376978\n",
       "OFFENSE_ID                            2016376978521300\n",
       "OFFENSE_CODE                                      5213\n",
       "OFFENSE_CODE_EXTENSION                               0\n",
       "OFFENSE_TYPE_ID           weapon-unlawful-discharge-of\n",
       "OFFENSE_CATEGORY_ID                   all-other-crimes\n",
       "FIRST_OCCURRENCE_DATE            6/15/2016 11:31:00 PM\n",
       "LAST_OCCURRENCE_DATE                               NaN\n",
       "REPORTED_DATE                    6/15/2016 11:31:00 PM\n",
       "INCIDENT_ADDRESS                                   NaN\n",
       "GEO_X                                      3.19398e+06\n",
       "GEO_Y                                      1.70725e+06\n",
       "GEO_LON                                        -104.81\n",
       "GEO_LAT                                        39.7732\n",
       "DISTRICT_ID                                          5\n",
       "PRECINCT_ID                                        521\n",
       "NEIGHBORHOOD_ID                              montbello\n",
       "IS_CRIME                                             1\n",
       "IS_TRAFFIC                                           0\n",
       "Name: 0, dtype: object"
      ]
     },
     "execution_count": 5,
     "metadata": {},
     "output_type": "execute_result"
    }
   ],
   "source": [
    "df.iloc[0]"
   ]
  },
  {
   "cell_type": "code",
   "execution_count": 6,
   "metadata": {},
   "outputs": [
    {
     "name": "stderr",
     "output_type": "stream",
     "text": [
      "/Users/quangpham/anaconda3/lib/python3.7/site-packages/ipykernel_launcher.py:2: UserWarning: Boolean Series key will be reindexed to match DataFrame index.\n",
      "  \n"
     ]
    }
   ],
   "source": [
    "i=0\n",
    "point=dfcodes[dfcodes['OFFENSE_CODE']==df.iloc[i]['OFFENSE_CODE']][dfcodes['OFFENSE_CODE_EXTENSION']==df.iloc[i]['OFFENSE_CODE_EXTENSION']]"
   ]
  },
  {
   "cell_type": "code",
   "execution_count": 20,
   "metadata": {},
   "outputs": [
    {
     "data": {
      "text/plain": [
       "'Unlawful discharge of a weapon'"
      ]
     },
     "execution_count": 20,
     "metadata": {},
     "output_type": "execute_result"
    }
   ],
   "source": [
    "point.iloc[0]['OFFENSE_TYPE_NAME']"
   ]
  },
  {
   "cell_type": "code",
   "execution_count": 21,
   "metadata": {},
   "outputs": [
    {
     "name": "stderr",
     "output_type": "stream",
     "text": [
      "/Users/quangpham/anaconda3/lib/python3.7/site-packages/ipykernel_launcher.py:4: UserWarning: Boolean Series key will be reindexed to match DataFrame index.\n",
      "  after removing the cwd from sys.path.\n"
     ]
    }
   ],
   "source": [
    "crimetype=[]\n",
    "crimedetail=[]\n",
    "for i in range(len(df)):\n",
    "    point=dfcodes[dfcodes['OFFENSE_CODE']==df.iloc[i]['OFFENSE_CODE']][dfcodes['OFFENSE_CODE_EXTENSION']==df.iloc[i]['OFFENSE_CODE_EXTENSION']]\n",
    "    crimetype.append(point.iloc[0]['OFFENSE_CATEGORY_NAME'])\n",
    "    crimedetail.append(point.iloc[0]['OFFENSE_TYPE_NAME'])"
   ]
  },
  {
   "cell_type": "code",
   "execution_count": 22,
   "metadata": {},
   "outputs": [],
   "source": [
    "newdf=pd.DataFrame()\n",
    "newdf['Date']=df['REPORTED_DATE']\n",
    "newdf['District']=df['DISTRICT_ID']\n",
    "newdf[\"Street\"]=df['INCIDENT_ADDRESS']\n",
    "newdf['CrimeType']=crimetype\n",
    "newdf['CrimeDetail']=crimedetail\n",
    "newdf['Long']=df['GEO_LON']\n",
    "newdf[\"Lat\"]=df[\"GEO_LON\"]"
   ]
  },
  {
   "cell_type": "code",
   "execution_count": 23,
   "metadata": {},
   "outputs": [
    {
     "data": {
      "text/html": [
       "<div>\n",
       "<style scoped>\n",
       "    .dataframe tbody tr th:only-of-type {\n",
       "        vertical-align: middle;\n",
       "    }\n",
       "\n",
       "    .dataframe tbody tr th {\n",
       "        vertical-align: top;\n",
       "    }\n",
       "\n",
       "    .dataframe thead th {\n",
       "        text-align: right;\n",
       "    }\n",
       "</style>\n",
       "<table border=\"1\" class=\"dataframe\">\n",
       "  <thead>\n",
       "    <tr style=\"text-align: right;\">\n",
       "      <th></th>\n",
       "      <th>Date</th>\n",
       "      <th>District</th>\n",
       "      <th>Street</th>\n",
       "      <th>CrimeType</th>\n",
       "      <th>CrimeDetail</th>\n",
       "      <th>Long</th>\n",
       "      <th>Lat</th>\n",
       "    </tr>\n",
       "  </thead>\n",
       "  <tbody>\n",
       "    <tr>\n",
       "      <th>0</th>\n",
       "      <td>6/15/2016 11:31:00 PM</td>\n",
       "      <td>5</td>\n",
       "      <td>NaN</td>\n",
       "      <td>All Other Crimes</td>\n",
       "      <td>Unlawful discharge of a weapon</td>\n",
       "      <td>39.773188</td>\n",
       "      <td>-104.809881</td>\n",
       "    </tr>\n",
       "    <tr>\n",
       "      <th>1</th>\n",
       "      <td>1/29/2018 5:53:00 PM</td>\n",
       "      <td>5</td>\n",
       "      <td>NaN</td>\n",
       "      <td>Larceny</td>\n",
       "      <td>Theft - other</td>\n",
       "      <td>39.785649</td>\n",
       "      <td>-104.781434</td>\n",
       "    </tr>\n",
       "    <tr>\n",
       "      <th>2</th>\n",
       "      <td>4/26/2016 9:02:00 PM</td>\n",
       "      <td>3</td>\n",
       "      <td>2932 S JOSEPHINE ST</td>\n",
       "      <td>Theft from Motor Vehicle</td>\n",
       "      <td>Theft of items from a vehicle</td>\n",
       "      <td>39.663490</td>\n",
       "      <td>-104.957381</td>\n",
       "    </tr>\n",
       "    <tr>\n",
       "      <th>3</th>\n",
       "      <td>1/30/2018 10:29:00 PM</td>\n",
       "      <td>3</td>\n",
       "      <td>705 S COLORADO BLVD</td>\n",
       "      <td>Larceny</td>\n",
       "      <td>Theft - other</td>\n",
       "      <td>39.702698</td>\n",
       "      <td>-104.941440</td>\n",
       "    </tr>\n",
       "    <tr>\n",
       "      <th>4</th>\n",
       "      <td>6/23/2017 4:09:00 PM</td>\n",
       "      <td>3</td>\n",
       "      <td>2810 E 1ST AVE</td>\n",
       "      <td>Larceny</td>\n",
       "      <td>Shoplifting</td>\n",
       "      <td>39.717107</td>\n",
       "      <td>-104.955370</td>\n",
       "    </tr>\n",
       "    <tr>\n",
       "      <th>...</th>\n",
       "      <td>...</td>\n",
       "      <td>...</td>\n",
       "      <td>...</td>\n",
       "      <td>...</td>\n",
       "      <td>...</td>\n",
       "      <td>...</td>\n",
       "      <td>...</td>\n",
       "    </tr>\n",
       "    <tr>\n",
       "      <th>460914</th>\n",
       "      <td>12/2/2019 9:46:00 AM</td>\n",
       "      <td>5</td>\n",
       "      <td>7604 E 28TH AVE</td>\n",
       "      <td>Theft from Motor Vehicle</td>\n",
       "      <td>Theft of parts from a vehicle</td>\n",
       "      <td>39.755709</td>\n",
       "      <td>-104.899517</td>\n",
       "    </tr>\n",
       "    <tr>\n",
       "      <th>460915</th>\n",
       "      <td>12/4/2019 11:17:00 PM</td>\n",
       "      <td>6</td>\n",
       "      <td>2000 BLOCK E COLFAX AVE</td>\n",
       "      <td>Drug &amp; Alcohol</td>\n",
       "      <td>Illegal possession of liquor</td>\n",
       "      <td>39.739432</td>\n",
       "      <td>-104.963127</td>\n",
       "    </tr>\n",
       "    <tr>\n",
       "      <th>460916</th>\n",
       "      <td>12/28/2019 8:27:00 PM</td>\n",
       "      <td>4</td>\n",
       "      <td>1200 BLK S QUIVAS ST</td>\n",
       "      <td>Traffic Accident</td>\n",
       "      <td>Traffic accident - DUI-DUID</td>\n",
       "      <td>39.693792</td>\n",
       "      <td>-105.006446</td>\n",
       "    </tr>\n",
       "    <tr>\n",
       "      <th>460917</th>\n",
       "      <td>11/17/2019 4:52:00 PM</td>\n",
       "      <td>6</td>\n",
       "      <td>1717 CHAMPA ST</td>\n",
       "      <td>All Other Crimes</td>\n",
       "      <td>Violation of a restraining order</td>\n",
       "      <td>39.747876</td>\n",
       "      <td>-104.992694</td>\n",
       "    </tr>\n",
       "    <tr>\n",
       "      <th>460918</th>\n",
       "      <td>12/27/2019 7:57:00 AM</td>\n",
       "      <td>6</td>\n",
       "      <td>22ND ST / ARAPAHOE ST</td>\n",
       "      <td>Traffic Accident</td>\n",
       "      <td>Traffic accident - hit and run</td>\n",
       "      <td>39.753477</td>\n",
       "      <td>-104.988424</td>\n",
       "    </tr>\n",
       "  </tbody>\n",
       "</table>\n",
       "<p>460919 rows × 7 columns</p>\n",
       "</div>"
      ],
      "text/plain": [
       "                         Date  District                   Street  \\\n",
       "0       6/15/2016 11:31:00 PM         5                      NaN   \n",
       "1        1/29/2018 5:53:00 PM         5                      NaN   \n",
       "2        4/26/2016 9:02:00 PM         3      2932 S JOSEPHINE ST   \n",
       "3       1/30/2018 10:29:00 PM         3      705 S COLORADO BLVD   \n",
       "4        6/23/2017 4:09:00 PM         3           2810 E 1ST AVE   \n",
       "...                       ...       ...                      ...   \n",
       "460914   12/2/2019 9:46:00 AM         5          7604 E 28TH AVE   \n",
       "460915  12/4/2019 11:17:00 PM         6  2000 BLOCK E COLFAX AVE   \n",
       "460916  12/28/2019 8:27:00 PM         4     1200 BLK S QUIVAS ST   \n",
       "460917  11/17/2019 4:52:00 PM         6           1717 CHAMPA ST   \n",
       "460918  12/27/2019 7:57:00 AM         6    22ND ST / ARAPAHOE ST   \n",
       "\n",
       "                       CrimeType                       CrimeDetail       Long  \\\n",
       "0               All Other Crimes    Unlawful discharge of a weapon  39.773188   \n",
       "1                        Larceny                     Theft - other  39.785649   \n",
       "2       Theft from Motor Vehicle     Theft of items from a vehicle  39.663490   \n",
       "3                        Larceny                     Theft - other  39.702698   \n",
       "4                        Larceny                       Shoplifting  39.717107   \n",
       "...                          ...                               ...        ...   \n",
       "460914  Theft from Motor Vehicle     Theft of parts from a vehicle  39.755709   \n",
       "460915            Drug & Alcohol      Illegal possession of liquor  39.739432   \n",
       "460916          Traffic Accident       Traffic accident - DUI-DUID  39.693792   \n",
       "460917          All Other Crimes  Violation of a restraining order  39.747876   \n",
       "460918          Traffic Accident    Traffic accident - hit and run  39.753477   \n",
       "\n",
       "               Lat  \n",
       "0      -104.809881  \n",
       "1      -104.781434  \n",
       "2      -104.957381  \n",
       "3      -104.941440  \n",
       "4      -104.955370  \n",
       "...            ...  \n",
       "460914 -104.899517  \n",
       "460915 -104.963127  \n",
       "460916 -105.006446  \n",
       "460917 -104.992694  \n",
       "460918 -104.988424  \n",
       "\n",
       "[460919 rows x 7 columns]"
      ]
     },
     "execution_count": 23,
     "metadata": {},
     "output_type": "execute_result"
    }
   ],
   "source": [
    "newdf"
   ]
  },
  {
   "cell_type": "code",
   "execution_count": 5,
   "metadata": {},
   "outputs": [],
   "source": [
    "newdf.to_csv(\"DenverCrimeF.csv\")"
   ]
  },
  {
   "cell_type": "code",
   "execution_count": null,
   "metadata": {},
   "outputs": [],
   "source": []
  }
 ],
 "metadata": {
  "kernelspec": {
   "display_name": "Python 3",
   "language": "python",
   "name": "python3"
  },
  "language_info": {
   "codemirror_mode": {
    "name": "ipython",
    "version": 3
   },
   "file_extension": ".py",
   "mimetype": "text/x-python",
   "name": "python",
   "nbconvert_exporter": "python",
   "pygments_lexer": "ipython3",
   "version": "3.7.6"
  }
 },
 "nbformat": 4,
 "nbformat_minor": 2
}
