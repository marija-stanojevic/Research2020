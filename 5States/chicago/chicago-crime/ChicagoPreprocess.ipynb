{
 "cells": [
  {
   "cell_type": "code",
   "execution_count": 1,
   "metadata": {},
   "outputs": [],
   "source": [
    "import pandas as pd\n",
    "import numpy as np"
   ]
  },
  {
   "cell_type": "code",
   "execution_count": 2,
   "metadata": {},
   "outputs": [],
   "source": [
    "df=pd.read_csv(\"crime.csv\",engine='python')\n"
   ]
  },
  {
   "cell_type": "code",
   "execution_count": 4,
   "metadata": {},
   "outputs": [
    {
     "data": {
      "text/plain": [
       "ID                                             4647370\n",
       "Case Number                                   HM245080\n",
       "Date                            03/21/2006 07:00:00 PM\n",
       "Block                              062XX S WESTERN AVE\n",
       "IUCR                                              1330\n",
       "Primary Type                         CRIMINAL TRESPASS\n",
       "Description                                    TO LAND\n",
       "Location Description    PARKING LOT/GARAGE(NON.RESID.)\n",
       "Arrest                                            True\n",
       "Domestic                                         False\n",
       "Beat                                               825\n",
       "District                                             8\n",
       "Ward                                                15\n",
       "Community Area                                      66\n",
       "FBI Code                                            26\n",
       "X Coordinate                               1.16144e+06\n",
       "Y Coordinate                               1.86331e+06\n",
       "Year                                              2006\n",
       "Updated On                      04/15/2016 08:55:02 AM\n",
       "Latitude                                       41.7806\n",
       "Longitude                                     -87.6837\n",
       "Location                  (41.780595495, -87.68367553)\n",
       "Name: 1, dtype: object"
      ]
     },
     "execution_count": 4,
     "metadata": {},
     "output_type": "execute_result"
    }
   ],
   "source": [
    "df.iloc[1]"
   ]
  },
  {
   "cell_type": "code",
   "execution_count": 7,
   "metadata": {},
   "outputs": [],
   "source": [
    "newdf=pd.DataFrame()\n",
    "newdf['Date']=df['Date']\n",
    "newdf['LocalDes']=df['Location Description']\n",
    "newdf[\"Street\"]=df['Block']\n",
    "newdf['CrimeType']=df['Primary Type']\n",
    "newdf['Description']=df['Description']\n",
    "newdf['Long']=df['Longitude']\n",
    "newdf[\"Lat\"]=df[\"Latitude\"]"
   ]
  },
  {
   "cell_type": "code",
   "execution_count": 9,
   "metadata": {},
   "outputs": [],
   "source": [
    "newdf.to_csv(\"ChiCrimeF.csv\")"
   ]
  },
  {
   "cell_type": "code",
   "execution_count": null,
   "metadata": {},
   "outputs": [],
   "source": []
  }
 ],
 "metadata": {
  "kernelspec": {
   "display_name": "Python 3",
   "language": "python",
   "name": "python3"
  },
  "language_info": {
   "codemirror_mode": {
    "name": "ipython",
    "version": 3
   },
   "file_extension": ".py",
   "mimetype": "text/x-python",
   "name": "python",
   "nbconvert_exporter": "python",
   "pygments_lexer": "ipython3",
   "version": "3.7.6"
  }
 },
 "nbformat": 4,
 "nbformat_minor": 2
}
