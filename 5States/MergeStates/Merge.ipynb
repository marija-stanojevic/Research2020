{
 "cells": [
  {
   "cell_type": "code",
   "execution_count": 1,
   "metadata": {},
   "outputs": [],
   "source": [
    "import pandas as pd\n",
    "import numpy as np\n",
    "from datetime import datetime"
   ]
  },
  {
   "cell_type": "code",
   "execution_count": 2,
   "metadata": {},
   "outputs": [],
   "source": [
    "df1=pd.read_csv(\"BostonCrimeF.csv\")\n",
    "df2=pd.read_csv(\"ChiCrimeF.csv\")\n",
    "df3=pd.read_csv(\"DenverCrimeF.csv\")\n",
    "df4=pd.read_csv(\"PhillyCrimeF.csv\")\n",
    "df5=pd.read_csv(\"SFCrimeF.csv\")\n"
   ]
  },
  {
   "cell_type": "code",
   "execution_count": 4,
   "metadata": {},
   "outputs": [
    {
     "data": {
      "text/plain": [
       "Date           2018-08-21\n",
       "Street           HECLA ST\n",
       "CrimeType       Vandalism\n",
       "CrimeDetail     VANDALISM\n",
       "Long             -71.0603\n",
       "Lat               42.3068\n",
       "Name: 1, dtype: object"
      ]
     },
     "execution_count": 4,
     "metadata": {},
     "output_type": "execute_result"
    }
   ],
   "source": [
    "df1.iloc[1]"
   ]
  },
  {
   "cell_type": "code",
   "execution_count": 5,
   "metadata": {},
   "outputs": [
    {
     "data": {
      "text/plain": [
       "Date                             2006-02-09\n",
       "LocalDes                             STREET\n",
       "Street                  058XX S SHIELDS AVE\n",
       "CrimeType                         NARCOTICS\n",
       "Description    POSS: CANNABIS 30GMS OR LESS\n",
       "Long                                -87.634\n",
       "Lat                                  41.788\n",
       "Name: 2, dtype: object"
      ]
     },
     "execution_count": 5,
     "metadata": {},
     "output_type": "execute_result"
    }
   ],
   "source": [
    "df2.iloc[2]"
   ]
  },
  {
   "cell_type": "code",
   "execution_count": 6,
   "metadata": {},
   "outputs": [
    {
     "data": {
      "text/plain": [
       "Date              2018-01-29\n",
       "Street                   NaN\n",
       "CrimeType            Larceny\n",
       "CrimeDetail    Theft - other\n",
       "Long                -104.781\n",
       "Lat                  39.7856\n",
       "Name: 1, dtype: object"
      ]
     },
     "execution_count": 6,
     "metadata": {},
     "output_type": "execute_result"
    }
   ],
   "source": [
    "df3.iloc[1]"
   ]
  },
  {
   "cell_type": "code",
   "execution_count": 7,
   "metadata": {},
   "outputs": [
    {
     "data": {
      "text/plain": [
       "Date                 2009-05-10\n",
       "Street         8500 BLOCK MITCH\n",
       "CrimeType    All Other Offenses\n",
       "Long                        NaN\n",
       "Lat                         NaN\n",
       "Name: 1, dtype: object"
      ]
     },
     "execution_count": 7,
     "metadata": {},
     "output_type": "execute_result"
    }
   ],
   "source": [
    "df4.iloc[1]"
   ]
  },
  {
   "cell_type": "code",
   "execution_count": 41,
   "metadata": {},
   "outputs": [],
   "source": [
    "DateCol=[]\n",
    "Street=[]\n",
    "LocDescription=[]\n",
    "CrimeType=[]\n",
    "CrimeDescription=[]\n",
    "Longtitude=[]\n",
    "Latitude=[]\n",
    "City=[]"
   ]
  },
  {
   "cell_type": "code",
   "execution_count": 42,
   "metadata": {},
   "outputs": [],
   "source": [
    "#Add datafrom df1\n",
    "for i in range(len(df1)):\n",
    "    DateCol.append(df1.iloc[i][\"Date\"])\n",
    "    Street.append(df1.iloc[i]['Street'])\n",
    "    LocDescription.append(np.nan)\n",
    "    CrimeType.append(df1.iloc[i]['CrimeType'].lower())\n",
    "    CrimeDescription.append(df1.iloc[i]['CrimeDetail'].lower())\n",
    "    Longtitude.append(df1.iloc[i]['Long'])\n",
    "    Latitude.append(df1.iloc[i][\"Lat\"])\n",
    "    City.append(\"Boston\")"
   ]
  },
  {
   "cell_type": "code",
   "execution_count": 43,
   "metadata": {},
   "outputs": [],
   "source": [
    "#Add datafrom df2\n",
    "for i in range(len(df2)):\n",
    "    DateCol.append(df2.iloc[i][\"Date\"])\n",
    "    Street.append(df2.iloc[i]['Street'])\n",
    "    LocDescription.append(df2.iloc[i]['LocalDes'])\n",
    "    CrimeType.append(df2.iloc[i]['CrimeType'].lower())\n",
    "    CrimeDescription.append(df2.iloc[i]['Description'].lower())\n",
    "    Longtitude.append(df2.iloc[i]['Long'])\n",
    "    Latitude.append(df2.iloc[i][\"Lat\"])\n",
    "    City.append(\"Chicago\")"
   ]
  },
  {
   "cell_type": "code",
   "execution_count": 44,
   "metadata": {},
   "outputs": [],
   "source": [
    "#Add datafrom df3\n",
    "for i in range(len(df3)):\n",
    "    DateCol.append(df3.iloc[i][\"Date\"])\n",
    "    Street.append(df3.iloc[i]['Street'])\n",
    "    LocDescription.append(np.nan)\n",
    "    CrimeType.append(df3.iloc[i]['CrimeType'].lower())\n",
    "    CrimeDescription.append(df3.iloc[i]['CrimeDetail'].lower())\n",
    "    Longtitude.append(df3.iloc[i]['Long'])\n",
    "    Latitude.append(df3.iloc[i][\"Lat\"])\n",
    "    City.append(\"Denver\")"
   ]
  },
  {
   "cell_type": "code",
   "execution_count": 45,
   "metadata": {},
   "outputs": [],
   "source": [
    "#Add datafrom df4\n",
    "for i in range(len(df4)):\n",
    "    DateCol.append(df4.iloc[i][\"Date\"])\n",
    "    Street.append(df4.iloc[i]['Street'])\n",
    "    LocDescription.append(np.nan)\n",
    "    CrimeType.append(df4.iloc[i]['CrimeType'].lower())\n",
    "    CrimeDescription.append(np.nan)\n",
    "    Longtitude.append(df4.iloc[i]['Long'])\n",
    "    Latitude.append(df4.iloc[i][\"Lat\"])\n",
    "    City.append(\"Philly\")"
   ]
  },
  {
   "cell_type": "code",
   "execution_count": 46,
   "metadata": {},
   "outputs": [],
   "source": [
    "#Add datafrom df5\n",
    "for i in range(len(df5)):\n",
    "    DateCol.append(df5.iloc[i][\"Date\"][:10])\n",
    "    Street.append(df5.iloc[i]['Street'])\n",
    "    LocDescription.append(np.nan)\n",
    "    CrimeType.append(df5.iloc[i]['CrimeType'].lower())\n",
    "    CrimeDescription.append(df5.iloc[i]['CrimeDetail'].lower())\n",
    "    Longtitude.append(df5.iloc[i]['Long'])\n",
    "    Latitude.append(df5.iloc[i][\"Lat\"])\n",
    "    City.append(\"San Fransico\")"
   ]
  },
  {
   "cell_type": "code",
   "execution_count": 49,
   "metadata": {},
   "outputs": [],
   "source": [
    "df=pd.DataFrame()\n",
    "df['Date']=DateCol\n",
    "df['Street']=Street\n",
    "df['LocDescription']=LocDescription\n",
    "df['CrimeType']=CrimeType\n",
    "df['CrimeDetail']=CrimeDescription\n",
    "df['Longtitude']=Longtitude\n",
    "df['Latitude']=Latitude\n",
    "df['City']=City"
   ]
  },
  {
   "cell_type": "code",
   "execution_count": 51,
   "metadata": {},
   "outputs": [],
   "source": [
    "df.to_csv('5states.csv')"
   ]
  },
  {
   "cell_type": "code",
   "execution_count": null,
   "metadata": {},
   "outputs": [],
   "source": []
  }
 ],
 "metadata": {
  "kernelspec": {
   "display_name": "Python 3",
   "language": "python",
   "name": "python3"
  },
  "language_info": {
   "codemirror_mode": {
    "name": "ipython",
    "version": 3
   },
   "file_extension": ".py",
   "mimetype": "text/x-python",
   "name": "python",
   "nbconvert_exporter": "python",
   "pygments_lexer": "ipython3",
   "version": "3.7.6"
  }
 },
 "nbformat": 4,
 "nbformat_minor": 2
}
