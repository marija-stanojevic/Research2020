{
 "cells": [
  {
   "cell_type": "code",
   "execution_count": 3,
   "metadata": {},
   "outputs": [],
   "source": [
    "import pandas as pd\n",
    "import numpy as np"
   ]
  },
  {
   "cell_type": "code",
   "execution_count": 4,
   "metadata": {},
   "outputs": [],
   "source": [
    "df=pd.read_csv(\"Mass Shootings Dataset.csv\",engine='python')\n",
    "df1=pd.read_csv(\"Mass Shootings Dataset Ver 2.csv\",engine='python')\n",
    "df2=pd.read_csv(\"Mass Shootings Dataset Ver 3.csv\",engine='python')\n",
    "df3=pd.read_csv(\"Mass Shootings Dataset Ver 4.csv\",engine='python')\n",
    "df4=pd.read_csv(\"Mass Shootings Dataset Ver 5.csv\",engine='python')"
   ]
  },
  {
   "cell_type": "code",
   "execution_count": 5,
   "metadata": {},
   "outputs": [],
   "source": [
    "newdf=pd.DataFrame()"
   ]
  },
  {
   "cell_type": "code",
   "execution_count": 15,
   "metadata": {},
   "outputs": [],
   "source": [
    "#Merge 5 dataset\n",
    "for i in range(len(df)):\n",
    "    newdf=newdf.append(df.iloc[i])\n",
    "\n",
    "for i in range(len(df1)):\n",
    "    newdf=newdf.append(df1.iloc[i])\n",
    "\n",
    "for i in range(len(df2)):\n",
    "    newdf=newdf.append(df2.iloc[i])\n",
    "\n",
    "for i in range(len(df3)):\n",
    "    newdf=newdf.append(df3.iloc[i])\n",
    "\n",
    "for i in range(len(df4)):\n",
    "    newdf=newdf.append(df4.iloc[i])\n"
   ]
  },
  {
   "cell_type": "code",
   "execution_count": 12,
   "metadata": {},
   "outputs": [
    {
     "data": {
      "text/plain": [
       "1681"
      ]
     },
     "execution_count": 12,
     "metadata": {},
     "output_type": "execute_result"
    }
   ],
   "source": [
    "len(df)+len(df1)+len(df2)+len(df3)+len(df4)"
   ]
  },
  {
   "cell_type": "code",
   "execution_count": 17,
   "metadata": {},
   "outputs": [],
   "source": [
    "newdf.to_csv(\"MassShooting.csv\")"
   ]
  },
  {
   "cell_type": "code",
   "execution_count": 18,
   "metadata": {},
   "outputs": [],
   "source": [
    "df=newdf"
   ]
  },
  {
   "cell_type": "code",
   "execution_count": 19,
   "metadata": {},
   "outputs": [
    {
     "data": {
      "text/plain": [
       "Date                                                            6/14/2017\n",
       "Fatalities                                                              3\n",
       "Gender                                                                  M\n",
       "Injured                                                                 2\n",
       "Latitude                                                              NaN\n",
       "Location                                                San Francisco, CA\n",
       "Longitude                                                             NaN\n",
       "Mental Health Issues                                                  Yes\n",
       "Race                                                                Asian\n",
       "S#                                                                      2\n",
       "Summary                 Jimmy Lam, 38, fatally shot three coworkers an...\n",
       "Title                                          San Francisco UPS shooting\n",
       "Total victims                                                           5\n",
       "Age                                                                   NaN\n",
       "Cause                                                                 NaN\n",
       "Employed at                                                           NaN\n",
       "Employeed (Y/N)                                                       NaN\n",
       "Incident Area                                                         NaN\n",
       "Open/Close Location                                                   NaN\n",
       "Policeman Killed                                                      NaN\n",
       "Target                                                                NaN\n",
       "Name: 1, dtype: object"
      ]
     },
     "execution_count": 19,
     "metadata": {},
     "output_type": "execute_result"
    }
   ],
   "source": [
    "newdf.iloc[1]"
   ]
  },
  {
   "cell_type": "code",
   "execution_count": 23,
   "metadata": {},
   "outputs": [],
   "source": [
    "summary=[]\n",
    "CrimeType=[]\n",
    "for i in range(len(df)):\n",
    "    summary.append(str(df.iloc[i]['Title'])+\":\"+str(df.iloc[i]['Summary'])) \n",
    "    CrimeType.append(\"shooting\")\n"
   ]
  },
  {
   "cell_type": "code",
   "execution_count": 29,
   "metadata": {},
   "outputs": [],
   "source": [
    "fdf=pd.DataFrame()\n",
    "fdf['Date']=df['Date']\n",
    "fdf['Location']=df['Location']\n",
    "fdf[\"CrimeType\"]=CrimeType\n",
    "fdf['Description']=summary\n",
    "fdf['Mental']=df['Mental Health Issues']\n",
    "fdf['PerpeGender']=df['Gender']\n",
    "fdf['PerpeAge']=df['Age']\n",
    "fdf['Race']=df['Race']\n",
    "fdf['LocDes']=df['Incident Area']\n",
    "fdf['Long']=df['Longitude']\n",
    "fdf['Lat']=df[\"Latitude\"]"
   ]
  },
  {
   "cell_type": "code",
   "execution_count": 31,
   "metadata": {},
   "outputs": [],
   "source": [
    "fdf.to_csv(\"FinalMassset.csv\")"
   ]
  },
  {
   "cell_type": "code",
   "execution_count": null,
   "metadata": {},
   "outputs": [],
   "source": []
  }
 ],
 "metadata": {
  "kernelspec": {
   "display_name": "Python 3",
   "language": "python",
   "name": "python3"
  },
  "language_info": {
   "codemirror_mode": {
    "name": "ipython",
    "version": 3
   },
   "file_extension": ".py",
   "mimetype": "text/x-python",
   "name": "python",
   "nbconvert_exporter": "python",
   "pygments_lexer": "ipython3",
   "version": "3.7.6"
  }
 },
 "nbformat": 4,
 "nbformat_minor": 2
}
