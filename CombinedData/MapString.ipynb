{
 "cells": [
  {
   "cell_type": "code",
   "execution_count": 1,
   "metadata": {},
   "outputs": [],
   "source": [
    "import pandas as pd\n",
    "import numpy as np\n",
    "import matplotlib.pyplot as plt"
   ]
  },
  {
   "cell_type": "code",
   "execution_count": 2,
   "metadata": {},
   "outputs": [
    {
     "name": "stderr",
     "output_type": "stream",
     "text": [
      "/Users/quangpham/anaconda3/lib/python3.7/site-packages/IPython/core/interactiveshell.py:3051: DtypeWarning: Columns (4,7,9,10,12,13,14,16,17,18,19,20,21,23,24,25,26,27) have mixed types. Specify dtype option on import or set low_memory=False.\n",
      "  interactivity=interactivity, compiler=compiler, result=result)\n"
     ]
    }
   ],
   "source": [
    "df=pd.read_csv(\"CrimeConnected.csv\")"
   ]
  },
  {
   "cell_type": "code",
   "execution_count": 3,
   "metadata": {},
   "outputs": [
    {
     "data": {
      "text/plain": [
       "Index(['Unnamed: 0', 'Unnamed: 0.1', 'Date', 'CrimeType', 'CrimeDetail', 'Lat',\n",
       "       'Long', 'LocDescription', 'City', 'Street', 'State', 'VictimAGe',\n",
       "       'VictimGender', 'VictimRace', 'VictimDescription', 'TotalVictims',\n",
       "       'PerpeName', 'PerpeMental', 'PerpeFlee', 'PerpeRace', 'PerpeGender',\n",
       "       'PerpeAge', 'PerpeNationlatiy', 'PerpeVicRelation', 'Weapon',\n",
       "       'Motivation', 'NewsCoverage', 'Property', 'CrimeMap', 'DataBase'],\n",
       "      dtype='object')"
      ]
     },
     "execution_count": 3,
     "metadata": {},
     "output_type": "execute_result"
    }
   ],
   "source": [
    "df.columns"
   ]
  },
  {
   "cell_type": "code",
   "execution_count": 4,
   "metadata": {},
   "outputs": [
    {
     "data": {
      "text/plain": [
       "Text(0.5, 1.0, 'Component of the final crime dataset')"
      ]
     },
     "execution_count": 4,
     "metadata": {},
     "output_type": "execute_result"
    },
    {
     "data": {
      "image/png": "[encoded data removed]",
      "text/plain": [
       "<Figure size 720x432 with 1 Axes>"
      ]
     },
     "metadata": {},
     "output_type": "display_data"
    }
   ],
   "source": [
    "df['DataBase'].value_counts()[:5].plot(kind='pie',figsize=[10,6], subplots=True,autopct='%1.1f%%')\n",
    "plt.title(\"Component of the final crime dataset\")"
   ]
  },
  {
   "cell_type": "code",
   "execution_count": 5,
   "metadata": {},
   "outputs": [],
   "source": [
    "df=df.loc[:, ~df.columns.str.contains('^Unnamed')]\n",
    "df=df.drop(columns='CrimeMap')"
   ]
  },
  {
   "cell_type": "code",
   "execution_count": 6,
   "metadata": {},
   "outputs": [
    {
     "name": "stdout",
     "output_type": "stream",
     "text": [
      "175\n"
     ]
    }
   ],
   "source": [
    "CrimeType=df['CrimeType']\n",
    "uniqueTypes = CrimeType.unique().tolist()\n",
    "uniqueTypes = [x.lower() for x in uniqueTypes]\n",
    "print(len(uniqueTypes))"
   ]
  },
  {
   "cell_type": "code",
   "execution_count": 7,
   "metadata": {},
   "outputs": [
    {
     "data": {
      "text/plain": [
       "Murder or Manslaughter:Yes         439444\n",
       "larceny/theft                      268292\n",
       "theft                              206732\n",
       "all other offenses                 205465\n",
       "Murder or Manslaughter:No          189894\n",
       "battery                            188251\n",
       "assault                            153630\n",
       "other offenses                     136672\n",
       "narcotics                          132399\n",
       "non-criminal                       128649\n",
       "criminal damage                    126521\n",
       "thefts                             125082\n",
       "other assaults                     123269\n",
       "burglary                           120946\n",
       "traffic accident                   120189\n",
       "vandalism/criminal mischief         97158\n",
       "all other crimes                    82485\n",
       "theft from vehicle                  79497\n",
       "fraud                               73982\n",
       "robbery                             73016\n",
       "larceny                             72233\n",
       "vandalism                           71219\n",
       "motor vehicle theft                 68351\n",
       "narcotic / drug law violations      65103\n",
       "other offense                       64677\n",
       "burglary residential                49104\n",
       "public disorder                     46453\n",
       "vehicle theft                       44609\n",
       "warrants                            44323\n",
       "recovered stolen motor vehicle      42274\n",
       "suspicious occ                      40366\n",
       "deceptive practice                  37270\n",
       "motor vehicle accident response     37132\n",
       "theft from motor vehicle            36778\n",
       "drug/narcotic                       36582\n",
       "aggravated assault no firearm       33047\n",
       "missing person                      31868\n",
       "criminal trespass                   31605\n",
       "auto theft                          30667\n",
       "drug & alcohol                      29382\n",
       "Name: CrimeType, dtype: int64"
      ]
     },
     "execution_count": 7,
     "metadata": {},
     "output_type": "execute_result"
    }
   ],
   "source": [
    "CrimeType.value_counts()[:40]"
   ]
  },
  {
   "cell_type": "code",
   "execution_count": 8,
   "metadata": {},
   "outputs": [
    {
     "name": "stdout",
     "output_type": "stream",
     "text": [
      "169\n"
     ]
    },
    {
     "data": {
      "text/plain": [
       "['auto theft',\n",
       " 'auto theft recovery',\n",
       " 'motor vehicle theft',\n",
       " 'recovered stolen motor vehicle',\n",
       " 'vehicle theft',\n",
       " 'recovered vehicle']"
      ]
     },
     "execution_count": 8,
     "metadata": {},
     "output_type": "execute_result"
    }
   ],
   "source": [
    "VehicleTheft=[] #keep\n",
    "for i in uniqueTypes:\n",
    "    if (('vehicle' in i or 'auto' in i) and 'accident' not in i and 'from' not in i):\n",
    "        if i not in VehicleTheft:\n",
    "            VehicleTheft.append(i)\n",
    "for i in VehicleTheft:\n",
    "    uniqueTypes.remove(i)\n",
    "print(len(uniqueTypes))\n",
    "VehicleTheft"
   ]
  },
  {
   "cell_type": "code",
   "execution_count": 9,
   "metadata": {},
   "outputs": [
    {
     "name": "stdout",
     "output_type": "stream",
     "text": [
      "151\n"
     ]
    },
    {
     "data": {
      "text/plain": [
       "['larceny',\n",
       " 'robbery',\n",
       " 'larceny from motor vehicle',\n",
       " 'residential burglary',\n",
       " 'other burglary',\n",
       " 'commercial burglary',\n",
       " 'burglary - no property taken',\n",
       " 'theft',\n",
       " 'burglary',\n",
       " 'theft from motor vehicle',\n",
       " 'thefts',\n",
       " 'burglary non-residential',\n",
       " 'theft from vehicle',\n",
       " 'robbery no firearm',\n",
       " 'robbery firearm',\n",
       " 'burglary residential',\n",
       " 'larceny/theft',\n",
       " 'hijacking']"
      ]
     },
     "execution_count": 9,
     "metadata": {},
     "output_type": "execute_result"
    }
   ],
   "source": [
    "robbery=[] #robbery, burglary  #keep\n",
    "for i in uniqueTypes:\n",
    "    if ('robbery' in i or 'burglary' in i or 'theft' in i or 'larceny' in i or 'hijacking' in i):\n",
    "        if i not in robbery:\n",
    "            robbery.append(i)\n",
    "for i in robbery:\n",
    "    uniqueTypes.remove(i)\n",
    "print(len(uniqueTypes))\n",
    "robbery"
   ]
  },
  {
   "cell_type": "code",
   "execution_count": 10,
   "metadata": {},
   "outputs": [
    {
     "name": "stdout",
     "output_type": "stream",
     "text": [
      "137\n"
     ]
    },
    {
     "data": {
      "text/plain": [
       "['drug violation',\n",
       " 'liquor violation',\n",
       " 'operating under the influence',\n",
       " 'narcotics',\n",
       " 'liquor law violation',\n",
       " 'other narcotic violation',\n",
       " 'drug & alcohol',\n",
       " 'driving under the influence',\n",
       " 'narcotic / drug law violations',\n",
       " 'liquor law violations',\n",
       " 'public drunkenness',\n",
       " 'drug/narcotic',\n",
       " 'liquor laws',\n",
       " 'drunkenness']"
      ]
     },
     "execution_count": 10,
     "metadata": {},
     "output_type": "execute_result"
    }
   ],
   "source": [
    "drug=[]#nacrotic, drug #remove\n",
    "for i in uniqueTypes:\n",
    "    if ('nacortic' in i or 'drug' in i or 'narcotic' in i or 'liquor' in i or 'influence' in i or 'drunk' in i) :\n",
    "        if i not in drug:\n",
    "            drug.append(i)     \n",
    "for i in drug:\n",
    "    uniqueTypes.remove(i)\n",
    "print(len(uniqueTypes))\n",
    "drug"
   ]
  },
  {
   "cell_type": "code",
   "execution_count": 11,
   "metadata": {},
   "outputs": [
    {
     "name": "stdout",
     "output_type": "stream",
     "text": [
      "128\n"
     ]
    },
    {
     "data": {
      "text/plain": [
       "['fraud',\n",
       " 'counterfeiting',\n",
       " 'confidence games',\n",
       " 'embezzlement',\n",
       " 'deceptive practice',\n",
       " 'white collar crime',\n",
       " 'forgery and counterfeiting',\n",
       " 'forgery/counterfeiting',\n",
       " 'bad checks']"
      ]
     },
     "execution_count": 11,
     "metadata": {},
     "output_type": "execute_result"
    }
   ],
   "source": [
    "fraud=[]#fraud #keep\n",
    "for i in uniqueTypes:\n",
    "    if ('fraud' in i or 'deceptive' in i or 'counterfeit' in i or 'bad checks' in i or 'games' in i or 'embezzlement' in i or 'collar' in i) :\n",
    "        if i not in fraud:\n",
    "            fraud.append(i)\n",
    "for i in fraud:\n",
    "    uniqueTypes.remove(i)\n",
    "print(len(uniqueTypes))\n",
    "fraud"
   ]
  },
  {
   "cell_type": "code",
   "execution_count": 12,
   "metadata": {},
   "outputs": [
    {
     "name": "stdout",
     "output_type": "stream",
     "text": [
      "120\n"
     ]
    },
    {
     "data": {
      "text/plain": [
       "['battery',\n",
       " 'crim sexual assault',\n",
       " 'sex offense',\n",
       " 'sexual assault',\n",
       " 'rape',\n",
       " 'other sex offenses (not commercialized)',\n",
       " 'sex offenses, forcible',\n",
       " 'sex offenses, non forcible']"
      ]
     },
     "execution_count": 12,
     "metadata": {},
     "output_type": "execute_result"
    }
   ],
   "source": [
    "sexual=[]#sexual #keep\n",
    "for i in uniqueTypes:\n",
    "    if ('sex' in i or 'battery' in i or 'rape' in i) :\n",
    "        if i not in sexual:\n",
    "            sexual.append(i)\n",
    "for i in sexual:\n",
    "    uniqueTypes.remove(i)\n",
    "print(len(uniqueTypes))\n",
    "sexual"
   ]
  },
  {
   "cell_type": "code",
   "execution_count": 13,
   "metadata": {},
   "outputs": [
    {
     "name": "stdout",
     "output_type": "stream",
     "text": [
      "117\n"
     ]
    },
    {
     "data": {
      "text/plain": [
       "['warrant arrests', 'search warrants', 'warrants']"
      ]
     },
     "execution_count": 13,
     "metadata": {},
     "output_type": "execute_result"
    }
   ],
   "source": [
    "warrant=[]#warrant #remove\n",
    "for i in uniqueTypes:\n",
    "    if ('warrant' in i) :\n",
    "        if i not in warrant:\n",
    "            warrant.append(i)\n",
    "for i in warrant:\n",
    "    uniqueTypes.remove(i)\n",
    "print(len(uniqueTypes))\n",
    "warrant"
   ]
  },
  {
   "cell_type": "code",
   "execution_count": 14,
   "metadata": {},
   "outputs": [
    {
     "name": "stdout",
     "output_type": "stream",
     "text": [
      "113\n"
     ]
    },
    {
     "data": {
      "text/plain": [
       "['missing person reported',\n",
       " 'missing person located',\n",
       " 'missing person',\n",
       " 'runaway']"
      ]
     },
     "execution_count": 14,
     "metadata": {},
     "output_type": "execute_result"
    }
   ],
   "source": [
    "missing=[]#missing #keep\n",
    "for i in uniqueTypes:\n",
    "    if ('missing' in i or 'runaway' in i) :\n",
    "        if i not in missing:\n",
    "            missing.append(i)\n",
    "for i in missing:\n",
    "    uniqueTypes.remove(i)\n",
    "print(len(uniqueTypes))\n",
    "missing"
   ]
  },
  {
   "cell_type": "code",
   "execution_count": 15,
   "metadata": {},
   "outputs": [
    {
     "name": "stdout",
     "output_type": "stream",
     "text": [
      "111\n"
     ]
    },
    {
     "data": {
      "text/plain": [
       "['motor vehicle accident response', 'traffic accident']"
      ]
     },
     "execution_count": 15,
     "metadata": {},
     "output_type": "execute_result"
    }
   ],
   "source": [
    "accident=[]   #remove\n",
    "for i in uniqueTypes:\n",
    "    if('accident' in i):\n",
    "        if i not in accident:\n",
    "            accident.append(i)\n",
    "for i in accident:\n",
    "    uniqueTypes.remove(i)\n",
    "print(len(uniqueTypes))\n",
    "accident\n"
   ]
  },
  {
   "cell_type": "code",
   "execution_count": 16,
   "metadata": {},
   "outputs": [
    {
     "name": "stdout",
     "output_type": "stream",
     "text": [
      "108\n"
     ]
    },
    {
     "data": {
      "text/plain": [
       "['weapons violation', 'weapon violations', 'weapon laws']"
      ]
     },
     "execution_count": 16,
     "metadata": {},
     "output_type": "execute_result"
    }
   ],
   "source": [
    "weapon=[]   #remove\n",
    "for i in uniqueTypes:\n",
    "    if('weapon' in i):\n",
    "        if i not in weapon:\n",
    "            weapon.append(i)\n",
    "for i in weapon:\n",
    "    uniqueTypes.remove(i)\n",
    "print(len(uniqueTypes))\n",
    "weapon"
   ]
  },
  {
   "cell_type": "code",
   "execution_count": 17,
   "metadata": {},
   "outputs": [
    {
     "name": "stdout",
     "output_type": "stream",
     "text": [
      "106\n"
     ]
    },
    {
     "data": {
      "text/plain": [
       "['prostitution', 'prostitution and commercialized vice']"
      ]
     },
     "execution_count": 17,
     "metadata": {},
     "output_type": "execute_result"
    }
   ],
   "source": [
    "prostitution=[]   #keep\n",
    "for i in uniqueTypes:\n",
    "    if('prostitution' in i):\n",
    "        if i not in prostitution:\n",
    "            prostitution.append(i)\n",
    "for i in prostitution:\n",
    "    uniqueTypes.remove(i)\n",
    "print(len(uniqueTypes))\n",
    "prostitution\n"
   ]
  },
  {
   "cell_type": "code",
   "execution_count": 18,
   "metadata": {},
   "outputs": [
    {
     "name": "stdout",
     "output_type": "stream",
     "text": [
      "96\n"
     ]
    },
    {
     "data": {
      "text/plain": [
       "['homicide',\n",
       " 'manslaughter',\n",
       " 'murder',\n",
       " 'homicide - criminal',\n",
       " 'homicide - gross negligence',\n",
       " 'assassination',\n",
       " 'murder or manslaughter:yes',\n",
       " 'murder or manslaughter:no',\n",
       " 'manslaughter by negligence:yes',\n",
       " 'manslaughter by negligence:no']"
      ]
     },
     "execution_count": 18,
     "metadata": {},
     "output_type": "execute_result"
    }
   ],
   "source": [
    "murder=[] # murder or manslaughter  #keep\n",
    "for i in uniqueTypes:\n",
    "    if ('murder' in i or 'manslaughter' in i or 'homicide' in i or 'assassination' in i) :\n",
    "        if i not in murder:\n",
    "            murder.append(i)\n",
    "for i in murder:\n",
    "    uniqueTypes.remove(i)\n",
    "print(len(uniqueTypes))\n",
    "murder"
   ]
  },
  {
   "cell_type": "code",
   "execution_count": 19,
   "metadata": {},
   "outputs": [
    {
     "name": "stdout",
     "output_type": "stream",
     "text": [
      "88\n"
     ]
    },
    {
     "data": {
      "text/plain": [
       "['investigate property',\n",
       " 'property lost',\n",
       " 'property found',\n",
       " 'property related damage',\n",
       " 'home invasion',\n",
       " 'recovered stolen property',\n",
       " 'receiving stolen property',\n",
       " 'stolen property']"
      ]
     },
     "execution_count": 19,
     "metadata": {},
     "output_type": "execute_result"
    }
   ],
   "source": [
    "propertyl=[] #property  #keep\n",
    "for i in uniqueTypes:\n",
    "    if('property' in i or 'home' in i):\n",
    "        if i not in propertyl:\n",
    "            propertyl.append(i)\n",
    "for i in propertyl:\n",
    "    uniqueTypes.remove(i)\n",
    "print(len(uniqueTypes))\n",
    "propertyl"
   ]
  },
  {
   "cell_type": "code",
   "execution_count": 20,
   "metadata": {},
   "outputs": [
    {
     "name": "stdout",
     "output_type": "stream",
     "text": [
      "84\n"
     ]
    },
    {
     "data": {
      "text/plain": [
       "['vandalism',\n",
       " 'criminal damage',\n",
       " 'vandalism/criminal mischief',\n",
       " 'facility/infrastructure attack']"
      ]
     },
     "execution_count": 20,
     "metadata": {},
     "output_type": "execute_result"
    }
   ],
   "source": [
    "vandalism=[]#vandalism #keep\n",
    "for i in uniqueTypes:\n",
    "    if ('vandalism' in i or 'damage' in i or 'facility' in i) :\n",
    "        if i not in vandalism:\n",
    "            vandalism.append(i)\n",
    "for i in vandalism:\n",
    "    uniqueTypes.remove(i)\n",
    "print(len(uniqueTypes))\n",
    "vandalism"
   ]
  },
  {
   "cell_type": "code",
   "execution_count": 21,
   "metadata": {},
   "outputs": [
    {
     "name": "stdout",
     "output_type": "stream",
     "text": [
      "79\n"
     ]
    },
    {
     "data": {
      "text/plain": [
       "['human trafficking',\n",
       " 'human trafficking - involuntary servitude',\n",
       " 'kidnapping',\n",
       " 'hostage taking (kidnapping)',\n",
       " 'hostage taking (barricade incident)']"
      ]
     },
     "execution_count": 21,
     "metadata": {},
     "output_type": "execute_result"
    }
   ],
   "source": [
    "hostage=[]  #keep\n",
    "for i in uniqueTypes:\n",
    "    if('hostage' in i or 'kidnap' in i or 'trafficking' in i):\n",
    "        if i not in hostage:\n",
    "            hostage.append(i)\n",
    "for i in hostage:\n",
    "    uniqueTypes.remove(i)\n",
    "print(len(uniqueTypes))\n",
    "hostage"
   ]
  },
  {
   "cell_type": "code",
   "execution_count": 22,
   "metadata": {},
   "outputs": [
    {
     "name": "stdout",
     "output_type": "stream",
     "text": [
      "61\n"
     ]
    },
    {
     "data": {
      "text/plain": [
       "['simple assault',\n",
       " 'investigate person',\n",
       " 'aggravated assault',\n",
       " 'offenses against child / family',\n",
       " 'other offense',\n",
       " 'assault',\n",
       " 'offense involving children',\n",
       " 'ritualism',\n",
       " 'other crimes against persons',\n",
       " 'other assaults',\n",
       " 'all other offenses',\n",
       " 'aggravated assault firearm',\n",
       " 'aggravated assault no firearm',\n",
       " 'offenses against family and children',\n",
       " 'other offenses',\n",
       " 'family offenses',\n",
       " 'armed assault',\n",
       " 'unarmed assault']"
      ]
     },
     "execution_count": 22,
     "metadata": {},
     "output_type": "execute_result"
    }
   ],
   "source": [
    "assault=[] #offense  #keep\n",
    "for i in uniqueTypes:\n",
    "    if ('assault' in i or 'offense' in i or 'ritualism' in i or 'person' in i):\n",
    "        if i not in assault:\n",
    "            assault.append(i)\n",
    "for i in assault:\n",
    "    uniqueTypes.remove(i)\n",
    "print(len(uniqueTypes))\n",
    "assault"
   ]
  },
  {
   "cell_type": "code",
   "execution_count": 23,
   "metadata": {},
   "outputs": [
    {
     "name": "stdout",
     "output_type": "stream",
     "text": [
      "59\n"
     ]
    },
    {
     "data": {
      "text/plain": [
       "['gambling', 'gambling violations']"
      ]
     },
     "execution_count": 23,
     "metadata": {},
     "output_type": "execute_result"
    }
   ],
   "source": [
    "gambling=[] #offense  #remove\n",
    "for i in uniqueTypes:\n",
    "    if ('gambl' in i):\n",
    "        if i not in gambling:\n",
    "            gambling.append(i)\n",
    "for i in gambling:\n",
    "    uniqueTypes.remove(i)\n",
    "print(len(uniqueTypes))\n",
    "gambling"
   ]
  },
  {
   "cell_type": "code",
   "execution_count": 24,
   "metadata": {},
   "outputs": [
    {
     "name": "stdout",
     "output_type": "stream",
     "text": [
      "57\n"
     ]
    },
    {
     "data": {
      "text/plain": [
       "['verbal disputes', 'landlord/tenant disputes']"
      ]
     },
     "execution_count": 24,
     "metadata": {},
     "output_type": "execute_result"
    }
   ],
   "source": [
    "disputes=[]  #remove\n",
    "for i in uniqueTypes:\n",
    "    if ('disputes' in i):\n",
    "        if i not in disputes:\n",
    "            disputes.append(i)\n",
    "for i in disputes:\n",
    "    uniqueTypes.remove(i)\n",
    "print(len(uniqueTypes))\n",
    "disputes"
   ]
  },
  {
   "cell_type": "code",
   "execution_count": 25,
   "metadata": {},
   "outputs": [
    {
     "name": "stdout",
     "output_type": "stream",
     "text": [
      "55\n"
     ]
    },
    {
     "data": {
      "text/plain": [
       "['prisoner related incidents', 'interference with public officer']"
      ]
     },
     "execution_count": 25,
     "metadata": {},
     "output_type": "execute_result"
    }
   ],
   "source": [
    "policeRelatedIncidents=[] #remove\n",
    "for i in uniqueTypes:\n",
    "    if ('officer' in i or 'prisoner' in i):\n",
    "        if i not in policeRelatedIncidents:\n",
    "            policeRelatedIncidents.append(i)\n",
    "for i in policeRelatedIncidents:\n",
    "    uniqueTypes.remove(i)\n",
    "print(len(uniqueTypes))\n",
    "policeRelatedIncidents"
   ]
  },
  {
   "cell_type": "code",
   "execution_count": 26,
   "metadata": {},
   "outputs": [
    {
     "name": "stdout",
     "output_type": "stream",
     "text": [
      "46\n"
     ]
    },
    {
     "data": {
      "text/plain": [
       "['disorderly conduct',\n",
       " 'criminal trespass',\n",
       " 'public peace violation',\n",
       " 'public indecency',\n",
       " 'public disorder',\n",
       " 'vagrancy/loitering',\n",
       " 'trespass',\n",
       " 'loitering',\n",
       " 'trea']"
      ]
     },
     "execution_count": 26,
     "metadata": {},
     "output_type": "execute_result"
    }
   ],
   "source": [
    "trespass=[]    #remove\n",
    "for i in uniqueTypes:\n",
    "    if('trespass' in i or 'loitering' in i or 'disorder' in i or 'trea' in i or 'public' in i):\n",
    "        if i not in trespass:\n",
    "            trespass.append(i)\n",
    "for i in trespass:\n",
    "    uniqueTypes.remove(i)\n",
    "print(len(uniqueTypes))\n",
    "trespass"
   ]
  },
  {
   "cell_type": "code",
   "execution_count": 27,
   "metadata": {},
   "outputs": [
    {
     "name": "stdout",
     "output_type": "stream",
     "text": [
      "43\n"
     ]
    },
    {
     "data": {
      "text/plain": [
       "['explosives', 'biological threat', 'bombing/explosion']"
      ]
     },
     "execution_count": 27,
     "metadata": {},
     "output_type": "execute_result"
    }
   ],
   "source": [
    "explosives=[] #keep\n",
    "for i in uniqueTypes:\n",
    "    if ('explos' in i or 'biological' in i):\n",
    "        if i not in explosives:\n",
    "            explosives.append(i)\n",
    "for i in explosives:\n",
    "    uniqueTypes.remove(i)\n",
    "print(len(uniqueTypes))\n",
    "explosives"
   ]
  },
  {
   "cell_type": "code",
   "execution_count": 28,
   "metadata": {},
   "outputs": [
    {
     "name": "stdout",
     "output_type": "stream",
     "text": [
      "35\n"
     ]
    },
    {
     "data": {
      "text/plain": [
       "['harassment',\n",
       " 'bomb hoax',\n",
       " 'criminal harassment',\n",
       " 'phone call complaints',\n",
       " 'intimidation',\n",
       " 'stalking',\n",
       " 'obscenity',\n",
       " 'suspicious occ']"
      ]
     },
     "execution_count": 28,
     "metadata": {},
     "output_type": "execute_result"
    }
   ],
   "source": [
    "harassment=[] #keep\n",
    "for i in uniqueTypes:\n",
    "    if ('harassment' in i or 'phone' in i or 'stalk' in i or 'hoax' in i or 'intimidation' in i or 'suspicious' in i or 'obscenity' in i):\n",
    "        if i not in harassment:\n",
    "            harassment.append(i)\n",
    "for i in harassment:\n",
    "    uniqueTypes.remove(i)\n",
    "print(len(uniqueTypes))\n",
    "harassment"
   ]
  },
  {
   "cell_type": "code",
   "execution_count": 29,
   "metadata": {},
   "outputs": [
    {
     "name": "stdout",
     "output_type": "stream",
     "text": [
      "33\n"
     ]
    },
    {
     "data": {
      "text/plain": [
       "['bribery', 'extortion']"
      ]
     },
     "execution_count": 29,
     "metadata": {},
     "output_type": "execute_result"
    }
   ],
   "source": [
    "bribery=[] #keep\n",
    "for i in uniqueTypes:\n",
    "    if ('bribery' in i or 'extortion' in i):\n",
    "        if i not in bribery:\n",
    "            bribery.append(i)\n",
    "for i in bribery:\n",
    "    uniqueTypes.remove(i)\n",
    "print(len(uniqueTypes))\n",
    "bribery"
   ]
  },
  {
   "cell_type": "code",
   "execution_count": 30,
   "metadata": {},
   "outputs": [
    {
     "name": "stdout",
     "output_type": "stream",
     "text": [
      "26\n"
     ]
    },
    {
     "data": {
      "text/plain": [
       "['shot:attack',\n",
       " 'shot and tasered:other',\n",
       " 'shot:other',\n",
       " 'shot and tasered:attack',\n",
       " 'shot:undetermined',\n",
       " 'shot and tasered:undetermined',\n",
       " 'shooting']"
      ]
     },
     "execution_count": 30,
     "metadata": {},
     "output_type": "execute_result"
    }
   ],
   "source": [
    "shooting=[] #keep\n",
    "for i in uniqueTypes:\n",
    "    if ('shot' in i or 'shoot' in i):\n",
    "        if i not in shooting:\n",
    "            shooting.append(i)\n",
    "for i in shooting:\n",
    "    uniqueTypes.remove(i)\n",
    "print(len(uniqueTypes))\n",
    "shooting"
   ]
  },
  {
   "cell_type": "code",
   "execution_count": 31,
   "metadata": {},
   "outputs": [
    {
     "name": "stdout",
     "output_type": "stream",
     "text": [
      "24\n"
     ]
    },
    {
     "data": {
      "text/plain": [
       "['fire related reports', 'arson']"
      ]
     },
     "execution_count": 31,
     "metadata": {},
     "output_type": "execute_result"
    }
   ],
   "source": [
    "fire=[] #keep\n",
    "for i in uniqueTypes:\n",
    "    if ('fire ' in i or 'arson' in i):\n",
    "        if i not in fire:\n",
    "            fire.append(i)\n",
    "for i in fire:\n",
    "    uniqueTypes.remove(i)\n",
    "print(len(uniqueTypes))\n",
    "fire"
   ]
  },
  {
   "cell_type": "code",
   "execution_count": 32,
   "metadata": {},
   "outputs": [
    {
     "name": "stdout",
     "output_type": "stream",
     "text": [
      "14\n"
     ]
    },
    {
     "data": {
      "text/plain": [
       "['assembly or gathering violations',\n",
       " 'restraining order violations',\n",
       " 'violations',\n",
       " 'firearm violations',\n",
       " 'harbor related incidents',\n",
       " 'firearm discovery',\n",
       " 'service',\n",
       " 'license violation',\n",
       " 'concealed carry license violation',\n",
       " 'pornography/obscene mat']"
      ]
     },
     "execution_count": 32,
     "metadata": {},
     "output_type": "execute_result"
    }
   ],
   "source": [
    "violations=[] #remove\n",
    "for i in uniqueTypes:\n",
    "    if ('violation' in i or 'harbor' in i or 'firearm discovery' in i or 'service' == i or 'obscene mat' in i) :\n",
    "        if i not in violations:\n",
    "            violations.append(i)\n",
    "for i in violations:\n",
    "    uniqueTypes.remove(i)\n",
    "print(len(uniqueTypes))\n",
    "violations"
   ]
  },
  {
   "cell_type": "code",
   "execution_count": 33,
   "metadata": {},
   "outputs": [
    {
     "data": {
      "text/plain": [
       "['towed',\n",
       " 'other',\n",
       " 'medical assistance',\n",
       " 'ballistics',\n",
       " 'police service incidents',\n",
       " 'license plate related incidents',\n",
       " 'evading fare',\n",
       " 'aircraft',\n",
       " 'non-criminal',\n",
       " 'non - criminal',\n",
       " 'all other crimes',\n",
       " 'secondary codes',\n",
       " 'suicide',\n",
       " 'unknown']"
      ]
     },
     "execution_count": 33,
     "metadata": {},
     "output_type": "execute_result"
    }
   ],
   "source": [
    "others=uniqueTypes #other, non-significant crimes or mixed categories which aren't interesting to us #remove\n",
    "others "
   ]
  },
  {
   "cell_type": "code",
   "execution_count": 34,
   "metadata": {},
   "outputs": [],
   "source": [
    "typelist={\"Vehicle\":VehicleTheft,\"robbery\":robbery,\"assault\":assault,\"drug\":drug,\"others\":others,\"fraud\":fraud,\"vandalism\":vandalism,\"sexual\":sexual,\"warrant\":warrant,\"missing\":missing,\"trespass\":trespass,\"accident\":accident,\"prostitution\":prostitution,\"weapon\":weapon,\"property\":propertyl,\"murder\":murder,\"hostage\":hostage,\"assault\":assault,\"gambling\":gambling,\"disputes\":disputes,\"policeRelatedIncidents\":policeRelatedIncidents,\"explosives\":explosives,\"harassment\":harassment,\"bribery\":bribery,\"shooting\":shooting,\"violations\":violations}"
   ]
  },
  {
   "cell_type": "code",
   "execution_count": 35,
   "metadata": {},
   "outputs": [
    {
     "name": "stdout",
     "output_type": "stream",
     "text": [
      "25\n"
     ]
    }
   ],
   "source": [
    "print(len(typelist))\n",
    "keys=[]\n",
    "for i in typelist.keys():\n",
    "    keys.append(i)"
   ]
  },
  {
   "cell_type": "code",
   "execution_count": 36,
   "metadata": {},
   "outputs": [],
   "source": [
    "CrimeMap=[]\n",
    "for i in CrimeType:\n",
    "    k=0\n",
    "    for j in keys:\n",
    "        if i.lower() in typelist[j]:\n",
    "            CrimeMap.append(str(j))\n",
    "            k=1\n",
    "            break\n",
    "    if k==0:\n",
    "        CrimeMap.append(i)\n",
    "        "
   ]
  },
  {
   "cell_type": "code",
   "execution_count": 37,
   "metadata": {},
   "outputs": [
    {
     "data": {
      "text/plain": [
       "4571223"
      ]
     },
     "execution_count": 37,
     "metadata": {},
     "output_type": "execute_result"
    }
   ],
   "source": [
    "len(CrimeMap)"
   ]
  },
  {
   "cell_type": "code",
   "execution_count": 38,
   "metadata": {},
   "outputs": [
    {
     "data": {
      "text/plain": [
       "4571223"
      ]
     },
     "execution_count": 38,
     "metadata": {},
     "output_type": "execute_result"
    }
   ],
   "source": [
    "len(CrimeType)"
   ]
  },
  {
   "cell_type": "code",
   "execution_count": 39,
   "metadata": {},
   "outputs": [],
   "source": [
    "df['CrimeMap']=CrimeMap"
   ]
  },
  {
   "cell_type": "code",
   "execution_count": 40,
   "metadata": {},
   "outputs": [],
   "source": [
    "assault=df[df['CrimeMap']=='assault']\n",
    "index=assault.index\n",
    "simple=[\"all other offenses\",\"other offenses\", \"other assaults\", \"other offense\", \"other crimes against persons\", \"investigate person\", \"simple assault\", \"Unarmed Assault\"]\n",
    "newsMap=[]"
   ]
  },
  {
   "cell_type": "code",
   "execution_count": 41,
   "metadata": {},
   "outputs": [],
   "source": [
    "track=[]\n",
    "for i in range(len(df)):\n",
    "    if i in index:\n",
    "        if (df.iloc[i]['CrimeDetail'] in simple or ('aggravated' not in str(df.iloc[i]['CrimeDetail'] and df.iloc[i]['CrimeDetail'] ))):\n",
    "            newsMap.append(\"SimpleAssault\")\n",
    "            track.append(i)\n",
    "        else:\n",
    "            newsMap.append(\"AggravatedAssault\")\n",
    "            track.append(i)\n",
    "    if i not in index:\n",
    "        newsMap.append(df.iloc[i]['CrimeMap'])\n",
    "        track.append(i)"
   ]
  },
  {
   "cell_type": "code",
   "execution_count": 42,
   "metadata": {},
   "outputs": [],
   "source": [
    "df['CrimeMap']=newsMap"
   ]
  },
  {
   "cell_type": "code",
   "execution_count": 43,
   "metadata": {},
   "outputs": [],
   "source": [
    "df.to_csv(\"CrimeConnected.csv\")"
   ]
  },
  {
   "cell_type": "code",
   "execution_count": 44,
   "metadata": {},
   "outputs": [],
   "source": [
    "df.to_csv(\"crime_final.csv\")"
   ]
  }
 ],
 "metadata": {
  "kernelspec": {
   "display_name": "Python 3",
   "language": "python",
   "name": "python3"
  },
  "language_info": {
   "codemirror_mode": {
    "name": "ipython",
    "version": 3
   },
   "file_extension": ".py",
   "mimetype": "text/x-python",
   "name": "python",
   "nbconvert_exporter": "python",
   "pygments_lexer": "ipython3",
   "version": "3.7.6"
  }
 },
 "nbformat": 4,
 "nbformat_minor": 2
}
