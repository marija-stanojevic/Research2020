{
 "cells": [
  {
   "cell_type": "code",
   "execution_count": 2,
   "metadata": {},
   "outputs": [],
   "source": [
    "import pandas as pd\n",
    "import numpy as np\n",
    "import matplotlib.pyplot as plt"
   ]
  },
  {
   "cell_type": "code",
   "execution_count": 3,
   "metadata": {},
   "outputs": [
    {
     "name": "stderr",
     "output_type": "stream",
     "text": [
      "/Users/quangpham/anaconda3/lib/python3.7/site-packages/IPython/core/interactiveshell.py:3051: DtypeWarning: Columns (4,7,9,10,12,13,14,16,17,18,19,20,21,23,24,25,26,27) have mixed types. Specify dtype option on import or set low_memory=False.\n",
      "  interactivity=interactivity, compiler=compiler, result=result)\n"
     ]
    }
   ],
   "source": [
    "df=pd.read_csv(\"CrimeConnected.csv\")"
   ]
  },
  {
   "cell_type": "code",
   "execution_count": 3,
   "metadata": {},
   "outputs": [],
   "source": [
    "CrimeType=df['CrimeType']"
   ]
  },
  {
   "cell_type": "code",
   "execution_count": 5,
   "metadata": {},
   "outputs": [
    {
     "data": {
      "text/plain": [
       "Murder or Manslaughter:Yes         439444\n",
       "larceny/theft                      268292\n",
       "theft                              206732\n",
       "all other offenses                 205465\n",
       "Murder or Manslaughter:No          189894\n",
       "battery                            188251\n",
       "assault                            153630\n",
       "other offenses                     136672\n",
       "narcotics                          132399\n",
       "non-criminal                       128649\n",
       "criminal damage                    126521\n",
       "thefts                             125082\n",
       "other assaults                     123269\n",
       "burglary                           120946\n",
       "traffic accident                   120189\n",
       "vandalism/criminal mischief         97158\n",
       "all other crimes                    82485\n",
       "theft from vehicle                  79497\n",
       "fraud                               73982\n",
       "robbery                             73016\n",
       "larceny                             72233\n",
       "vandalism                           71219\n",
       "motor vehicle theft                 68351\n",
       "narcotic / drug law violations      65103\n",
       "other offense                       64677\n",
       "burglary residential                49104\n",
       "public disorder                     46453\n",
       "vehicle theft                       44609\n",
       "warrants                            44323\n",
       "recovered stolen motor vehicle      42274\n",
       "suspicious occ                      40366\n",
       "deceptive practice                  37270\n",
       "motor vehicle accident response     37132\n",
       "theft from motor vehicle            36778\n",
       "drug/narcotic                       36582\n",
       "aggravated assault no firearm       33047\n",
       "missing person                      31868\n",
       "criminal trespass                   31605\n",
       "auto theft                          30667\n",
       "drug & alcohol                      29382\n",
       "Name: CrimeType, dtype: int64"
      ]
     },
     "execution_count": 5,
     "metadata": {},
     "output_type": "execute_result"
    }
   ],
   "source": [
    "CrimeType.value_counts()[:40]"
   ]
  },
  {
   "cell_type": "code",
   "execution_count": 6,
   "metadata": {},
   "outputs": [
    {
     "data": {
      "text/plain": [
       "['larceny from motor vehicle',\n",
       " 'motor vehicle theft',\n",
       " 'theft from motor vehicle',\n",
       " 'theft from vehicle',\n",
       " 'recovered stolen motor vehicle',\n",
       " 'vehicle theft',\n",
       " 'recovered vehicle']"
      ]
     },
     "execution_count": 6,
     "metadata": {},
     "output_type": "execute_result"
    }
   ],
   "source": [
    "VehicleTheft=[]\n",
    "for i in CrimeType:\n",
    "    i=i.lower()\n",
    "    if ('vehicle' in i and 'accident' not in i):\n",
    "        if i not in VehicleTheft:\n",
    "            VehicleTheft.append(i)\n",
    "VehicleTheft"
   ]
  },
  {
   "cell_type": "code",
   "execution_count": 7,
   "metadata": {},
   "outputs": [
    {
     "data": {
      "text/plain": [
       "['larceny',\n",
       " 'auto theft',\n",
       " 'robbery',\n",
       " 'auto theft recovery',\n",
       " 'theft',\n",
       " 'motor vehicle theft',\n",
       " 'theft from motor vehicle',\n",
       " 'thefts',\n",
       " 'theft from vehicle',\n",
       " 'robbery no firearm',\n",
       " 'robbery firearm',\n",
       " 'vehicle theft',\n",
       " 'larceny/theft']"
      ]
     },
     "execution_count": 7,
     "metadata": {},
     "output_type": "execute_result"
    }
   ],
   "source": [
    "robbery=[]# add burgaly, larceny,theft\n",
    "for i in CrimeType:\n",
    "    i=i.lower()\n",
    "    if ('robbery' in i or 'burgaly' in i or 'theft' in i or 'larceny' in i and 'vehicle' not in i ):\n",
    "        if i not in robbery:\n",
    "            robbery.append(i)\n",
    "robbery"
   ]
  },
  {
   "cell_type": "code",
   "execution_count": 8,
   "metadata": {},
   "outputs": [
    {
     "data": {
      "text/plain": [
       "['verbal disputes',\n",
       " 'simple assault',\n",
       " 'aggravated assault',\n",
       " 'landlord/tenant disputes',\n",
       " 'offenses against child / family',\n",
       " 'other offense',\n",
       " 'battery',\n",
       " 'assault',\n",
       " 'offense involving children',\n",
       " 'other assaults',\n",
       " 'all other offenses',\n",
       " 'aggravated assault firearm',\n",
       " 'aggravated assault no firearm',\n",
       " 'offenses against family and children',\n",
       " 'other offenses',\n",
       " 'family offenses',\n",
       " 'armed assault',\n",
       " 'unarmed assault']"
      ]
     },
     "execution_count": 8,
     "metadata": {},
     "output_type": "execute_result"
    }
   ],
   "source": [
    "assault=[] #battery, offense\n",
    "for i in CrimeType:\n",
    "    i=i.lower()\n",
    "    if ('assault' in i or 'battery' in i or 'offense' in i or 'dispute' in i):\n",
    "        if i not in assault:\n",
    "            assault.append(i)\n",
    "droplist=['crim sexual assault','sexual assault','sex offense', 'other sex offenses (not commercialized)','sex offenses, forcible','sex offenses, non forcible']\n",
    "for j in droplist:\n",
    "    assault.remove(j)\n",
    "assault"
   ]
  },
  {
   "cell_type": "code",
   "execution_count": 23,
   "metadata": {},
   "outputs": [
    {
     "data": {
      "text/plain": [
       "['drug violation',\n",
       " 'liquor violation',\n",
       " 'narcotics',\n",
       " 'liquor law violation',\n",
       " 'drug & alcohol',\n",
       " 'narcotic / drug law violations',\n",
       " 'liquor law violations',\n",
       " 'drug/narcotic',\n",
       " 'liquor laws']"
      ]
     },
     "execution_count": 23,
     "metadata": {},
     "output_type": "execute_result"
    }
   ],
   "source": [
    "drug=[]#nacrotic, drug\n",
    "for i in CrimeType:\n",
    "    i=i.lower()\n",
    "    if ('nacortic' in i or 'drug' in i or 'narcotics' in i or 'liquor' in i) :\n",
    "        if i not in drug:\n",
    "            drug.append(i)\n",
    "drug"
   ]
  },
  {
   "cell_type": "code",
   "execution_count": 10,
   "metadata": {},
   "outputs": [
    {
     "data": {
      "text/plain": [
       "['other',\n",
       " 'all other crimes',\n",
       " 'other crimes against persons',\n",
       " 'shot and tasered:other',\n",
       " 'shot:other']"
      ]
     },
     "execution_count": 10,
     "metadata": {},
     "output_type": "execute_result"
    }
   ],
   "source": [
    "others=[]#other\n",
    "for i in CrimeType:\n",
    "    i=i.lower()\n",
    "    if ('other' in i) :\n",
    "        if i not in others:\n",
    "            others.append(i)\n",
    "droplist=['other burglary','other offense','other narcotic violation','other assaults','all other offenses','other sex offenses (not commercialized)','other offenses']\n",
    "for j in droplist:\n",
    "    others.remove(j)\n",
    "others "
   ]
  },
  {
   "cell_type": "code",
   "execution_count": 11,
   "metadata": {},
   "outputs": [
    {
     "data": {
      "text/plain": [
       "['fraud']"
      ]
     },
     "execution_count": 11,
     "metadata": {},
     "output_type": "execute_result"
    }
   ],
   "source": [
    "fraud=[]#fraud\n",
    "for i in CrimeType:\n",
    "    i=i.lower()\n",
    "    if ('fraud' in i) :\n",
    "        if i not in fraud:\n",
    "            fraud.append(i)\n",
    "fraud"
   ]
  },
  {
   "cell_type": "code",
   "execution_count": 12,
   "metadata": {},
   "outputs": [
    {
     "data": {
      "text/plain": [
       "['vandalism', 'vandalism/criminal mischief']"
      ]
     },
     "execution_count": 12,
     "metadata": {},
     "output_type": "execute_result"
    }
   ],
   "source": [
    "vandalism=[]#fraud\n",
    "for i in CrimeType:\n",
    "    i=i.lower()\n",
    "    if ('vandalism' in i) :\n",
    "        if i not in vandalism:\n",
    "            vandalism.append(i)\n",
    "vandalism"
   ]
  },
  {
   "cell_type": "code",
   "execution_count": 14,
   "metadata": {},
   "outputs": [
    {
     "data": {
      "text/plain": [
       "['crim sexual assault',\n",
       " 'sex offense',\n",
       " 'sexual assault',\n",
       " 'other sex offenses (not commercialized)',\n",
       " 'sex offenses, forcible',\n",
       " 'sex offenses, non forcible']"
      ]
     },
     "execution_count": 14,
     "metadata": {},
     "output_type": "execute_result"
    }
   ],
   "source": [
    "sexual=[]#sexual\n",
    "for i in CrimeType:\n",
    "    i=i.lower()\n",
    "    if ('sex' in i) :\n",
    "        if i not in sexual:\n",
    "            sexual.append(i)\n",
    "sexual"
   ]
  },
  {
   "cell_type": "code",
   "execution_count": 15,
   "metadata": {},
   "outputs": [
    {
     "data": {
      "text/plain": [
       "['warrant arrests', 'search warrants', 'warrants']"
      ]
     },
     "execution_count": 15,
     "metadata": {},
     "output_type": "execute_result"
    }
   ],
   "source": [
    "warrant=[]#warrant\n",
    "for i in CrimeType:\n",
    "    i=i.lower()\n",
    "    if ('warrant' in i) :\n",
    "        if i not in warrant:\n",
    "            warrant.append(i)\n",
    "warrant"
   ]
  },
  {
   "cell_type": "code",
   "execution_count": 16,
   "metadata": {},
   "outputs": [
    {
     "data": {
      "text/plain": [
       "['missing person reported', 'missing person located', 'missing person']"
      ]
     },
     "execution_count": 16,
     "metadata": {},
     "output_type": "execute_result"
    }
   ],
   "source": [
    "missing=[]#missing\n",
    "for i in CrimeType:\n",
    "    i=i.lower()\n",
    "    if ('missing' in i) :\n",
    "        if i not in missing:\n",
    "            missing.append(i)\n",
    "missing"
   ]
  },
  {
   "cell_type": "code",
   "execution_count": 17,
   "metadata": {},
   "outputs": [
    {
     "data": {
      "text/plain": [
       "['investigate property',\n",
       " 'investigate person',\n",
       " 'deceptive practice',\n",
       " 'suspicious occ']"
      ]
     },
     "execution_count": 17,
     "metadata": {},
     "output_type": "execute_result"
    }
   ],
   "source": [
    "suspicious=[] #deceptive\n",
    "for i in CrimeType:\n",
    "    i=i.lower()\n",
    "    if('suspicious' in i or 'deceptive' in i or 'investigate' in i):\n",
    "        if i not in suspicious:\n",
    "            suspicious.append(i)\n",
    "suspicious"
   ]
  },
  {
   "cell_type": "code",
   "execution_count": 18,
   "metadata": {},
   "outputs": [
    {
     "data": {
      "text/plain": [
       "['criminal trespass', 'trespass']"
      ]
     },
     "execution_count": 18,
     "metadata": {},
     "output_type": "execute_result"
    }
   ],
   "source": [
    "trespass=[]\n",
    "for i in CrimeType:\n",
    "    i=i.lower()\n",
    "    if('trespass' in i):\n",
    "        if i not in trespass:\n",
    "            trespass.append(i)\n",
    "trespass"
   ]
  },
  {
   "cell_type": "code",
   "execution_count": 19,
   "metadata": {},
   "outputs": [
    {
     "data": {
      "text/plain": [
       "['medical assistance', 'disorderly conduct', 'public disorder']"
      ]
     },
     "execution_count": 19,
     "metadata": {},
     "output_type": "execute_result"
    }
   ],
   "source": [
    "disorder=[]\n",
    "for i in CrimeType:\n",
    "    i=i.lower()\n",
    "    if('disorder' in i or 'medical' in i):\n",
    "        if i not in disorder:\n",
    "            disorder.append(i)\n",
    "disorder"
   ]
  },
  {
   "cell_type": "code",
   "execution_count": 20,
   "metadata": {},
   "outputs": [
    {
     "data": {
      "text/plain": [
       "['motor vehicle accident response',\n",
       " 'traffic accident',\n",
       " 'driving under the influence']"
      ]
     },
     "execution_count": 20,
     "metadata": {},
     "output_type": "execute_result"
    }
   ],
   "source": [
    "accident=[]\n",
    "for i in CrimeType:\n",
    "    i=i.lower()\n",
    "    if('accident' in i or 'driving' in i):\n",
    "        if i not in accident:\n",
    "            accident.append(i)\n",
    "accident\n"
   ]
  },
  {
   "cell_type": "code",
   "execution_count": 21,
   "metadata": {},
   "outputs": [
    {
     "data": {
      "text/plain": [
       "['prostitution', 'prostitution and commercialized vice']"
      ]
     },
     "execution_count": 21,
     "metadata": {},
     "output_type": "execute_result"
    }
   ],
   "source": [
    "prostitution=[]\n",
    "for i in CrimeType:\n",
    "    i=i.lower()\n",
    "    if('prostitution' in i):\n",
    "        if i not in prostitution:\n",
    "            prostitution.append(i)\n",
    "prostitution\n"
   ]
  },
  {
   "cell_type": "code",
   "execution_count": 22,
   "metadata": {},
   "outputs": [
    {
     "data": {
      "text/plain": [
       "['weapons violation', 'weapon violations', 'weapon laws']"
      ]
     },
     "execution_count": 22,
     "metadata": {},
     "output_type": "execute_result"
    }
   ],
   "source": [
    "weapon=[]\n",
    "for i in CrimeType:\n",
    "    i=i.lower()\n",
    "    if('weapon' in i):\n",
    "        if i not in weapon:\n",
    "            weapon.append(i)\n",
    "weapon"
   ]
  },
  {
   "cell_type": "code",
   "execution_count": 24,
   "metadata": {},
   "outputs": [
    {
     "data": {
      "text/plain": [
       "['investigate property',\n",
       " 'property lost',\n",
       " 'property found',\n",
       " 'property related damage',\n",
       " 'recovered stolen property',\n",
       " 'burglary - no property taken',\n",
       " 'receiving stolen property',\n",
       " 'stolen property']"
      ]
     },
     "execution_count": 24,
     "metadata": {},
     "output_type": "execute_result"
    }
   ],
   "source": [
    "propertyl=[]\n",
    "for i in CrimeType:\n",
    "    i=i.lower()\n",
    "    if('property' in i):\n",
    "        if i not in propertyl:\n",
    "            propertyl.append(i)\n",
    "propertyl"
   ]
  },
  {
   "cell_type": "code",
   "execution_count": 25,
   "metadata": {},
   "outputs": [],
   "source": [
    "typelist={\"Vehicle\":VehicleTheft,\"robbery\":robbery,\"assault\":assault,\"drug\":drug,\"others\":others,\"fraud\":fraud,\"vandalism\":vandalism,\"sexual\":sexual,\"warrant\":warrant,\"missing\":missing,\"suspicious\":suspicious,\"trespass\":trespass,\"disorder\":disorder,\"accident\":accident,\"prostitution\":prostitution,\"weapon\":weapon,\"property\":propertyl}"
   ]
  },
  {
   "cell_type": "code",
   "execution_count": 26,
   "metadata": {},
   "outputs": [],
   "source": [
    "keys=[]\n",
    "for i in typelist.keys():\n",
    "    keys.append(i)"
   ]
  },
  {
   "cell_type": "code",
   "execution_count": 27,
   "metadata": {},
   "outputs": [],
   "source": [
    "CrimeMap=[]\n",
    "for i in CrimeType:\n",
    "    k=0\n",
    "    for j in keys:\n",
    "        if i in typelist[j]:\n",
    "            CrimeMap.append(str(j))\n",
    "            k=1\n",
    "            break\n",
    "    if k==0:\n",
    "        CrimeMap.append(i)\n",
    "        "
   ]
  },
  {
   "cell_type": "code",
   "execution_count": 28,
   "metadata": {},
   "outputs": [
    {
     "data": {
      "text/plain": [
       "4571223"
      ]
     },
     "execution_count": 28,
     "metadata": {},
     "output_type": "execute_result"
    }
   ],
   "source": [
    "len(CrimeMap)"
   ]
  },
  {
   "cell_type": "code",
   "execution_count": 29,
   "metadata": {},
   "outputs": [
    {
     "data": {
      "text/plain": [
       "4571223"
      ]
     },
     "execution_count": 29,
     "metadata": {},
     "output_type": "execute_result"
    }
   ],
   "source": [
    "len(CrimeType)"
   ]
  },
  {
   "cell_type": "code",
   "execution_count": 30,
   "metadata": {},
   "outputs": [],
   "source": [
    "df['CrimeMap']=CrimeMap"
   ]
  },
  {
   "cell_type": "code",
   "execution_count": 44,
   "metadata": {},
   "outputs": [],
   "source": [
    "df.to_csv(\"CrimeConnected.csv\")"
   ]
  },
  {
   "cell_type": "code",
   "execution_count": 32,
   "metadata": {},
   "outputs": [
    {
     "data": {
      "text/plain": [
       "<matplotlib.axes._subplots.AxesSubplot at 0x121837690>"
      ]
     },
     "execution_count": 32,
     "metadata": {},
     "output_type": "execute_result"
    },
    {
     "data": {
      "image/png": "[encoded data removed]",
      "text/plain": [
       "<Figure size 432x288 with 1 Axes>"
      ]
     },
     "metadata": {
      "needs_background": "light"
     },
     "output_type": "display_data"
    }
   ],
   "source": [
    "df['CrimeMap'].value_counts()[:25].plot(kind='barh')"
   ]
  },
  {
   "cell_type": "code",
   "execution_count": 33,
   "metadata": {},
   "outputs": [
    {
     "name": "stderr",
     "output_type": "stream",
     "text": [
      "/Users/quangpham/anaconda3/lib/python3.7/site-packages/IPython/core/interactiveshell.py:3051: DtypeWarning: Columns (3,5) have mixed types. Specify dtype option on import or set low_memory=False.\n",
      "  interactivity=interactivity, compiler=compiler, result=result)\n",
      "/Users/quangpham/anaconda3/lib/python3.7/site-packages/IPython/core/interactiveshell.py:3051: DtypeWarning: Columns (8) have mixed types. Specify dtype option on import or set low_memory=False.\n",
      "  interactivity=interactivity, compiler=compiler, result=result)\n"
     ]
    }
   ],
   "source": [
    "statedata=pd.read_csv(\"5states.csv\")\n",
    "policeshoot=pd.read_csv(\"FinalShooting.csv\")\n",
    "massshoot=pd.read_csv(\"FinalMass.csv\")\n",
    "USgbt=pd.read_csv(\"FinalUSgbt.csv\")\n",
    "HomiSet=pd.read_csv(\"HomiFinal.csv\")\n",
    "statedb=pd.read_csv(\"Countstate.csv\")"
   ]
  },
  {
   "cell_type": "code",
   "execution_count": 34,
   "metadata": {},
   "outputs": [],
   "source": [
    "dborigin=[]\n",
    "for i in statedb['0']:\n",
    "    dborigin.append(i)\n",
    "for i in range(len(policeshoot)):\n",
    "    dborigin.append(\"policefataldb\")\n",
    "for i in range(len(massshoot)):\n",
    "    dborigin.append(\"massshootingdb\")\n",
    "for i in range(len(USgbt)):\n",
    "    dborigin.append(\"USgbtdb\")\n",
    "for i in range(len(df)-len(dborigin)):\n",
    "    dborigin.append(\"Homicidedb\")"
   ]
  },
  {
   "cell_type": "code",
   "execution_count": 35,
   "metadata": {},
   "outputs": [
    {
     "data": {
      "text/plain": [
       "4571223"
      ]
     },
     "execution_count": 35,
     "metadata": {},
     "output_type": "execute_result"
    }
   ],
   "source": [
    "len(dborigin)"
   ]
  },
  {
   "cell_type": "code",
   "execution_count": 36,
   "metadata": {},
   "outputs": [],
   "source": [
    "df['DataBase']=dborigin"
   ]
  },
  {
   "cell_type": "code",
   "execution_count": 43,
   "metadata": {},
   "outputs": [
    {
     "data": {
      "text/html": [
       "<div>\n",
       "<style scoped>\n",
       "    .dataframe tbody tr th:only-of-type {\n",
       "        vertical-align: middle;\n",
       "    }\n",
       "\n",
       "    .dataframe tbody tr th {\n",
       "        vertical-align: top;\n",
       "    }\n",
       "\n",
       "    .dataframe thead th {\n",
       "        text-align: right;\n",
       "    }\n",
       "</style>\n",
       "<table border=\"1\" class=\"dataframe\">\n",
       "  <thead>\n",
       "    <tr style=\"text-align: right;\">\n",
       "      <th></th>\n",
       "      <th>Unnamed: 0</th>\n",
       "      <th>Date</th>\n",
       "      <th>CrimeType</th>\n",
       "      <th>CrimeDetail</th>\n",
       "      <th>Lat</th>\n",
       "      <th>Long</th>\n",
       "      <th>LocDescription</th>\n",
       "      <th>City</th>\n",
       "      <th>Street</th>\n",
       "      <th>State</th>\n",
       "      <th>...</th>\n",
       "      <th>PerpeGender</th>\n",
       "      <th>PerpeAge</th>\n",
       "      <th>PerpeNationlatiy</th>\n",
       "      <th>PerpeVicRelation</th>\n",
       "      <th>Weapon</th>\n",
       "      <th>Motivation</th>\n",
       "      <th>NewsCoverage</th>\n",
       "      <th>Property</th>\n",
       "      <th>CrimeMap</th>\n",
       "      <th>DataBase</th>\n",
       "    </tr>\n",
       "  </thead>\n",
       "  <tbody>\n",
       "    <tr>\n",
       "      <th>4571219</th>\n",
       "      <td>4571219</td>\n",
       "      <td>2014-June</td>\n",
       "      <td>Murder or Manslaughter:Yes</td>\n",
       "      <td>NaN</td>\n",
       "      <td>NaN</td>\n",
       "      <td>NaN</td>\n",
       "      <td>NaN</td>\n",
       "      <td>Sheridan</td>\n",
       "      <td>NaN</td>\n",
       "      <td>Wyoming</td>\n",
       "      <td>...</td>\n",
       "      <td>Male</td>\n",
       "      <td>57</td>\n",
       "      <td>NaN</td>\n",
       "      <td>Acquaintance</td>\n",
       "      <td>Handgun</td>\n",
       "      <td>NaN</td>\n",
       "      <td>NaN</td>\n",
       "      <td>NaN</td>\n",
       "      <td>Murder or Manslaughter:Yes</td>\n",
       "      <td>Homicidedb</td>\n",
       "    </tr>\n",
       "    <tr>\n",
       "      <th>4571220</th>\n",
       "      <td>4571220</td>\n",
       "      <td>2014-September</td>\n",
       "      <td>Murder or Manslaughter:Yes</td>\n",
       "      <td>NaN</td>\n",
       "      <td>NaN</td>\n",
       "      <td>NaN</td>\n",
       "      <td>NaN</td>\n",
       "      <td>Sheridan</td>\n",
       "      <td>NaN</td>\n",
       "      <td>Wyoming</td>\n",
       "      <td>...</td>\n",
       "      <td>Female</td>\n",
       "      <td>22</td>\n",
       "      <td>NaN</td>\n",
       "      <td>Daughter</td>\n",
       "      <td>Suffocation</td>\n",
       "      <td>NaN</td>\n",
       "      <td>NaN</td>\n",
       "      <td>NaN</td>\n",
       "      <td>Murder or Manslaughter:Yes</td>\n",
       "      <td>Homicidedb</td>\n",
       "    </tr>\n",
       "  </tbody>\n",
       "</table>\n",
       "<p>2 rows × 29 columns</p>\n",
       "</div>"
      ],
      "text/plain": [
       "         Unnamed: 0            Date                   CrimeType CrimeDetail  \\\n",
       "4571219     4571219       2014-June  Murder or Manslaughter:Yes         NaN   \n",
       "4571220     4571220  2014-September  Murder or Manslaughter:Yes         NaN   \n",
       "\n",
       "         Lat  Long LocDescription      City Street    State  ...  PerpeGender  \\\n",
       "4571219  NaN   NaN            NaN  Sheridan    NaN  Wyoming  ...         Male   \n",
       "4571220  NaN   NaN            NaN  Sheridan    NaN  Wyoming  ...       Female   \n",
       "\n",
       "        PerpeAge PerpeNationlatiy PerpeVicRelation       Weapon Motivation  \\\n",
       "4571219       57              NaN     Acquaintance      Handgun        NaN   \n",
       "4571220       22              NaN         Daughter  Suffocation        NaN   \n",
       "\n",
       "        NewsCoverage Property                    CrimeMap    DataBase  \n",
       "4571219          NaN      NaN  Murder or Manslaughter:Yes  Homicidedb  \n",
       "4571220          NaN      NaN  Murder or Manslaughter:Yes  Homicidedb  \n",
       "\n",
       "[2 rows x 29 columns]"
      ]
     },
     "execution_count": 43,
     "metadata": {},
     "output_type": "execute_result"
    }
   ],
   "source": [
    "df[-4:-2]"
   ]
  },
  {
   "cell_type": "code",
   "execution_count": 5,
   "metadata": {},
   "outputs": [],
   "source": [
    "df1=df['CrimeMap'].value_counts().rename_axis('unique_values').reset_index(name='counts')"
   ]
  },
  {
   "cell_type": "code",
   "execution_count": 7,
   "metadata": {},
   "outputs": [],
   "source": [
    "df1.to_csv(\"CrimeGroup.csv\")"
   ]
  },
  {
   "cell_type": "code",
   "execution_count": null,
   "metadata": {},
   "outputs": [],
   "source": []
  }
 ],
 "metadata": {
  "kernelspec": {
   "display_name": "Python 3",
   "language": "python",
   "name": "python3"
  },
  "language_info": {
   "codemirror_mode": {
    "name": "ipython",
    "version": 3
   },
   "file_extension": ".py",
   "mimetype": "text/x-python",
   "name": "python",
   "nbconvert_exporter": "python",
   "pygments_lexer": "ipython3",
   "version": "3.7.6"
  }
 },
 "nbformat": 4,
 "nbformat_minor": 2
}
