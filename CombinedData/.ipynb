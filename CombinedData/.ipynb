{
 "cells": [
  {
   "cell_type": "code",
   "execution_count": 1,
   "metadata": {},
   "outputs": [],
   "source": [
    "import pandas as pd\n",
    "import numpy as np"
   ]
  },
  {
   "cell_type": "code",
   "execution_count": 2,
   "metadata": {},
   "outputs": [
    {
     "name": "stderr",
     "output_type": "stream",
     "text": [
      "/Users/quangpham/anaconda3/lib/python3.7/site-packages/IPython/core/interactiveshell.py:3051: DtypeWarning: Columns (2) have mixed types. Specify dtype option on import or set low_memory=False.\n",
      "  interactivity=interactivity, compiler=compiler, result=result)\n",
      "/Users/quangpham/anaconda3/lib/python3.7/site-packages/IPython/core/interactiveshell.py:3051: DtypeWarning: Columns (8) have mixed types. Specify dtype option on import or set low_memory=False.\n",
      "  interactivity=interactivity, compiler=compiler, result=result)\n"
     ]
    }
   ],
   "source": [
    "statedata=pd.read_csv(\"5states.csv\")\n",
    "policeshoot=pd.read_csv(\"FinalShooting.csv\")\n",
    "massshoot=pd.read_csv(\"FinalMass.csv\")\n",
    "USgbt=pd.read_csv(\"FinalUSgbt.csv\")\n",
    "HomiSet=pd.read_csv(\"HomiFinal.csv\")"
   ]
  },
  {
   "cell_type": "code",
   "execution_count": 3,
   "metadata": {},
   "outputs": [],
   "source": [
    "#Features of the final dataset\n",
    "Date=[]\n",
    "CrimeType=[]\n",
    "CrimeDetail=[]\n",
    "Lat=[]\n",
    "Long=[]\n",
    "LocDescription=[]\n",
    "City=[]\n",
    "Street=[]\n",
    "State=[]\n",
    "VictimAge=[]\n",
    "VictimGender=[]\n",
    "VictimRace=[]\n",
    "VictimDescript=[]\n",
    "TotalVictims=[]\n",
    "PerpeName=[]\n",
    "PerpeMental=[]\n",
    "PerpeFlee=[]\n",
    "PerpeRace=[]\n",
    "PerpeGender=[]\n",
    "PerpeAge=[]\n",
    "PerpeNationality=[]\n",
    "PerpeVicRelation=[]\n",
    "Weapon=[]\n",
    "Motivation=[]\n",
    "NewsCoverage=[]\n",
    "PropertyDamage=[]\n",
    "\n"
   ]
  },
  {
   "cell_type": "code",
   "execution_count": 4,
   "metadata": {},
   "outputs": [],
   "source": [
    "#Add 5 States data\n",
    "for i in range(len(statedata)):\n",
    "    Date.append(statedata.iloc[i][\"Date\"])\n",
    "    CrimeType.append(statedata.iloc[i][\"CrimeType\"])\n",
    "    CrimeDetail.append(statedata.iloc[i][\"CrimeDetail\"])\n",
    "    Lat.append(statedata.iloc[i][\"Latitude\"])\n",
    "    Long.append(statedata.iloc[i][\"Longtitude\"])\n",
    "    LocDescription.append(statedata.iloc[i][\"LocDescription\"])\n",
    "    City.append(statedata.iloc[i][\"City\"])\n",
    "    Street.append(statedata.iloc[i][\"Street\"])\n",
    "    State.append(np.nan)\n",
    "    VictimAge.append(np.nan)\n",
    "    VictimGender.append(np.nan)\n",
    "    VictimRace.append(np.nan)\n",
    "    VictimDescript.append(np.nan)\n",
    "    TotalVictims.append(np.nan)\n",
    "    PerpeName.append(np.nan)\n",
    "    PerpeMental.append(np.nan)\n",
    "    PerpeFlee.append(np.nan)\n",
    "    PerpeRace.append(np.nan)\n",
    "    PerpeGender.append(np.nan)\n",
    "    PerpeAge.append(np.nan)\n",
    "    PerpeNationality.append(np.nan)\n",
    "    PerpeVicRelation.append(np.nan)\n",
    "    Weapon.append(np.nan)\n",
    "    Motivation.append(np.nan)\n",
    "    NewsCoverage.append(np.nan)\n",
    "    PropertyDamage.append(np.nan)\n",
    "\n",
    "    "
   ]
  },
  {
   "cell_type": "code",
   "execution_count": 5,
   "metadata": {},
   "outputs": [
    {
     "data": {
      "text/plain": [
       "City                     Aloha\n",
       "State                       OR\n",
       "PereName      Lewis Lee Lembke\n",
       "Date                2015-02-01\n",
       "CrimeType          shot:attack\n",
       "PereAge                     47\n",
       "PereGender                   M\n",
       "PereRace                     W\n",
       "PereMental               False\n",
       "PereFlee           Not fleeing\n",
       "Weapon                     gun\n",
       "Name: 1, dtype: object"
      ]
     },
     "execution_count": 5,
     "metadata": {},
     "output_type": "execute_result"
    }
   ],
   "source": [
    "policeshoot.iloc[1]"
   ]
  },
  {
   "cell_type": "code",
   "execution_count": 6,
   "metadata": {},
   "outputs": [],
   "source": [
    "#Add police shoot data\n",
    "for i in range(len(policeshoot)):\n",
    "    Date.append(policeshoot.iloc[i][\"Date\"])\n",
    "    CrimeType.append(policeshoot.iloc[i][\"CrimeType\"])\n",
    "    CrimeDetail.append(np.nan)\n",
    "    Lat.append(np.nan)\n",
    "    Long.append(np.nan)\n",
    "    LocDescription.append(np.nan)\n",
    "    City.append(policeshoot.iloc[i][\"City\"])\n",
    "    Street.append(np.nan)\n",
    "    State.append(policeshoot.iloc[i][\"State\"])\n",
    "    VictimAge.append(np.nan)\n",
    "    VictimGender.append(np.nan)\n",
    "    VictimRace.append(np.nan)\n",
    "    VictimDescript.append(np.nan)\n",
    "    TotalVictims.append(np.nan)\n",
    "    PerpeName.append(policeshoot.iloc[i][\"PereName\"])\n",
    "    PerpeMental.append(policeshoot.iloc[i][\"PereMental\"])\n",
    "    PerpeFlee.append(policeshoot.iloc[i][\"PereFlee\"])\n",
    "    PerpeRace.append(policeshoot.iloc[i][\"PereRace\"])\n",
    "    PerpeAge.append(policeshoot.iloc[i][\"PereAge\"])\n",
    "    PerpeGender.append(policeshoot.iloc[i]['PereGender'])\n",
    "    PerpeNationality.append(np.nan)\n",
    "    PerpeVicRelation.append(np.nan)\n",
    "    Weapon.append(policeshoot.iloc[i][\"Weapon\"])\n",
    "    Motivation.append(np.nan)\n",
    "    NewsCoverage.append(np.nan)\n",
    "    PropertyDamage.append(np.nan)\n"
   ]
  },
  {
   "cell_type": "code",
   "execution_count": 7,
   "metadata": {},
   "outputs": [
    {
     "data": {
      "text/plain": [
       "Date                                                  2017-06-14\n",
       "Location                                       San Francisco, CA\n",
       "CrimeType                                               shooting\n",
       "Description    San Francisco UPS shooting:Jimmy Lam, 38, fata...\n",
       "TotalVic                                                       5\n",
       "Mental                                                       Yes\n",
       "PerpeGender                                                    M\n",
       "PerpeAge                                                     NaN\n",
       "Race                                                       Asian\n",
       "LocDes                                                       NaN\n",
       "Long                                                         NaN\n",
       "Lat                                                          NaN\n",
       "Name: 1, dtype: object"
      ]
     },
     "execution_count": 7,
     "metadata": {},
     "output_type": "execute_result"
    }
   ],
   "source": [
    "massshoot.iloc[1]"
   ]
  },
  {
   "cell_type": "code",
   "execution_count": 8,
   "metadata": {},
   "outputs": [],
   "source": [
    "#Add masss shoot data\n",
    "for i in range(len(massshoot)):\n",
    "    Date.append(massshoot.iloc[i][\"Date\"])\n",
    "    CrimeType.append(massshoot.iloc[i][\"CrimeType\"])\n",
    "    CrimeDetail.append(massshoot.iloc[i][\"Description\"])\n",
    "    Lat.append(massshoot.iloc[i]['Lat'])\n",
    "    Long.append(massshoot.iloc[i]['Long'])\n",
    "    LocDescription.append(massshoot.iloc[i]['LocDes'])\n",
    "    City.append(massshoot.iloc[i]['Location'])\n",
    "    Street.append(np.nan)\n",
    "    State.append(np.nan)\n",
    "    VictimAge.append(np.nan)\n",
    "    VictimGender.append(np.nan)\n",
    "    VictimRace.append(np.nan)\n",
    "    VictimDescript.append(np.nan)\n",
    "    TotalVictims.append(massshoot.iloc[i]['TotalVic'])\n",
    "    PerpeName.append(np.nan)\n",
    "    PerpeMental.append(massshoot.iloc[i]['Mental'])\n",
    "    PerpeFlee.append(np.nan)\n",
    "    PerpeRace.append(massshoot.iloc[i]['Race'])\n",
    "    PerpeAge.append(massshoot.iloc[i]['PerpeAge'])\n",
    "    PerpeGender.append(massshoot.iloc[i]['PerpeGender'])\n",
    "    PerpeNationality.append(np.nan)\n",
    "    PerpeVicRelation.append(np.nan)\n",
    "    Weapon.append(np.nan)\n",
    "    Motivation.append(np.nan)\n",
    "    NewsCoverage.append(np.nan)\n",
    "    PropertyDamage.append(np.nan)"
   ]
  },
  {
   "cell_type": "code",
   "execution_count": 9,
   "metadata": {},
   "outputs": [
    {
     "data": {
      "text/plain": [
       "date                                                    1970-01-01\n",
       "city                                                         Cairo\n",
       "state                                                     Illinois\n",
       "long                                                      -89.1763\n",
       "latitude                                                   37.0051\n",
       "summary          1/1/1970: Unknown African American assailants ...\n",
       "VicDescrition    Cairo Police Headquarters:Police:Police Buildi...\n",
       "VicNat                                               United States\n",
       "attacktype                                           Armed Assault\n",
       "motive              To protest the Cairo Illinois Police Deparment\n",
       "weapon                       Firearms:Several gunshots were fired.\n",
       "corp                                       Cairo Police Department\n",
       "groupname                                       Black Nationalists\n",
       "injured                                                          0\n",
       "Property                                                   nan:nan\n",
       "NewsCover        \"Police Chief Quits,\" Washington Post, January...\n",
       "Name: 0, dtype: object"
      ]
     },
     "execution_count": 9,
     "metadata": {},
     "output_type": "execute_result"
    }
   ],
   "source": [
    "USgbt.iloc[0]"
   ]
  },
  {
   "cell_type": "code",
   "execution_count": 10,
   "metadata": {},
   "outputs": [],
   "source": [
    "#Add US GBT data\n",
    "for i in range(len(USgbt)):\n",
    "    Date.append(USgbt.iloc[i][\"date\"])\n",
    "    CrimeType.append(USgbt.iloc[i][\"attacktype\"])\n",
    "    CrimeDetail.append(USgbt.iloc[i][\"summary\"])\n",
    "    Lat.append(USgbt.iloc[i][\"latitude\"])\n",
    "    Long.append(USgbt.iloc[i][\"long\"])\n",
    "    LocDescription.append(np.nan)\n",
    "    City.append(USgbt.iloc[i][\"city\"])\n",
    "    Street.append(np.nan)\n",
    "    State.append(USgbt.iloc[i][\"state\"])\n",
    "    VictimAge.append(np.nan)\n",
    "    VictimGender.append(np.nan)\n",
    "    VictimRace.append(np.nan)\n",
    "    VictimDescript.append(str(USgbt.iloc[i][\"VicDescrition\"])+\":\"+str(USgbt.iloc[i][\"VicNat\"]))# join with :\n",
    "    TotalVictims.append(USgbt.iloc[i][\"injured\"])\n",
    "    PerpeName.append(np.nan)\n",
    "    PerpeMental.append(np.nan)\n",
    "    PerpeFlee.append(np.nan)\n",
    "    PerpeRace.append(np.nan)\n",
    "    PerpeAge.append(np.nan)\n",
    "    PerpeGender.append(np.nan)\n",
    "    PerpeNationality.append(np.nan)\n",
    "    PerpeVicRelation.append(str(USgbt.iloc[i][\"corp\"])+\":\"+str(USgbt.iloc[i][\"groupname\"]))# join with :\n",
    "    Weapon.append(USgbt.iloc[i][\"weapon\"])\n",
    "    Motivation.append(USgbt.iloc[i][\"motive\"])\n",
    "    NewsCoverage.append(USgbt.iloc[i][\"NewsCover\"])\n",
    "    PropertyDamage.append(USgbt.iloc[i][\"Property\"])"
   ]
  },
  {
   "cell_type": "code",
   "execution_count": 11,
   "metadata": {},
   "outputs": [
    {
     "data": {
      "text/plain": [
       "City                                Anchorage\n",
       "State                                  Alaska\n",
       "Date                             1980-January\n",
       "CrimeType          Murder or Manslaughter:Yes\n",
       "VictimSex                                Male\n",
       "VictimAge                                  14\n",
       "VictimRace      Native American/Alaska Native\n",
       "PerpeSex                                 Male\n",
       "PerpeAge                                   15\n",
       "PerPeRace       Native American/Alaska Native\n",
       "Relationship                     Acquaintance\n",
       "Weapon                           Blunt Object\n",
       "Vicim Count                                 0\n",
       "Name: 0, dtype: object"
      ]
     },
     "execution_count": 11,
     "metadata": {},
     "output_type": "execute_result"
    }
   ],
   "source": [
    "HomiSet.iloc[0]"
   ]
  },
  {
   "cell_type": "code",
   "execution_count": 12,
   "metadata": {},
   "outputs": [],
   "source": [
    "#Add Homicide data\n",
    "for i in range(len(HomiSet)):\n",
    "    Date.append(HomiSet.iloc[i][\"Date\"])\n",
    "    CrimeType.append(HomiSet.iloc[i][\"CrimeType\"])\n",
    "    CrimeDetail.append(np.nan)\n",
    "    Lat.append(np.nan)\n",
    "    Long.append(np.nan)\n",
    "    LocDescription.append(np.nan)\n",
    "    City.append(HomiSet.iloc[i][\"City\"])\n",
    "    Street.append(np.nan)\n",
    "    State.append(HomiSet.iloc[i][\"State\"])\n",
    "    VictimAge.append(HomiSet.iloc[i][\"VictimAge\"])\n",
    "    VictimGender.append(HomiSet.iloc[i][\"VictimSex\"])\n",
    "    VictimRace.append(HomiSet.iloc[i][\"VictimRace\"])\n",
    "    VictimDescript.append(np.nan)\n",
    "    TotalVictims.append(HomiSet.iloc[i][\"Vicim Count\"])\n",
    "    PerpeName.append(np.nan)\n",
    "    PerpeMental.append(np.nan)\n",
    "    PerpeFlee.append(np.nan)\n",
    "    PerpeRace.append(HomiSet.iloc[i][\"PerPeRace\"])\n",
    "    PerpeAge.append(HomiSet.iloc[i][\"PerpeAge\"])\n",
    "    PerpeGender.append(HomiSet.iloc[i][\"PerpeSex\"])\n",
    "    PerpeNationality.append(np.nan)\n",
    "    PerpeVicRelation.append(HomiSet.iloc[i][\"Relationship\"])\n",
    "    Weapon.append(HomiSet.iloc[i][\"Weapon\"])\n",
    "    Motivation.append(np.nan)\n",
    "    NewsCoverage.append(np.nan)\n",
    "    PropertyDamage.append(np.nan)"
   ]
  },
  {
   "cell_type": "code",
   "execution_count": 13,
   "metadata": {},
   "outputs": [],
   "source": [
    "#Save final dataset to a dataframe\n",
    "newdf=pd.DataFrame()\n",
    "newdf[\"Date\"]=Date\n",
    "newdf[\"CrimeType\"]=CrimeType\n",
    "newdf[\"CrimeDetail\"]=CrimeDetail\n",
    "newdf[\"Lat\"]=Lat\n",
    "newdf[\"Long\"]=Long\n",
    "newdf[\"LocDescription\"]=LocDescription\n",
    "newdf[\"City\"]=City\n",
    "newdf[\"Street\"]=Street\n",
    "newdf[\"State\"]=State\n",
    "newdf[\"VictimAGe\"]=VictimAge\n",
    "newdf[\"VictimGender\"]=VictimGender\n",
    "newdf[\"VictimRace\"]=VictimRace\n",
    "newdf[\"VictimDescription\"]=VictimDescript\n",
    "newdf[\"TotalVictims\"]=TotalVictims\n",
    "newdf[\"PerpeName\"]=PerpeName\n",
    "newdf[\"PerpeMental\"]=PerpeMental\n",
    "newdf[\"PerpeFlee\"]=PerpeFlee\n",
    "newdf[\"PerpeRace\"]=PerpeRace\n",
    "newdf[\"PerpeGender\"]=PerpeGender\n",
    "newdf[\"PerpeAge\"]=PerpeAge\n",
    "newdf[\"PerpeNationlatiy\"]=PerpeNationality\n",
    "newdf[\"PerpeVicRelation\"]=PerpeVicRelation\n",
    "newdf[\"Weapon\"]=Weapon\n",
    "newdf[\"Motivation\"]=Motivation\n",
    "newdf[\"NewsCoverage\"]=NewsCoverage\n",
    "newdf[\"Property\"]=PropertyDamage\n"
   ]
  },
  {
   "cell_type": "code",
   "execution_count": 14,
   "metadata": {},
   "outputs": [],
   "source": [
    "newdf.to_csv(\"CrimeConnetec.csv\")"
   ]
  },
  {
   "cell_type": "code",
   "execution_count": null,
   "metadata": {},
   "outputs": [],
   "source": []
  }
 ],
 "metadata": {
  "kernelspec": {
   "display_name": "Python 3",
   "language": "python",
   "name": "python3"
  },
  "language_info": {
   "codemirror_mode": {
    "name": "ipython",
    "version": 3
   },
   "file_extension": ".py",
   "mimetype": "text/x-python",
   "name": "python",
   "nbconvert_exporter": "python",
   "pygments_lexer": "ipython3",
   "version": "3.7.6"
  }
 },
 "nbformat": 4,
 "nbformat_minor": 2
}
