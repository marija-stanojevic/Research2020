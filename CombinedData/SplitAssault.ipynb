{
 "cells": [
  {
   "cell_type": "code",
   "execution_count": 1,
   "metadata": {},
   "outputs": [],
   "source": [
    "import pandas as pd"
   ]
  },
  {
   "cell_type": "code",
   "execution_count": 2,
   "metadata": {},
   "outputs": [
    {
     "name": "stderr",
     "output_type": "stream",
     "text": [
      "/Users/quangpham/anaconda3/lib/python3.7/site-packages/IPython/core/interactiveshell.py:3051: DtypeWarning: Columns (6) have mixed types. Specify dtype option on import or set low_memory=False.\n",
      "  interactivity=interactivity, compiler=compiler, result=result)\n"
     ]
    }
   ],
   "source": [
    "df=pd.read_csv(\"CrimeConnected.csv\")"
   ]
  },
  {
   "cell_type": "code",
   "execution_count": 4,
   "metadata": {},
   "outputs": [],
   "source": [
    "assault=df[df['CrimeMap']=='assault']"
   ]
  },
  {
   "cell_type": "code",
   "execution_count": 7,
   "metadata": {},
   "outputs": [],
   "source": [
    "simple=[\"all other offenses\",\"other offenses\", \"other assaults\", \"other offense\", \"other crimes against persons\", \"investigate person\", \"simple assault\", \"Unarmed Assault\"]\n"
   ]
  },
  {
   "cell_type": "code",
   "execution_count": 12,
   "metadata": {},
   "outputs": [],
   "source": [
    "simpleList=[]\n",
    "aggList=[]\n",
    "for i in range(len(assault)):\n",
    "    if assault.iloc[i]['CrimeType'] in simple:\n",
    "        simpleList.append(i)\n",
    "    elif(assault.iloc[i]['CrimeType']=='assault'):\n",
    "         if(\"aggravated\" not in assault.iloc[i]['CrimeDetail']):\n",
    "            simpleList.append(i)\n",
    "         else:\n",
    "            aggList.append(i)\n",
    "    else:\n",
    "        aggList.append(i)"
   ]
  },
  {
   "cell_type": "code",
   "execution_count": null,
   "metadata": {},
   "outputs": [],
   "source": [
    "assault.iloc[simpleList].to_csv(\"Si\")"
   ]
  }
 ],
 "metadata": {
  "kernelspec": {
   "display_name": "Python 3",
   "language": "python",
   "name": "python3"
  },
  "language_info": {
   "codemirror_mode": {
    "name": "ipython",
    "version": 3
   },
   "file_extension": ".py",
   "mimetype": "text/x-python",
   "name": "python",
   "nbconvert_exporter": "python",
   "pygments_lexer": "ipython3",
   "version": "3.7.6"
  }
 },
 "nbformat": 4,
 "nbformat_minor": 2
}
