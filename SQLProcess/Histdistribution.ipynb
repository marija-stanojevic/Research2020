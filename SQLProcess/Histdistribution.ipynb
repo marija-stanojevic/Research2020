{
 "cells": [
  {
   "cell_type": "code",
   "execution_count": 1,
   "metadata": {},
   "outputs": [],
   "source": [
    "#Histogram on  robery, assault and murder CrimeMap\n",
    "import pandas as pd\n",
    "import matplotlib.pyplot as plt"
   ]
  },
  {
   "cell_type": "code",
   "execution_count": 2,
   "metadata": {},
   "outputs": [
    {
     "name": "stderr",
     "output_type": "stream",
     "text": [
      "/Users/quangpham/anaconda3/lib/python3.7/site-packages/IPython/core/interactiveshell.py:3051: DtypeWarning: Columns (3,6,8,9,11,12,13,15,16,17,18,19,20,22,23,24,25,26) have mixed types. Specify dtype option on import or set low_memory=False.\n",
      "  interactivity=interactivity, compiler=compiler, result=result)\n"
     ]
    }
   ],
   "source": [
    "df=pd.read_csv(\"CrimeConnected.csv\")"
   ]
  },
  {
   "cell_type": "code",
   "execution_count": 21,
   "metadata": {},
   "outputs": [],
   "source": [
    "assaultdf=df[df['CrimeMap']=='assault']\n",
    "robdf=df[df['CrimeMap']=='robbery']\n",
    "murder=df[df['CrimeMap']=='murder']"
   ]
  },
  {
   "cell_type": "code",
   "execution_count": 22,
   "metadata": {},
   "outputs": [
    {
     "data": {
      "text/plain": [
       "all other offenses                      0.251839\n",
       "assault                                 0.188305\n",
       "other offenses                          0.167520\n",
       "other assaults                          0.151091\n",
       "other offense                           0.079275\n",
       "aggravated assault no firearm           0.040506\n",
       "other crimes against persons            0.027855\n",
       "aggravated assault                      0.023442\n",
       "investigate person                      0.022987\n",
       "simple assault                          0.019398\n",
       "aggravated assault firearm              0.015743\n",
       "offense involving children              0.009476\n",
       "offenses against family and children    0.000897\n",
       "offenses against child / family         0.000668\n",
       "family offenses                         0.000565\n",
       "Armed Assault                           0.000348\n",
       "Unarmed Assault                         0.000075\n",
       "ritualism                               0.000010\n",
       "Name: CrimeType, dtype: float64"
      ]
     },
     "execution_count": 22,
     "metadata": {},
     "output_type": "execute_result"
    }
   ],
   "source": [
    "assaultdf['CrimeType'].value_counts(normalize=True)"
   ]
  },
  {
   "cell_type": "code",
   "execution_count": 23,
   "metadata": {},
   "outputs": [
    {
     "data": {
      "text/plain": [
       "larceny/theft                   0.243546\n",
       "theft                           0.187664\n",
       "thefts                          0.113545\n",
       "burglary                        0.109791\n",
       "theft from vehicle              0.072165\n",
       "robbery                         0.066281\n",
       "larceny                         0.065571\n",
       "burglary residential            0.044575\n",
       "theft from motor vehicle        0.033386\n",
       "robbery no firearm              0.021823\n",
       "robbery firearm                 0.015241\n",
       "larceny from motor vehicle      0.009847\n",
       "burglary non-residential        0.009827\n",
       "residential burglary            0.005089\n",
       "commercial burglary             0.001214\n",
       "other burglary                  0.000418\n",
       "Hijacking                       0.000015\n",
       "burglary - no property taken    0.000002\n",
       "Name: CrimeType, dtype: float64"
      ]
     },
     "execution_count": 23,
     "metadata": {},
     "output_type": "execute_result"
    }
   ],
   "source": [
    "robdf['CrimeType'].value_counts(normalize=True)"
   ]
  },
  {
   "cell_type": "code",
   "execution_count": 25,
   "metadata": {},
   "outputs": [
    {
     "data": {
      "text/plain": [
       "Murder or Manslaughter:Yes        0.684883\n",
       "Murder or Manslaughter:No         0.295954\n",
       "Manslaughter by Negligence:Yes    0.013603\n",
       "homicide - criminal               0.002762\n",
       "homicide                          0.001495\n",
       "Manslaughter by Negligence:No     0.000605\n",
       "murder                            0.000466\n",
       "Assassination                     0.000207\n",
       "homicide - gross negligence       0.000014\n",
       "manslaughter                      0.000012\n",
       "Name: CrimeType, dtype: float64"
      ]
     },
     "execution_count": 25,
     "metadata": {},
     "output_type": "execute_result"
    }
   ],
   "source": [
    "murder['CrimeType'].value_counts(normalize=True)"
   ]
  },
  {
   "cell_type": "code",
   "execution_count": null,
   "metadata": {},
   "outputs": [],
   "source": []
  }
 ],
 "metadata": {
  "kernelspec": {
   "display_name": "Python 3",
   "language": "python",
   "name": "python3"
  },
  "language_info": {
   "codemirror_mode": {
    "name": "ipython",
    "version": 3
   },
   "file_extension": ".py",
   "mimetype": "text/x-python",
   "name": "python",
   "nbconvert_exporter": "python",
   "pygments_lexer": "ipython3",
   "version": "3.7.6"
  }
 },
 "nbformat": 4,
 "nbformat_minor": 2
}
