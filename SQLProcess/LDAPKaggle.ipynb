{
 "cells": [
  {
   "cell_type": "code",
   "execution_count": 1,
   "metadata": {
    "colab": {},
    "colab_type": "code",
    "id": "fxtRD0BJRzID"
   },
   "outputs": [],
   "source": [
    "#THIS CODE WAS LITERALLY COPIED FROM ANALYTICS VIDHYA AT https://www.analyticsvidhya.com/blog/2016/08/beginners-guide-to-topic-modeling-in-python/\n"
   ]
  },
  {
   "cell_type": "code",
   "execution_count": 2,
   "metadata": {
    "colab": {},
    "colab_type": "code",
    "id": "TZiWFBN_b0p8"
   },
   "outputs": [
    {
     "name": "stderr",
     "output_type": "stream",
     "text": [
      "[nltk_data] Downloading package stopwords to\n",
      "[nltk_data]     /Users/quangpham/nltk_data...\n",
      "[nltk_data]   Package stopwords is already up-to-date!\n",
      "[nltk_data] Downloading package wordnet to\n",
      "[nltk_data]     /Users/quangpham/nltk_data...\n",
      "[nltk_data]   Package wordnet is already up-to-date!\n",
      "[nltk_data] Downloading package punkt to /Users/quangpham/nltk_data...\n",
      "[nltk_data]   Package punkt is already up-to-date!\n"
     ]
    }
   ],
   "source": [
    "import nltk \n",
    "nltk.download('stopwords')\n",
    "nltk.download('wordnet')\n",
    "nltk.download('punkt')\n",
    "from nltk.corpus import stopwords\n",
    "from nltk.stem.wordnet import WordNetLemmatizer\n",
    "import gensim \n",
    "from gensim import corpora\n",
    "import pandas as pd\n",
    "import re \n",
    "import string\n",
    "\n",
    "\n",
    "#from google.colab import drive\n",
    "#drive.mount('/content/drive')"
   ]
  },
  {
   "cell_type": "code",
   "execution_count": 3,
   "metadata": {
    "colab": {},
    "colab_type": "code",
    "id": "AcqVKXRESelo"
   },
   "outputs": [],
   "source": [
    "def clean(doc):\n",
    "    stop_free = \" \".join([i for i in doc.lower().split() if i not in stop])\n",
    "    punc_free = ''.join(ch for ch in stop_free if ch not in exclude)\n",
    "    normalized = \" \".join(lemma.lemmatize(word) for word in punc_free.split())\n",
    "    return normalized"
   ]
  },
  {
   "cell_type": "code",
   "execution_count": 4,
   "metadata": {
    "colab": {},
    "colab_type": "code",
    "id": "10SoB2lcWUFX"
   },
   "outputs": [],
   "source": [
    "abc = pd.read_csv('Entitiy.csv')\n",
    "abc = abc.loc[:, ~abc.columns.str.contains('^Unnamed')]"
   ]
  },
  {
   "cell_type": "code",
   "execution_count": 5,
   "metadata": {},
   "outputs": [
    {
     "data": {
      "text/html": [
       "<div>\n",
       "<style scoped>\n",
       "    .dataframe tbody tr th:only-of-type {\n",
       "        vertical-align: middle;\n",
       "    }\n",
       "\n",
       "    .dataframe tbody tr th {\n",
       "        vertical-align: top;\n",
       "    }\n",
       "\n",
       "    .dataframe thead th {\n",
       "        text-align: right;\n",
       "    }\n",
       "</style>\n",
       "<table border=\"1\" class=\"dataframe\">\n",
       "  <thead>\n",
       "    <tr style=\"text-align: right;\">\n",
       "      <th></th>\n",
       "      <th>ArticleID</th>\n",
       "      <th>Title</th>\n",
       "      <th>NewslineID</th>\n",
       "      <th>NewsOutletID</th>\n",
       "      <th>Publishtime</th>\n",
       "      <th>OutletName</th>\n",
       "      <th>ArticleText</th>\n",
       "      <th>ArticleURL</th>\n",
       "      <th>common_ents</th>\n",
       "    </tr>\n",
       "  </thead>\n",
       "  <tbody>\n",
       "    <tr>\n",
       "      <th>0</th>\n",
       "      <td>5.0</td>\n",
       "      <td>FDA approves drug that uses herpes virus to fi...</td>\n",
       "      <td>17.0</td>\n",
       "      <td>5.0</td>\n",
       "      <td>10/28/15 0:00</td>\n",
       "      <td>cbsnews</td>\n",
       "      <td>AP October 27 2015 6:44 PM FDA approves drug t...</td>\n",
       "      <td>./src/html/crawl1_2015-10-28/Cancer/FDA approv...</td>\n",
       "      <td>[('FDA', 2), ('Imlygic', 2), ('at least six mo...</td>\n",
       "    </tr>\n",
       "  </tbody>\n",
       "</table>\n",
       "</div>"
      ],
      "text/plain": [
       "   ArticleID                                              Title  NewslineID  \\\n",
       "0        5.0  FDA approves drug that uses herpes virus to fi...        17.0   \n",
       "\n",
       "   NewsOutletID    Publishtime OutletName  \\\n",
       "0           5.0  10/28/15 0:00    cbsnews   \n",
       "\n",
       "                                         ArticleText  \\\n",
       "0  AP October 27 2015 6:44 PM FDA approves drug t...   \n",
       "\n",
       "                                          ArticleURL  \\\n",
       "0  ./src/html/crawl1_2015-10-28/Cancer/FDA approv...   \n",
       "\n",
       "                                         common_ents  \n",
       "0  [('FDA', 2), ('Imlygic', 2), ('at least six mo...  "
      ]
     },
     "execution_count": 5,
     "metadata": {},
     "output_type": "execute_result"
    }
   ],
   "source": [
    "abc.head(1)"
   ]
  },
  {
   "cell_type": "code",
   "execution_count": 8,
   "metadata": {},
   "outputs": [],
   "source": [
    "removelist=['drug','warrant','accident','weapon','gambling','policeRelatedIncidents','trespass','violations','others']"
   ]
  },
  {
   "cell_type": "code",
   "execution_count": 12,
   "metadata": {},
   "outputs": [],
   "source": [
    "for i in removelist:\n",
    "    indexNames = abc[abc['CrimeMap']==i].index\n",
    "    abc.drop(indexNames , inplace=True)"
   ]
  },
  {
   "cell_type": "code",
   "execution_count": 30,
   "metadata": {},
   "outputs": [
    {
     "data": {
      "text/plain": [
       "array(['robbery', 'vandalism', 'property', 'Vehicle', 'disputes',\n",
       "       'fire related reports', 'assault', 'harassment', 'missing',\n",
       "       'fraud', 'arson', 'prostitution', 'murder', 'explosives',\n",
       "       'hostage', 'sexual', 'bribery', 'shooting'], dtype=object)"
      ]
     },
     "execution_count": 30,
     "metadata": {},
     "output_type": "execute_result"
    }
   ],
   "source": [
    "abc['CrimeMap'].unique()"
   ]
  },
  {
   "cell_type": "code",
   "execution_count": 32,
   "metadata": {},
   "outputs": [],
   "source": [
    "df1=abc[['CrimeDetail','DataBase']]"
   ]
  },
  {
   "cell_type": "code",
   "execution_count": 33,
   "metadata": {},
   "outputs": [],
   "source": [
    "df1=df1.dropna(axis=0, how='any', thresh=None, subset=None, inplace=False)"
   ]
  },
  {
   "cell_type": "code",
   "execution_count": 34,
   "metadata": {},
   "outputs": [],
   "source": [
    "un1=df1['CrimeDetail'].unique()"
   ]
  },
  {
   "cell_type": "code",
   "execution_count": 35,
   "metadata": {},
   "outputs": [],
   "source": [
    "joinDetail=[]\n",
    "str1=''\n",
    "for i in un1:\n",
    "    str1=str1+' '+str(i)\n",
    "text=str1        "
   ]
  },
  {
   "cell_type": "code",
   "execution_count": 36,
   "metadata": {},
   "outputs": [
    {
     "data": {
      "text/plain": [
       "1255681"
      ]
     },
     "execution_count": 36,
     "metadata": {},
     "output_type": "execute_result"
    }
   ],
   "source": [
    "len(text)"
   ]
  },
  {
   "cell_type": "code",
   "execution_count": 37,
   "metadata": {
    "colab": {},
    "colab_type": "code",
    "id": "zQPd-CnQWr1t"
   },
   "outputs": [],
   "source": [
    "corpus = nltk.sent_tokenize(text)"
   ]
  },
  {
   "cell_type": "code",
   "execution_count": 38,
   "metadata": {
    "colab": {},
    "colab_type": "code",
    "id": "Re5rcoM7YJRp"
   },
   "outputs": [],
   "source": [
    "\n",
    "for i in range(len(corpus)):\n",
    "  corpus [i] = corpus [i].lower()\n",
    "  corpus [i] = re.sub(r'\\W',' ',corpus [i])\n",
    "  corpus [i] = re.sub(r'\\s+',' ',corpus [i])\n",
    "  corpus[i] = re.sub(r'[0-9]', '', corpus[i])\n",
    "\n",
    "corpus.remove(corpus[0])\n",
    "\n"
   ]
  },
  {
   "cell_type": "code",
   "execution_count": 39,
   "metadata": {
    "colab": {},
    "colab_type": "code",
    "id": "DG6r7E9BYVju"
   },
   "outputs": [],
   "source": [
    "stop = set(stopwords.words('english'))\n",
    "exclude = set(string.punctuation)\n",
    "lemma = WordNetLemmatizer()\n",
    "\n",
    "corpus_clean = [clean(sent).split() for sent in corpus]"
   ]
  },
  {
   "cell_type": "code",
   "execution_count": 40,
   "metadata": {
    "colab": {},
    "colab_type": "code",
    "id": "joYg3FqKaTqN"
   },
   "outputs": [],
   "source": [
    "dictionary = corpora.Dictionary(corpus_clean)\n",
    "doc_term_matrix = [dictionary.doc2bow(sent) for sent in corpus_clean]"
   ]
  },
  {
   "cell_type": "code",
   "execution_count": 41,
   "metadata": {
    "colab": {},
    "colab_type": "code",
    "id": "8gDWza_naqSa"
   },
   "outputs": [],
   "source": [
    "Lda = gensim.models.ldamodel.LdaModel\n",
    "ldamodel = Lda(doc_term_matrix, num_topics=18, id2word=dictionary, passes=1500)"
   ]
  },
  {
   "cell_type": "code",
   "execution_count": 42,
   "metadata": {
    "colab": {},
    "colab_type": "code",
    "id": "Wf0gBHPhat-f"
   },
   "outputs": [
    {
     "name": "stdout",
     "output_type": "stream",
     "text": [
      "[(0, '0.032*\"robbery\" + 0.027*\"meet\" + 0.026*\"theft\" + 0.020*\"attempted\" + 0.017*\"airport\" + 0.016*\"stolen\" + 0.016*\"hotel\" + 0.015*\"weapon\" + 0.014*\"burglary\" + 0.014*\"money\" + 0.013*\"assault\" + 0.013*\"child\" + 0.013*\"regional\" + 0.013*\"neighborhood\" + 0.011*\"non\"'), (1, '0.062*\"animal\" + 0.035*\"arson\" + 0.030*\"right\" + 0.021*\"th\" + 0.020*\"message\" + 0.018*\"nevada\" + 0.017*\"several\" + 0.015*\"employee\" + 0.013*\"bus\" + 0.013*\"involvement\" + 0.013*\"avenue\" + 0.009*\"iowa\" + 0.009*\"local\" + 0.009*\"unclear\" + 0.009*\"may\"'), (2, '0.064*\"incident\" + 0.038*\"attack\" + 0.030*\"american\" + 0.028*\"black\" + 0.028*\"related\" + 0.028*\"victim\" + 0.028*\"white\" + 0.027*\"place\" + 0.027*\"time\" + 0.027*\"took\" + 0.025*\"believed\" + 0.020*\"police\" + 0.020*\"terrorism\" + 0.020*\"racial\" + 0.016*\"motivated\"'), (3, '0.069*\"police\" + 0.050*\"vehicle\" + 0.049*\"car\" + 0.041*\"perpetrator\" + 0.038*\"officer\" + 0.022*\"shooting\" + 0.021*\"inside\" + 0.020*\"note\" + 0.020*\"fire\" + 0.018*\"scene\" + 0.016*\"kill\" + 0.014*\"left\" + 0.014*\"fired\" + 0.013*\"well\" + 0.013*\"donald\"'), (4, '0.078*\"injured\" + 0.058*\"one\" + 0.043*\"home\" + 0.039*\"three\" + 0.037*\"truck\" + 0.035*\"ignited\" + 0.026*\"arson\" + 0.024*\"construction\" + 0.023*\"two\" + 0.022*\"firebomb\" + 0.022*\"blast\" + 0.020*\"causing\" + 0.018*\"power\" + 0.015*\"nine\" + 0.015*\"building\"'), (5, '0.128*\"state\" + 0.118*\"united\" + 0.041*\"nan\" + 0.036*\"unknown\" + 0.033*\"perpetrator\" + 0.032*\"fire\" + 0.027*\"new\" + 0.026*\"set\" + 0.024*\"california\" + 0.020*\"york\" + 0.017*\"bomb\" + 0.012*\"city\" + 0.012*\"bombed\" + 0.012*\"building\" + 0.010*\"center\"'), (6, '0.102*\"authority\" + 0.052*\"stated\" + 0.049*\"attack\" + 0.032*\"may\" + 0.031*\"people\" + 0.030*\"suspected\" + 0.029*\"carried\" + 0.028*\"claim\" + 0.026*\"least\" + 0.026*\"order\" + 0.025*\"suicide\" + 0.020*\"however\" + 0.018*\"committed\" + 0.016*\"statement\" + 0.012*\"medium\"'), (7, '0.032*\"office\" + 0.025*\"san\" + 0.021*\"muslim\" + 0.020*\"post\" + 0.020*\"bank\" + 0.020*\"minute\" + 0.019*\"francisco\" + 0.019*\"letter\" + 0.018*\"gay\" + 0.017*\"two\" + 0.017*\"black\" + 0.016*\"kenneth\" + 0.014*\"campaign\" + 0.013*\"army\" + 0.013*\"within\"'), (8, '0.072*\"incident\" + 0.069*\"occurred\" + 0.052*\"letter\" + 0.052*\"also\" + 0.050*\"similar\" + 0.046*\"september\" + 0.035*\"two\" + 0.034*\"guilty\" + 0.026*\"charged\" + 0.024*\"sent\" + 0.023*\"paddock\" + 0.021*\"pm\" + 0.020*\"michael\" + 0.019*\"la\" + 0.018*\"exploded\"'), (9, '0.169*\"casualty\" + 0.128*\"damage\" + 0.064*\"building\" + 0.045*\"sustained\" + 0.040*\"fire\" + 0.039*\"caused\" + 0.037*\"incident\" + 0.023*\"damaged\" + 0.022*\"minor\" + 0.022*\"first\" + 0.021*\"unknown\" + 0.019*\"injury\" + 0.019*\"number\" + 0.017*\"destroyed\" + 0.016*\"window\"'), (10, '0.093*\"bomb\" + 0.077*\"device\" + 0.035*\"discovered\" + 0.035*\"front\" + 0.031*\"incendiary\" + 0.030*\"liberation\" + 0.025*\"anti\" + 0.024*\"detonated\" + 0.021*\"placed\" + 0.020*\"explosive\" + 0.018*\"failed\" + 0.017*\"los\" + 0.015*\"angeles\" + 0.015*\"used\" + 0.013*\"government\"'), (11, '0.061*\"day\" + 0.045*\"attack\" + 0.038*\"incident\" + 0.038*\"bombing\" + 0.033*\"series\" + 0.033*\"one\" + 0.026*\"two\" + 0.025*\"related\" + 0.024*\"puerto\" + 0.023*\"national\" + 0.022*\"claimed\" + 0.019*\"state\" + 0.017*\"three\" + 0.017*\"armed\" + 0.016*\"four\"'), (12, '0.100*\"attack\" + 0.091*\"claimed\" + 0.090*\"group\" + 0.082*\"responsibility\" + 0.050*\"incident\" + 0.045*\"reported\" + 0.039*\"identified\" + 0.037*\"however\" + 0.033*\"part\" + 0.028*\"church\" + 0.025*\"multiple\" + 0.014*\"following\" + 0.013*\"white\" + 0.012*\"individual\" + 0.012*\"civilian\"'), (13, '0.065*\"school\" + 0.048*\"old\" + 0.045*\"year\" + 0.044*\"student\" + 0.035*\"high\" + 0.027*\"university\" + 0.025*\"believe\" + 0.024*\"puerto\" + 0.022*\"facility\" + 0.020*\"juan\" + 0.020*\"rico\" + 0.018*\"began\" + 0.017*\"protest\" + 0.016*\"san\" + 0.014*\"campus\"'), (14, '0.095*\"source\" + 0.055*\"year\" + 0.040*\"sentenced\" + 0.035*\"prison\" + 0.030*\"health\" + 0.026*\"u\" + 0.025*\"attacked\" + 0.024*\"federal\" + 0.023*\"capitol\" + 0.018*\"though\" + 0.017*\"government\" + 0.017*\"restaurant\" + 0.015*\"virginia\" + 0.015*\"citizen\" + 0.014*\"gasoline\"'), (15, '0.053*\"arrested\" + 0.028*\"two\" + 0.026*\"week\" + 0.025*\"later\" + 0.021*\"organization\" + 0.019*\"member\" + 0.019*\"murder\" + 0.019*\"perpetrator\" + 0.018*\"jewish\" + 0.018*\"incident\" + 0.018*\"planned\" + 0.017*\"james\" + 0.017*\"charged\" + 0.016*\"convicted\" + 0.015*\"parenthood\"'), (16, '0.071*\"clinic\" + 0.060*\"abortion\" + 0.031*\"across\" + 0.021*\"many\" + 0.020*\"explosion\" + 0.019*\"period\" + 0.018*\"month\" + 0.018*\"target\" + 0.017*\"previously\" + 0.017*\"primate\" + 0.015*\"time\" + 0.013*\"center\" + 0.013*\"behind\" + 0.012*\"earlier\" + 0.012*\"area\"'), (17, '0.118*\"assailant\" + 0.064*\"shot\" + 0.056*\"killed\" + 0.030*\"two\" + 0.026*\"opened\" + 0.022*\"street\" + 0.021*\"police\" + 0.019*\"people\" + 0.018*\"man\" + 0.017*\"killing\" + 0.016*\"wounded\" + 0.015*\"home\" + 0.015*\"shooting\" + 0.015*\"one\" + 0.014*\"fired\"')]\n"
     ]
    }
   ],
   "source": [
    "print(ldamodel.print_topics(num_topics=18, num_words=15))"
   ]
  },
  {
   "cell_type": "code",
   "execution_count": 43,
   "metadata": {},
   "outputs": [],
   "source": [
    "out=ldamodel.print_topics(num_topics=18, num_words=15)"
   ]
  },
  {
   "cell_type": "code",
   "execution_count": 48,
   "metadata": {},
   "outputs": [],
   "source": [
    "df2=pd.DataFrame()\n",
    "df2['Topics']=out\n",
    "df2.to_csv(\"CrimeDetails.csv\")"
   ]
  },
  {
   "cell_type": "code",
   "execution_count": 0,
   "metadata": {
    "colab": {},
    "colab_type": "code",
    "id": "dLTJGklOF42A"
   },
   "outputs": [],
   "source": [
    "#State, Conviction, Pardon   Avery, Dassey, Pardon   Wisconsin, Trial, Murder\n",
    "\n",
    "# [(0, '0.020*\"evidence\" + 0.020*\"conviction\" + 0.012*\"men\"'), (1, '0.039*\"state\" + 0.030*\"conviction\" + 0.030*\"pardon\"'), (2, '0.035*\"avery\" + 0.035*\"wisconsin\" + 0.028*\"dassey\"')]"
   ]
  },
  {
   "cell_type": "code",
   "execution_count": 92,
   "metadata": {},
   "outputs": [
    {
     "ename": "TypeError",
     "evalue": "expected string or bytes-like object",
     "output_type": "error",
     "traceback": [
      "\u001b[0;31m---------------------------------------------------------------------------\u001b[0m",
      "\u001b[0;31mTypeError\u001b[0m                                 Traceback (most recent call last)",
      "\u001b[0;32m<ipython-input-92-2e68dd48501e>\u001b[0m in \u001b[0;36m<module>\u001b[0;34m\u001b[0m\n\u001b[1;32m      1\u001b[0m \u001b[0mtopicArray\u001b[0m\u001b[0;34m=\u001b[0m\u001b[0;34m[\u001b[0m\u001b[0;34m]\u001b[0m\u001b[0;34m\u001b[0m\u001b[0;34m\u001b[0m\u001b[0m\n\u001b[1;32m      2\u001b[0m \u001b[0;32mfor\u001b[0m \u001b[0mtext\u001b[0m \u001b[0;32min\u001b[0m \u001b[0mtextdf\u001b[0m\u001b[0;34m:\u001b[0m\u001b[0;34m\u001b[0m\u001b[0;34m\u001b[0m\u001b[0m\n\u001b[0;32m----> 3\u001b[0;31m     \u001b[0mcorpus\u001b[0m \u001b[0;34m=\u001b[0m \u001b[0mnltk\u001b[0m\u001b[0;34m.\u001b[0m\u001b[0msent_tokenize\u001b[0m\u001b[0;34m(\u001b[0m\u001b[0mtext\u001b[0m\u001b[0;34m)\u001b[0m\u001b[0;34m\u001b[0m\u001b[0;34m\u001b[0m\u001b[0m\n\u001b[0m\u001b[1;32m      4\u001b[0m     \u001b[0;32mfor\u001b[0m \u001b[0mi\u001b[0m \u001b[0;32min\u001b[0m \u001b[0mrange\u001b[0m\u001b[0;34m(\u001b[0m\u001b[0mlen\u001b[0m\u001b[0;34m(\u001b[0m\u001b[0mcorpus\u001b[0m\u001b[0;34m)\u001b[0m\u001b[0;34m)\u001b[0m\u001b[0;34m:\u001b[0m\u001b[0;34m\u001b[0m\u001b[0;34m\u001b[0m\u001b[0m\n\u001b[1;32m      5\u001b[0m           \u001b[0mcorpus\u001b[0m \u001b[0;34m[\u001b[0m\u001b[0mi\u001b[0m\u001b[0;34m]\u001b[0m \u001b[0;34m=\u001b[0m \u001b[0mcorpus\u001b[0m \u001b[0;34m[\u001b[0m\u001b[0mi\u001b[0m\u001b[0;34m]\u001b[0m\u001b[0;34m.\u001b[0m\u001b[0mlower\u001b[0m\u001b[0;34m(\u001b[0m\u001b[0;34m)\u001b[0m\u001b[0;34m\u001b[0m\u001b[0;34m\u001b[0m\u001b[0m\n",
      "\u001b[0;32m~/anaconda3/lib/python3.7/site-packages/nltk/tokenize/__init__.py\u001b[0m in \u001b[0;36msent_tokenize\u001b[0;34m(text, language)\u001b[0m\n\u001b[1;32m    104\u001b[0m     \"\"\"\n\u001b[1;32m    105\u001b[0m     \u001b[0mtokenizer\u001b[0m \u001b[0;34m=\u001b[0m \u001b[0mload\u001b[0m\u001b[0;34m(\u001b[0m\u001b[0;34m'tokenizers/punkt/{0}.pickle'\u001b[0m\u001b[0;34m.\u001b[0m\u001b[0mformat\u001b[0m\u001b[0;34m(\u001b[0m\u001b[0mlanguage\u001b[0m\u001b[0;34m)\u001b[0m\u001b[0;34m)\u001b[0m\u001b[0;34m\u001b[0m\u001b[0;34m\u001b[0m\u001b[0m\n\u001b[0;32m--> 106\u001b[0;31m     \u001b[0;32mreturn\u001b[0m \u001b[0mtokenizer\u001b[0m\u001b[0;34m.\u001b[0m\u001b[0mtokenize\u001b[0m\u001b[0;34m(\u001b[0m\u001b[0mtext\u001b[0m\u001b[0;34m)\u001b[0m\u001b[0;34m\u001b[0m\u001b[0;34m\u001b[0m\u001b[0m\n\u001b[0m\u001b[1;32m    107\u001b[0m \u001b[0;34m\u001b[0m\u001b[0m\n\u001b[1;32m    108\u001b[0m \u001b[0;34m\u001b[0m\u001b[0m\n",
      "\u001b[0;32m~/anaconda3/lib/python3.7/site-packages/nltk/tokenize/punkt.py\u001b[0m in \u001b[0;36mtokenize\u001b[0;34m(self, text, realign_boundaries)\u001b[0m\n\u001b[1;32m   1275\u001b[0m         \u001b[0mGiven\u001b[0m \u001b[0ma\u001b[0m \u001b[0mtext\u001b[0m\u001b[0;34m,\u001b[0m \u001b[0mreturns\u001b[0m \u001b[0ma\u001b[0m \u001b[0mlist\u001b[0m \u001b[0mof\u001b[0m \u001b[0mthe\u001b[0m \u001b[0msentences\u001b[0m \u001b[0;32min\u001b[0m \u001b[0mthat\u001b[0m \u001b[0mtext\u001b[0m\u001b[0;34m.\u001b[0m\u001b[0;34m\u001b[0m\u001b[0;34m\u001b[0m\u001b[0m\n\u001b[1;32m   1276\u001b[0m         \"\"\"\n\u001b[0;32m-> 1277\u001b[0;31m         \u001b[0;32mreturn\u001b[0m \u001b[0mlist\u001b[0m\u001b[0;34m(\u001b[0m\u001b[0mself\u001b[0m\u001b[0;34m.\u001b[0m\u001b[0msentences_from_text\u001b[0m\u001b[0;34m(\u001b[0m\u001b[0mtext\u001b[0m\u001b[0;34m,\u001b[0m \u001b[0mrealign_boundaries\u001b[0m\u001b[0;34m)\u001b[0m\u001b[0;34m)\u001b[0m\u001b[0;34m\u001b[0m\u001b[0;34m\u001b[0m\u001b[0m\n\u001b[0m\u001b[1;32m   1278\u001b[0m \u001b[0;34m\u001b[0m\u001b[0m\n\u001b[1;32m   1279\u001b[0m     \u001b[0;32mdef\u001b[0m \u001b[0mdebug_decisions\u001b[0m\u001b[0;34m(\u001b[0m\u001b[0mself\u001b[0m\u001b[0;34m,\u001b[0m \u001b[0mtext\u001b[0m\u001b[0;34m)\u001b[0m\u001b[0;34m:\u001b[0m\u001b[0;34m\u001b[0m\u001b[0;34m\u001b[0m\u001b[0m\n",
      "\u001b[0;32m~/anaconda3/lib/python3.7/site-packages/nltk/tokenize/punkt.py\u001b[0m in \u001b[0;36msentences_from_text\u001b[0;34m(self, text, realign_boundaries)\u001b[0m\n\u001b[1;32m   1329\u001b[0m         \u001b[0mfollows\u001b[0m \u001b[0mthe\u001b[0m \u001b[0mperiod\u001b[0m\u001b[0;34m.\u001b[0m\u001b[0;34m\u001b[0m\u001b[0;34m\u001b[0m\u001b[0m\n\u001b[1;32m   1330\u001b[0m         \"\"\"\n\u001b[0;32m-> 1331\u001b[0;31m         \u001b[0;32mreturn\u001b[0m \u001b[0;34m[\u001b[0m\u001b[0mtext\u001b[0m\u001b[0;34m[\u001b[0m\u001b[0ms\u001b[0m\u001b[0;34m:\u001b[0m\u001b[0me\u001b[0m\u001b[0;34m]\u001b[0m \u001b[0;32mfor\u001b[0m \u001b[0ms\u001b[0m\u001b[0;34m,\u001b[0m \u001b[0me\u001b[0m \u001b[0;32min\u001b[0m \u001b[0mself\u001b[0m\u001b[0;34m.\u001b[0m\u001b[0mspan_tokenize\u001b[0m\u001b[0;34m(\u001b[0m\u001b[0mtext\u001b[0m\u001b[0;34m,\u001b[0m \u001b[0mrealign_boundaries\u001b[0m\u001b[0;34m)\u001b[0m\u001b[0;34m]\u001b[0m\u001b[0;34m\u001b[0m\u001b[0;34m\u001b[0m\u001b[0m\n\u001b[0m\u001b[1;32m   1332\u001b[0m \u001b[0;34m\u001b[0m\u001b[0m\n\u001b[1;32m   1333\u001b[0m     \u001b[0;32mdef\u001b[0m \u001b[0m_slices_from_text\u001b[0m\u001b[0;34m(\u001b[0m\u001b[0mself\u001b[0m\u001b[0;34m,\u001b[0m \u001b[0mtext\u001b[0m\u001b[0;34m)\u001b[0m\u001b[0;34m:\u001b[0m\u001b[0;34m\u001b[0m\u001b[0;34m\u001b[0m\u001b[0m\n",
      "\u001b[0;32m~/anaconda3/lib/python3.7/site-packages/nltk/tokenize/punkt.py\u001b[0m in \u001b[0;36m<listcomp>\u001b[0;34m(.0)\u001b[0m\n\u001b[1;32m   1329\u001b[0m         \u001b[0mfollows\u001b[0m \u001b[0mthe\u001b[0m \u001b[0mperiod\u001b[0m\u001b[0;34m.\u001b[0m\u001b[0;34m\u001b[0m\u001b[0;34m\u001b[0m\u001b[0m\n\u001b[1;32m   1330\u001b[0m         \"\"\"\n\u001b[0;32m-> 1331\u001b[0;31m         \u001b[0;32mreturn\u001b[0m \u001b[0;34m[\u001b[0m\u001b[0mtext\u001b[0m\u001b[0;34m[\u001b[0m\u001b[0ms\u001b[0m\u001b[0;34m:\u001b[0m\u001b[0me\u001b[0m\u001b[0;34m]\u001b[0m \u001b[0;32mfor\u001b[0m \u001b[0ms\u001b[0m\u001b[0;34m,\u001b[0m \u001b[0me\u001b[0m \u001b[0;32min\u001b[0m \u001b[0mself\u001b[0m\u001b[0;34m.\u001b[0m\u001b[0mspan_tokenize\u001b[0m\u001b[0;34m(\u001b[0m\u001b[0mtext\u001b[0m\u001b[0;34m,\u001b[0m \u001b[0mrealign_boundaries\u001b[0m\u001b[0;34m)\u001b[0m\u001b[0;34m]\u001b[0m\u001b[0;34m\u001b[0m\u001b[0;34m\u001b[0m\u001b[0m\n\u001b[0m\u001b[1;32m   1332\u001b[0m \u001b[0;34m\u001b[0m\u001b[0m\n\u001b[1;32m   1333\u001b[0m     \u001b[0;32mdef\u001b[0m \u001b[0m_slices_from_text\u001b[0m\u001b[0;34m(\u001b[0m\u001b[0mself\u001b[0m\u001b[0;34m,\u001b[0m \u001b[0mtext\u001b[0m\u001b[0;34m)\u001b[0m\u001b[0;34m:\u001b[0m\u001b[0;34m\u001b[0m\u001b[0;34m\u001b[0m\u001b[0m\n",
      "\u001b[0;32m~/anaconda3/lib/python3.7/site-packages/nltk/tokenize/punkt.py\u001b[0m in \u001b[0;36mspan_tokenize\u001b[0;34m(self, text, realign_boundaries)\u001b[0m\n\u001b[1;32m   1319\u001b[0m         \u001b[0;32mif\u001b[0m \u001b[0mrealign_boundaries\u001b[0m\u001b[0;34m:\u001b[0m\u001b[0;34m\u001b[0m\u001b[0;34m\u001b[0m\u001b[0m\n\u001b[1;32m   1320\u001b[0m             \u001b[0mslices\u001b[0m \u001b[0;34m=\u001b[0m \u001b[0mself\u001b[0m\u001b[0;34m.\u001b[0m\u001b[0m_realign_boundaries\u001b[0m\u001b[0;34m(\u001b[0m\u001b[0mtext\u001b[0m\u001b[0;34m,\u001b[0m \u001b[0mslices\u001b[0m\u001b[0;34m)\u001b[0m\u001b[0;34m\u001b[0m\u001b[0;34m\u001b[0m\u001b[0m\n\u001b[0;32m-> 1321\u001b[0;31m         \u001b[0;32mfor\u001b[0m \u001b[0msl\u001b[0m \u001b[0;32min\u001b[0m \u001b[0mslices\u001b[0m\u001b[0;34m:\u001b[0m\u001b[0;34m\u001b[0m\u001b[0;34m\u001b[0m\u001b[0m\n\u001b[0m\u001b[1;32m   1322\u001b[0m             \u001b[0;32myield\u001b[0m \u001b[0;34m(\u001b[0m\u001b[0msl\u001b[0m\u001b[0;34m.\u001b[0m\u001b[0mstart\u001b[0m\u001b[0;34m,\u001b[0m \u001b[0msl\u001b[0m\u001b[0;34m.\u001b[0m\u001b[0mstop\u001b[0m\u001b[0;34m)\u001b[0m\u001b[0;34m\u001b[0m\u001b[0;34m\u001b[0m\u001b[0m\n\u001b[1;32m   1323\u001b[0m \u001b[0;34m\u001b[0m\u001b[0m\n",
      "\u001b[0;32m~/anaconda3/lib/python3.7/site-packages/nltk/tokenize/punkt.py\u001b[0m in \u001b[0;36m_realign_boundaries\u001b[0;34m(self, text, slices)\u001b[0m\n\u001b[1;32m   1360\u001b[0m         \"\"\"\n\u001b[1;32m   1361\u001b[0m         \u001b[0mrealign\u001b[0m \u001b[0;34m=\u001b[0m \u001b[0;36m0\u001b[0m\u001b[0;34m\u001b[0m\u001b[0;34m\u001b[0m\u001b[0m\n\u001b[0;32m-> 1362\u001b[0;31m         \u001b[0;32mfor\u001b[0m \u001b[0msl1\u001b[0m\u001b[0;34m,\u001b[0m \u001b[0msl2\u001b[0m \u001b[0;32min\u001b[0m \u001b[0m_pair_iter\u001b[0m\u001b[0;34m(\u001b[0m\u001b[0mslices\u001b[0m\u001b[0;34m)\u001b[0m\u001b[0;34m:\u001b[0m\u001b[0;34m\u001b[0m\u001b[0;34m\u001b[0m\u001b[0m\n\u001b[0m\u001b[1;32m   1363\u001b[0m             \u001b[0msl1\u001b[0m \u001b[0;34m=\u001b[0m \u001b[0mslice\u001b[0m\u001b[0;34m(\u001b[0m\u001b[0msl1\u001b[0m\u001b[0;34m.\u001b[0m\u001b[0mstart\u001b[0m \u001b[0;34m+\u001b[0m \u001b[0mrealign\u001b[0m\u001b[0;34m,\u001b[0m \u001b[0msl1\u001b[0m\u001b[0;34m.\u001b[0m\u001b[0mstop\u001b[0m\u001b[0;34m)\u001b[0m\u001b[0;34m\u001b[0m\u001b[0;34m\u001b[0m\u001b[0m\n\u001b[1;32m   1364\u001b[0m             \u001b[0;32mif\u001b[0m \u001b[0;32mnot\u001b[0m \u001b[0msl2\u001b[0m\u001b[0;34m:\u001b[0m\u001b[0;34m\u001b[0m\u001b[0;34m\u001b[0m\u001b[0m\n",
      "\u001b[0;32m~/anaconda3/lib/python3.7/site-packages/nltk/tokenize/punkt.py\u001b[0m in \u001b[0;36m_pair_iter\u001b[0;34m(it)\u001b[0m\n\u001b[1;32m    316\u001b[0m     \u001b[0mit\u001b[0m \u001b[0;34m=\u001b[0m \u001b[0miter\u001b[0m\u001b[0;34m(\u001b[0m\u001b[0mit\u001b[0m\u001b[0;34m)\u001b[0m\u001b[0;34m\u001b[0m\u001b[0;34m\u001b[0m\u001b[0m\n\u001b[1;32m    317\u001b[0m     \u001b[0;32mtry\u001b[0m\u001b[0;34m:\u001b[0m\u001b[0;34m\u001b[0m\u001b[0;34m\u001b[0m\u001b[0m\n\u001b[0;32m--> 318\u001b[0;31m         \u001b[0mprev\u001b[0m \u001b[0;34m=\u001b[0m \u001b[0mnext\u001b[0m\u001b[0;34m(\u001b[0m\u001b[0mit\u001b[0m\u001b[0;34m)\u001b[0m\u001b[0;34m\u001b[0m\u001b[0;34m\u001b[0m\u001b[0m\n\u001b[0m\u001b[1;32m    319\u001b[0m     \u001b[0;32mexcept\u001b[0m \u001b[0mStopIteration\u001b[0m\u001b[0;34m:\u001b[0m\u001b[0;34m\u001b[0m\u001b[0;34m\u001b[0m\u001b[0m\n\u001b[1;32m    320\u001b[0m         \u001b[0;32mreturn\u001b[0m\u001b[0;34m\u001b[0m\u001b[0;34m\u001b[0m\u001b[0m\n",
      "\u001b[0;32m~/anaconda3/lib/python3.7/site-packages/nltk/tokenize/punkt.py\u001b[0m in \u001b[0;36m_slices_from_text\u001b[0;34m(self, text)\u001b[0m\n\u001b[1;32m   1333\u001b[0m     \u001b[0;32mdef\u001b[0m \u001b[0m_slices_from_text\u001b[0m\u001b[0;34m(\u001b[0m\u001b[0mself\u001b[0m\u001b[0;34m,\u001b[0m \u001b[0mtext\u001b[0m\u001b[0;34m)\u001b[0m\u001b[0;34m:\u001b[0m\u001b[0;34m\u001b[0m\u001b[0;34m\u001b[0m\u001b[0m\n\u001b[1;32m   1334\u001b[0m         \u001b[0mlast_break\u001b[0m \u001b[0;34m=\u001b[0m \u001b[0;36m0\u001b[0m\u001b[0;34m\u001b[0m\u001b[0;34m\u001b[0m\u001b[0m\n\u001b[0;32m-> 1335\u001b[0;31m         \u001b[0;32mfor\u001b[0m \u001b[0mmatch\u001b[0m \u001b[0;32min\u001b[0m \u001b[0mself\u001b[0m\u001b[0;34m.\u001b[0m\u001b[0m_lang_vars\u001b[0m\u001b[0;34m.\u001b[0m\u001b[0mperiod_context_re\u001b[0m\u001b[0;34m(\u001b[0m\u001b[0;34m)\u001b[0m\u001b[0;34m.\u001b[0m\u001b[0mfinditer\u001b[0m\u001b[0;34m(\u001b[0m\u001b[0mtext\u001b[0m\u001b[0;34m)\u001b[0m\u001b[0;34m:\u001b[0m\u001b[0;34m\u001b[0m\u001b[0;34m\u001b[0m\u001b[0m\n\u001b[0m\u001b[1;32m   1336\u001b[0m             \u001b[0mcontext\u001b[0m \u001b[0;34m=\u001b[0m \u001b[0mmatch\u001b[0m\u001b[0;34m.\u001b[0m\u001b[0mgroup\u001b[0m\u001b[0;34m(\u001b[0m\u001b[0;34m)\u001b[0m \u001b[0;34m+\u001b[0m \u001b[0mmatch\u001b[0m\u001b[0;34m.\u001b[0m\u001b[0mgroup\u001b[0m\u001b[0;34m(\u001b[0m\u001b[0;34m'after_tok'\u001b[0m\u001b[0;34m)\u001b[0m\u001b[0;34m\u001b[0m\u001b[0;34m\u001b[0m\u001b[0m\n\u001b[1;32m   1337\u001b[0m             \u001b[0;32mif\u001b[0m \u001b[0mself\u001b[0m\u001b[0;34m.\u001b[0m\u001b[0mtext_contains_sentbreak\u001b[0m\u001b[0;34m(\u001b[0m\u001b[0mcontext\u001b[0m\u001b[0;34m)\u001b[0m\u001b[0;34m:\u001b[0m\u001b[0;34m\u001b[0m\u001b[0;34m\u001b[0m\u001b[0m\n",
      "\u001b[0;31mTypeError\u001b[0m: expected string or bytes-like object"
     ]
    }
   ],
   "source": [
    "#Combined code to run\n",
    "topicArray=[]\n",
    "for text in textdf:\n",
    "    corpus = nltk.sent_tokenize(text)\n",
    "    for i in range(len(corpus)):\n",
    "          corpus [i] = corpus [i].lower()\n",
    "          corpus [i] = re.sub(r'\\W',' ',corpus [i])\n",
    "          corpus [i] = re.sub(r'\\s+',' ',corpus [i])\n",
    "          corpus[i] = re.sub(r'[0-9]', '', corpus[i])\n",
    "    corpus.remove(corpus[0])\n",
    "    corpus_clean = [clean(sent).split() for sent in corpus]\n",
    "    dictionary = corpora.Dictionary(corpus_clean)\n",
    "    doc_term_matrix = [dictionary.doc2bow(sent) for sent in corpus_clean]\n",
    "    Lda = gensim.models.ldamodel.LdaModel\n",
    "    ldamodel = Lda(doc_term_matrix, num_topics=5, id2word=dictionary, passes=1500)\n",
    "    topicArray.append(ldamodel.print_topics(num_topics=5, num_words=8))\n",
    "    \n",
    "    "
   ]
  },
  {
   "cell_type": "code",
   "execution_count": null,
   "metadata": {},
   "outputs": [],
   "source": []
  }
 ],
 "metadata": {
  "accelerator": "TPU",
  "colab": {
   "collapsed_sections": [],
   "name": "LDAPractice.ipynb",
   "provenance": []
  },
  "kernelspec": {
   "display_name": "Python 3",
   "language": "python",
   "name": "python3"
  },
  "language_info": {
   "codemirror_mode": {
    "name": "ipython",
    "version": 3
   },
   "file_extension": ".py",
   "mimetype": "text/x-python",
   "name": "python",
   "nbconvert_exporter": "python",
   "pygments_lexer": "ipython3",
   "version": "3.7.6"
  }
 },
 "nbformat": 4,
 "nbformat_minor": 1
}
