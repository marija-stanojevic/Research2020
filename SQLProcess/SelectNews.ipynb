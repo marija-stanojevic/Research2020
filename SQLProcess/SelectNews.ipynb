{
 "cells": [
  {
   "cell_type": "code",
   "execution_count": 1,
   "metadata": {},
   "outputs": [
    {
     "name": "stderr",
     "output_type": "stream",
     "text": [
      "[nltk_data] Downloading package stopwords to\n",
      "[nltk_data]     /Users/quangpham/nltk_data...\n",
      "[nltk_data]   Package stopwords is already up-to-date!\n",
      "[nltk_data] Downloading package wordnet to\n",
      "[nltk_data]     /Users/quangpham/nltk_data...\n",
      "[nltk_data]   Package wordnet is already up-to-date!\n",
      "[nltk_data] Downloading package punkt to /Users/quangpham/nltk_data...\n",
      "[nltk_data]   Package punkt is already up-to-date!\n"
     ]
    }
   ],
   "source": [
    "import nltk \n",
    "nltk.download('stopwords')\n",
    "nltk.download('wordnet')\n",
    "nltk.download('punkt')\n",
    "from nltk.corpus import stopwords\n",
    "from nltk.stem.wordnet import WordNetLemmatizer\n",
    "import gensim \n",
    "from gensim import corpora\n",
    "import pandas as pd\n",
    "import re \n",
    "import string\n"
   ]
  },
  {
   "cell_type": "code",
   "execution_count": 20,
   "metadata": {},
   "outputs": [],
   "source": [
    "choseword=pd.read_csv(\"CrimeKeywords.csv\")['Topics']\n",
    "df=pd.read_csv(\"Entitiy.csv\")\n",
    "unchose=[\"Rite Aid\",\"FDA\",\"test\",\"vacine\",\"champion\",\"winner\",\"sport\",\"vehicle\",\"accident\",\"Walgreens\"]"
   ]
  },
  {
   "cell_type": "code",
   "execution_count": 21,
   "metadata": {},
   "outputs": [],
   "source": [
    "df=df.dropna(axis=0, how='any', thresh=None, subset=None, inplace=False)"
   ]
  },
  {
   "cell_type": "code",
   "execution_count": 22,
   "metadata": {},
   "outputs": [],
   "source": [
    "#Stemming\n",
    "from nltk.stem import PorterStemmer\n",
    "porter = PorterStemmer()\n",
    "from nltk.tokenize import sent_tokenize, word_tokenize\n",
    "def stemSentence(sentence):\n",
    "    token_words=word_tokenize(sentence)\n",
    "    token_words\n",
    "    stem_sentence=[]\n",
    "    for word in token_words:\n",
    "        stem_sentence.append(porter.stem(word))\n",
    "        stem_sentence.append(\" \")\n",
    "    return \"\".join(stem_sentence)"
   ]
  },
  {
   "cell_type": "code",
   "execution_count": 23,
   "metadata": {},
   "outputs": [],
   "source": [
    "x=stemSentence(df.iloc[2]['ArticleText'])"
   ]
  },
  {
   "cell_type": "code",
   "execution_count": 24,
   "metadata": {},
   "outputs": [],
   "source": [
    "import nltk\n",
    "from nltk.stem import WordNetLemmatizer\n",
    "wordnet_lemmatizer = WordNetLemmatizer()\n",
    "def LemaSen(text):\n",
    "    sentence=text\n",
    "    out1=[]\n",
    "    punctuations=\"?:!.,;'@'\"\n",
    "    sentence_words = nltk.word_tokenize(sentence)\n",
    "    for word in sentence_words:\n",
    "        if word in punctuations:\n",
    "            sentence_words.remove(word)\n",
    "    for i in sentence_words:\n",
    "        out1.append(wordnet_lemmatizer.lemmatize(i))\n",
    "    return(out1)"
   ]
  },
  {
   "cell_type": "code",
   "execution_count": 25,
   "metadata": {},
   "outputs": [],
   "source": [
    "y=LemaSen(df.iloc[2]['ArticleText'])"
   ]
  },
  {
   "cell_type": "code",
   "execution_count": 26,
   "metadata": {},
   "outputs": [],
   "source": [
    "#chose articles based on Lema\n",
    "indexList2=[]\n",
    "indexList3=[]\n",
    "for i in range(len(df)):\n",
    "    count=0\n",
    "    recount=0\n",
    "    text=LemaSen(df.iloc[i]['ArticleText'])\n",
    "    for j in choseword:\n",
    "        if j in text:\n",
    "            count=count+1\n",
    "    for k in unchose:\n",
    "        if k in text:\n",
    "            recount=recount+1\n",
    "    if(count==3 and recount==0):\n",
    "        indexList2.append(i)\n",
    "    if(count>4 and recount==0):\n",
    "        indexList3.append(i)"
   ]
  },
  {
   "cell_type": "code",
   "execution_count": 27,
   "metadata": {},
   "outputs": [],
   "source": [
    "total=indexList2+indexList3"
   ]
  },
  {
   "cell_type": "code",
   "execution_count": 28,
   "metadata": {},
   "outputs": [],
   "source": [
    "Article2=df.iloc[total]\n",
    "Article3=df.iloc[indexList3]"
   ]
  },
  {
   "cell_type": "code",
   "execution_count": 29,
   "metadata": {},
   "outputs": [],
   "source": [
    "Article2.to_csv(\"atLeast2.csv\")\n",
    "Article3.to_csv(\"atLeast3.csv\")"
   ]
  },
  {
   "cell_type": "code",
   "execution_count": 31,
   "metadata": {},
   "outputs": [
    {
     "data": {
      "text/plain": [
       "8729"
      ]
     },
     "execution_count": 31,
     "metadata": {},
     "output_type": "execute_result"
    }
   ],
   "source": [
    "len(Article2)"
   ]
  },
  {
   "cell_type": "code",
   "execution_count": null,
   "metadata": {},
   "outputs": [],
   "source": []
  }
 ],
 "metadata": {
  "kernelspec": {
   "display_name": "Python 3",
   "language": "python",
   "name": "python3"
  },
  "language_info": {
   "codemirror_mode": {
    "name": "ipython",
    "version": 3
   },
   "file_extension": ".py",
   "mimetype": "text/x-python",
   "name": "python",
   "nbconvert_exporter": "python",
   "pygments_lexer": "ipython3",
   "version": "3.7.6"
  }
 },
 "nbformat": 4,
 "nbformat_minor": 2
}
