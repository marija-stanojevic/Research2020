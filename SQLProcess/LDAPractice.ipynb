{
 "cells": [
  {
   "cell_type": "code",
   "execution_count": 2,
   "metadata": {
    "colab": {},
    "colab_type": "code",
    "id": "fxtRD0BJRzID"
   },
   "outputs": [],
   "source": [
    "#THIS CODE WAS LITERALLY COPIED FROM ANALYTICS VIDHYA AT https://www.analyticsvidhya.com/blog/2016/08/beginners-guide-to-topic-modeling-in-python/\n"
   ]
  },
  {
   "cell_type": "code",
   "execution_count": 17,
   "metadata": {
    "colab": {},
    "colab_type": "code",
    "id": "TZiWFBN_b0p8"
   },
   "outputs": [
    {
     "name": "stderr",
     "output_type": "stream",
     "text": [
      "[nltk_data] Downloading package stopwords to\n",
      "[nltk_data]     /Users/quangpham/nltk_data...\n",
      "[nltk_data]   Package stopwords is already up-to-date!\n",
      "[nltk_data] Downloading package wordnet to\n",
      "[nltk_data]     /Users/quangpham/nltk_data...\n",
      "[nltk_data]   Package wordnet is already up-to-date!\n",
      "[nltk_data] Downloading package punkt to /Users/quangpham/nltk_data...\n",
      "[nltk_data]   Package punkt is already up-to-date!\n"
     ]
    }
   ],
   "source": [
    "import nltk \n",
    "nltk.download('stopwords')\n",
    "nltk.download('wordnet')\n",
    "nltk.download('punkt')\n",
    "from nltk.corpus import stopwords\n",
    "from nltk.stem.wordnet import WordNetLemmatizer\n",
    "import gensim \n",
    "from gensim import corpora\n",
    "import pandas as pd\n",
    "import re \n",
    "import string\n",
    "\n",
    "\n",
    "#from google.colab import drive\n",
    "#drive.mount('/content/drive')"
   ]
  },
  {
   "cell_type": "code",
   "execution_count": 18,
   "metadata": {
    "colab": {},
    "colab_type": "code",
    "id": "AcqVKXRESelo"
   },
   "outputs": [],
   "source": [
    "def clean(doc):\n",
    "    stop_free = \" \".join([i for i in doc.lower().split() if i not in stop])\n",
    "    punc_free = ''.join(ch for ch in stop_free if ch not in exclude)\n",
    "    normalized = \" \".join(lemma.lemmatize(word) for word in punc_free.split())\n",
    "    return normalized"
   ]
  },
  {
   "cell_type": "code",
   "execution_count": 19,
   "metadata": {
    "colab": {},
    "colab_type": "code",
    "id": "10SoB2lcWUFX"
   },
   "outputs": [],
   "source": [
    "abc = pd.read_csv('Entitiy.csv')"
   ]
  },
  {
   "cell_type": "code",
   "execution_count": 21,
   "metadata": {},
   "outputs": [
    {
     "data": {
      "text/plain": [
       "39121"
      ]
     },
     "execution_count": 21,
     "metadata": {},
     "output_type": "execute_result"
    }
   ],
   "source": [
    "len(abc)"
   ]
  },
  {
   "cell_type": "code",
   "execution_count": 20,
   "metadata": {},
   "outputs": [],
   "source": [
    "abc=abc.dropna(axis=0, how='any', thresh=None, subset=None, inplace=False)"
   ]
  },
  {
   "cell_type": "code",
   "execution_count": 22,
   "metadata": {},
   "outputs": [],
   "source": [
    "textdf=abc['ArticleText']\n",
    "titletext=abc['Title']"
   ]
  },
  {
   "cell_type": "code",
   "execution_count": 23,
   "metadata": {
    "colab": {},
    "colab_type": "code",
    "id": "AocoI9_oFyXF"
   },
   "outputs": [],
   "source": [
    "#text = abc.extracttext[0]\n"
   ]
  },
  {
   "cell_type": "code",
   "execution_count": 9,
   "metadata": {},
   "outputs": [],
   "source": [
    "text=textdf[10]"
   ]
  },
  {
   "cell_type": "code",
   "execution_count": 10,
   "metadata": {},
   "outputs": [
    {
     "data": {
      "text/plain": [
       "'Syria says 500 IS militants moved to Yemen English.news.cn 2015-10-28 04:58:25 DAMASCUS Oct. 27 (Xinhua) -- Syria n army said on Tuesday that Turkish Qatari and Emirate airplanes transported 500 Islamic State (IS) militants to Yemen s Aden city the state news agency SANA reported. The 500 IS militants were fighting in Syria and withdrew out of the country under the Russia n airstrikes Syrian army said in a statement. The military statement said the information is based on concert intel. Upon arriving at the airport of Aden Saudi officers divided the IS militants into three groups; the first was sent to the Bab al-Mandeb area the second to the city of Mareb while the third to the Saudi provinces of Jazan and Asir to join the ground forces of the Saudi-led coalition in Yemen according to the military statement. It added that the process of moving the IS militants in Syria will continue in the near future. Syrian government has for long accused Turkey Qatar and Saudi Arabia of supporting the terrorist groups in Syria throughout the countrys nearly five-year-long conflict. [Editor: huaxia] '"
      ]
     },
     "execution_count": 10,
     "metadata": {},
     "output_type": "execute_result"
    }
   ],
   "source": [
    "text"
   ]
  },
  {
   "cell_type": "code",
   "execution_count": 16,
   "metadata": {
    "colab": {},
    "colab_type": "code",
    "id": "zQPd-CnQWr1t"
   },
   "outputs": [],
   "source": [
    "corpus = nltk.sent_tokenize(text)"
   ]
  },
  {
   "cell_type": "code",
   "execution_count": 17,
   "metadata": {
    "colab": {},
    "colab_type": "code",
    "id": "Re5rcoM7YJRp"
   },
   "outputs": [],
   "source": [
    "\n",
    "for i in range(len(corpus)):\n",
    "  corpus [i] = corpus [i].lower()\n",
    "  corpus [i] = re.sub(r'\\W',' ',corpus [i])\n",
    "  corpus [i] = re.sub(r'\\s+',' ',corpus [i])\n",
    "  corpus[i] = re.sub(r'[0-9]', '', corpus[i])\n",
    "\n",
    "corpus.remove(corpus[0])\n",
    "\n"
   ]
  },
  {
   "cell_type": "code",
   "execution_count": 18,
   "metadata": {
    "colab": {},
    "colab_type": "code",
    "id": "DG6r7E9BYVju"
   },
   "outputs": [],
   "source": [
    "stop = set(stopwords.words('english'))\n",
    "exclude = set(string.punctuation)\n",
    "lemma = WordNetLemmatizer()\n",
    "\n",
    "corpus_clean = [clean(sent).split() for sent in corpus]"
   ]
  },
  {
   "cell_type": "code",
   "execution_count": 19,
   "metadata": {
    "colab": {},
    "colab_type": "code",
    "id": "joYg3FqKaTqN"
   },
   "outputs": [],
   "source": [
    "dictionary = corpora.Dictionary(corpus_clean)\n",
    "doc_term_matrix = [dictionary.doc2bow(sent) for sent in corpus_clean]"
   ]
  },
  {
   "cell_type": "code",
   "execution_count": 20,
   "metadata": {
    "colab": {},
    "colab_type": "code",
    "id": "8gDWza_naqSa"
   },
   "outputs": [],
   "source": [
    "Lda = gensim.models.ldamodel.LdaModel\n",
    "ldamodel = Lda(doc_term_matrix, num_topics=18, id2word=dictionary, passes=1500)"
   ]
  },
  {
   "cell_type": "code",
   "execution_count": 21,
   "metadata": {
    "colab": {},
    "colab_type": "code",
    "id": "Wf0gBHPhat-f"
   },
   "outputs": [
    {
     "name": "stdout",
     "output_type": "stream",
     "text": [
      "[(0, '0.015*\"three\" + 0.015*\"sent\" + 0.015*\"future\" + 0.015*\"continue\" + 0.015*\"added\" + 0.015*\"yemen\" + 0.015*\"upon\" + 0.015*\"near\" + 0.015*\"third\" + 0.015*\"officer\" + 0.015*\"province\" + 0.015*\"mareb\" + 0.015*\"process\" + 0.015*\"saudi\" + 0.015*\"second\"'), (1, '0.015*\"three\" + 0.015*\"sent\" + 0.015*\"future\" + 0.015*\"continue\" + 0.015*\"added\" + 0.015*\"yemen\" + 0.015*\"upon\" + 0.015*\"near\" + 0.015*\"third\" + 0.015*\"officer\" + 0.015*\"province\" + 0.015*\"mareb\" + 0.015*\"process\" + 0.015*\"saudi\" + 0.015*\"second\"'), (2, '0.015*\"three\" + 0.015*\"sent\" + 0.015*\"future\" + 0.015*\"continue\" + 0.015*\"added\" + 0.015*\"yemen\" + 0.015*\"upon\" + 0.015*\"near\" + 0.015*\"third\" + 0.015*\"officer\" + 0.015*\"province\" + 0.015*\"mareb\" + 0.015*\"process\" + 0.015*\"saudi\" + 0.015*\"second\"'), (3, '0.015*\"three\" + 0.015*\"sent\" + 0.015*\"future\" + 0.015*\"continue\" + 0.015*\"added\" + 0.015*\"yemen\" + 0.015*\"upon\" + 0.015*\"near\" + 0.015*\"third\" + 0.015*\"officer\" + 0.015*\"province\" + 0.015*\"mareb\" + 0.015*\"process\" + 0.015*\"saudi\" + 0.015*\"second\"'), (4, '0.098*\"based\" + 0.098*\"military\" + 0.098*\"intel\" + 0.098*\"said\" + 0.098*\"statement\" + 0.098*\"information\" + 0.098*\"concert\" + 0.005*\"added\" + 0.005*\"near\" + 0.005*\"moving\" + 0.005*\"future\" + 0.005*\"accused\" + 0.005*\"three\" + 0.005*\"third\" + 0.005*\"second\"'), (5, '0.015*\"three\" + 0.015*\"sent\" + 0.015*\"future\" + 0.015*\"continue\" + 0.015*\"added\" + 0.015*\"yemen\" + 0.015*\"upon\" + 0.015*\"near\" + 0.015*\"third\" + 0.015*\"officer\" + 0.015*\"province\" + 0.015*\"mareb\" + 0.015*\"process\" + 0.015*\"saudi\" + 0.015*\"second\"'), (6, '0.015*\"three\" + 0.015*\"sent\" + 0.015*\"future\" + 0.015*\"continue\" + 0.015*\"added\" + 0.015*\"yemen\" + 0.015*\"upon\" + 0.015*\"near\" + 0.015*\"third\" + 0.015*\"officer\" + 0.015*\"province\" + 0.015*\"mareb\" + 0.015*\"process\" + 0.015*\"saudi\" + 0.015*\"second\"'), (7, '0.015*\"three\" + 0.015*\"sent\" + 0.015*\"future\" + 0.015*\"continue\" + 0.015*\"added\" + 0.015*\"yemen\" + 0.015*\"upon\" + 0.015*\"near\" + 0.015*\"third\" + 0.015*\"officer\" + 0.015*\"province\" + 0.015*\"mareb\" + 0.015*\"process\" + 0.015*\"saudi\" + 0.015*\"second\"'), (8, '0.090*\"syria\" + 0.090*\"near\" + 0.090*\"moving\" + 0.090*\"future\" + 0.090*\"continue\" + 0.090*\"added\" + 0.090*\"process\" + 0.090*\"militant\" + 0.005*\"saudi\" + 0.005*\"yemen\" + 0.005*\"officer\" + 0.005*\"province\" + 0.005*\"sent\" + 0.005*\"second\" + 0.005*\"three\"'), (9, '0.090*\"long\" + 0.046*\"arabia\" + 0.046*\"syria\" + 0.046*\"accused\" + 0.046*\"saudi\" + 0.046*\"conflict\" + 0.046*\"five\" + 0.046*\"government\" + 0.046*\"nearly\" + 0.046*\"group\" + 0.046*\"syrian\" + 0.046*\"year\" + 0.046*\"turkey\" + 0.046*\"country\" + 0.046*\"qatar\"'), (10, '0.015*\"three\" + 0.015*\"sent\" + 0.015*\"future\" + 0.015*\"continue\" + 0.015*\"added\" + 0.015*\"yemen\" + 0.015*\"upon\" + 0.015*\"near\" + 0.015*\"third\" + 0.015*\"officer\" + 0.015*\"province\" + 0.015*\"mareb\" + 0.015*\"process\" + 0.015*\"saudi\" + 0.015*\"second\"'), (11, '0.067*\"withdrew\" + 0.067*\"said\" + 0.067*\"syrian\" + 0.067*\"syria\" + 0.067*\"statement\" + 0.067*\"airstrikes\" + 0.067*\"russia\" + 0.067*\"militant\" + 0.067*\"army\" + 0.067*\"n\" + 0.067*\"country\" + 0.067*\"fighting\" + 0.004*\"continue\" + 0.004*\"future\" + 0.004*\"moving\"'), (12, '0.184*\"huaxia\" + 0.184*\"editor\" + 0.010*\"three\" + 0.010*\"future\" + 0.010*\"continue\" + 0.010*\"added\" + 0.010*\"yemen\" + 0.010*\"upon\" + 0.010*\"moving\" + 0.010*\"third\" + 0.010*\"officer\" + 0.010*\"province\" + 0.010*\"mareb\" + 0.010*\"process\" + 0.010*\"saudi\"'), (13, '0.081*\"saudi\" + 0.028*\"bab\" + 0.028*\"coalition\" + 0.028*\"al\" + 0.028*\"area\" + 0.028*\"arriving\" + 0.028*\"join\" + 0.028*\"aden\" + 0.028*\"city\" + 0.028*\"ground\" + 0.028*\"force\" + 0.028*\"group\" + 0.028*\"military\" + 0.028*\"first\" + 0.028*\"divided\"'), (14, '0.015*\"three\" + 0.015*\"sent\" + 0.015*\"future\" + 0.015*\"continue\" + 0.015*\"added\" + 0.015*\"yemen\" + 0.015*\"upon\" + 0.015*\"near\" + 0.015*\"third\" + 0.015*\"officer\" + 0.015*\"province\" + 0.015*\"mareb\" + 0.015*\"process\" + 0.015*\"saudi\" + 0.015*\"second\"'), (15, '0.015*\"three\" + 0.015*\"sent\" + 0.015*\"future\" + 0.015*\"continue\" + 0.015*\"added\" + 0.015*\"yemen\" + 0.015*\"upon\" + 0.015*\"near\" + 0.015*\"third\" + 0.015*\"officer\" + 0.015*\"province\" + 0.015*\"mareb\" + 0.015*\"process\" + 0.015*\"saudi\" + 0.015*\"second\"'), (16, '0.015*\"three\" + 0.015*\"sent\" + 0.015*\"future\" + 0.015*\"continue\" + 0.015*\"added\" + 0.015*\"yemen\" + 0.015*\"upon\" + 0.015*\"near\" + 0.015*\"third\" + 0.015*\"officer\" + 0.015*\"province\" + 0.015*\"mareb\" + 0.015*\"process\" + 0.015*\"saudi\" + 0.015*\"second\"'), (17, '0.015*\"three\" + 0.015*\"sent\" + 0.015*\"future\" + 0.015*\"continue\" + 0.015*\"added\" + 0.015*\"yemen\" + 0.015*\"upon\" + 0.015*\"near\" + 0.015*\"third\" + 0.015*\"officer\" + 0.015*\"province\" + 0.015*\"mareb\" + 0.015*\"process\" + 0.015*\"saudi\" + 0.015*\"second\"')]\n"
     ]
    }
   ],
   "source": [
    "print(ldamodel.print_topics(num_topics=18, num_words=15))"
   ]
  },
  {
   "cell_type": "code",
   "execution_count": 26,
   "metadata": {},
   "outputs": [
    {
     "data": {
      "text/plain": [
       "'Syria says 500 IS militants moved to Yemen English.news.cn 2015-10-28 04:58:25 DAMASCUS Oct. 27 (Xinhua) -- Syria n army said on Tuesday that Turkish Qatari and Emirate airplanes transported 500 Islamic State (IS) militants to Yemen s Aden city the state news agency SANA reported. The 500 IS militants were fighting in Syria and withdrew out of the country under the Russia n airstrikes Syrian army said in a statement. The military statement said the information is based on concert intel. Upon arriving at the airport of Aden Saudi officers divided the IS militants into three groups; the first was sent to the Bab al-Mandeb area the second to the city of Mareb while the third to the Saudi provinces of Jazan and Asir to join the ground forces of the Saudi-led coalition in Yemen according to the military statement. It added that the process of moving the IS militants in Syria will continue in the near future. Syrian government has for long accused Turkey Qatar and Saudi Arabia of supporting the terrorist groups in Syria throughout the countrys nearly five-year-long conflict. [Editor: huaxia] '"
      ]
     },
     "execution_count": 26,
     "metadata": {},
     "output_type": "execute_result"
    }
   ],
   "source": [
    "text"
   ]
  },
  {
   "cell_type": "code",
   "execution_count": 0,
   "metadata": {
    "colab": {},
    "colab_type": "code",
    "id": "dLTJGklOF42A"
   },
   "outputs": [],
   "source": [
    "#State, Conviction, Pardon   Avery, Dassey, Pardon   Wisconsin, Trial, Murder\n",
    "\n",
    "# [(0, '0.020*\"evidence\" + 0.020*\"conviction\" + 0.012*\"men\"'), (1, '0.039*\"state\" + 0.030*\"conviction\" + 0.030*\"pardon\"'), (2, '0.035*\"avery\" + 0.035*\"wisconsin\" + 0.028*\"dassey\"')]"
   ]
  },
  {
   "cell_type": "code",
   "execution_count": 92,
   "metadata": {},
   "outputs": [
    {
     "ename": "TypeError",
     "evalue": "expected string or bytes-like object",
     "output_type": "error",
     "traceback": [
      "\u001b[0;31m---------------------------------------------------------------------------\u001b[0m",
      "\u001b[0;31mTypeError\u001b[0m                                 Traceback (most recent call last)",
      "\u001b[0;32m<ipython-input-92-2e68dd48501e>\u001b[0m in \u001b[0;36m<module>\u001b[0;34m\u001b[0m\n\u001b[1;32m      1\u001b[0m \u001b[0mtopicArray\u001b[0m\u001b[0;34m=\u001b[0m\u001b[0;34m[\u001b[0m\u001b[0;34m]\u001b[0m\u001b[0;34m\u001b[0m\u001b[0;34m\u001b[0m\u001b[0m\n\u001b[1;32m      2\u001b[0m \u001b[0;32mfor\u001b[0m \u001b[0mtext\u001b[0m \u001b[0;32min\u001b[0m \u001b[0mtextdf\u001b[0m\u001b[0;34m:\u001b[0m\u001b[0;34m\u001b[0m\u001b[0;34m\u001b[0m\u001b[0m\n\u001b[0;32m----> 3\u001b[0;31m     \u001b[0mcorpus\u001b[0m \u001b[0;34m=\u001b[0m \u001b[0mnltk\u001b[0m\u001b[0;34m.\u001b[0m\u001b[0msent_tokenize\u001b[0m\u001b[0;34m(\u001b[0m\u001b[0mtext\u001b[0m\u001b[0;34m)\u001b[0m\u001b[0;34m\u001b[0m\u001b[0;34m\u001b[0m\u001b[0m\n\u001b[0m\u001b[1;32m      4\u001b[0m     \u001b[0;32mfor\u001b[0m \u001b[0mi\u001b[0m \u001b[0;32min\u001b[0m \u001b[0mrange\u001b[0m\u001b[0;34m(\u001b[0m\u001b[0mlen\u001b[0m\u001b[0;34m(\u001b[0m\u001b[0mcorpus\u001b[0m\u001b[0;34m)\u001b[0m\u001b[0;34m)\u001b[0m\u001b[0;34m:\u001b[0m\u001b[0;34m\u001b[0m\u001b[0;34m\u001b[0m\u001b[0m\n\u001b[1;32m      5\u001b[0m           \u001b[0mcorpus\u001b[0m \u001b[0;34m[\u001b[0m\u001b[0mi\u001b[0m\u001b[0;34m]\u001b[0m \u001b[0;34m=\u001b[0m \u001b[0mcorpus\u001b[0m \u001b[0;34m[\u001b[0m\u001b[0mi\u001b[0m\u001b[0;34m]\u001b[0m\u001b[0;34m.\u001b[0m\u001b[0mlower\u001b[0m\u001b[0;34m(\u001b[0m\u001b[0;34m)\u001b[0m\u001b[0;34m\u001b[0m\u001b[0;34m\u001b[0m\u001b[0m\n",
      "\u001b[0;32m~/anaconda3/lib/python3.7/site-packages/nltk/tokenize/__init__.py\u001b[0m in \u001b[0;36msent_tokenize\u001b[0;34m(text, language)\u001b[0m\n\u001b[1;32m    104\u001b[0m     \"\"\"\n\u001b[1;32m    105\u001b[0m     \u001b[0mtokenizer\u001b[0m \u001b[0;34m=\u001b[0m \u001b[0mload\u001b[0m\u001b[0;34m(\u001b[0m\u001b[0;34m'tokenizers/punkt/{0}.pickle'\u001b[0m\u001b[0;34m.\u001b[0m\u001b[0mformat\u001b[0m\u001b[0;34m(\u001b[0m\u001b[0mlanguage\u001b[0m\u001b[0;34m)\u001b[0m\u001b[0;34m)\u001b[0m\u001b[0;34m\u001b[0m\u001b[0;34m\u001b[0m\u001b[0m\n\u001b[0;32m--> 106\u001b[0;31m     \u001b[0;32mreturn\u001b[0m \u001b[0mtokenizer\u001b[0m\u001b[0;34m.\u001b[0m\u001b[0mtokenize\u001b[0m\u001b[0;34m(\u001b[0m\u001b[0mtext\u001b[0m\u001b[0;34m)\u001b[0m\u001b[0;34m\u001b[0m\u001b[0;34m\u001b[0m\u001b[0m\n\u001b[0m\u001b[1;32m    107\u001b[0m \u001b[0;34m\u001b[0m\u001b[0m\n\u001b[1;32m    108\u001b[0m \u001b[0;34m\u001b[0m\u001b[0m\n",
      "\u001b[0;32m~/anaconda3/lib/python3.7/site-packages/nltk/tokenize/punkt.py\u001b[0m in \u001b[0;36mtokenize\u001b[0;34m(self, text, realign_boundaries)\u001b[0m\n\u001b[1;32m   1275\u001b[0m         \u001b[0mGiven\u001b[0m \u001b[0ma\u001b[0m \u001b[0mtext\u001b[0m\u001b[0;34m,\u001b[0m \u001b[0mreturns\u001b[0m \u001b[0ma\u001b[0m \u001b[0mlist\u001b[0m \u001b[0mof\u001b[0m \u001b[0mthe\u001b[0m \u001b[0msentences\u001b[0m \u001b[0;32min\u001b[0m \u001b[0mthat\u001b[0m \u001b[0mtext\u001b[0m\u001b[0;34m.\u001b[0m\u001b[0;34m\u001b[0m\u001b[0;34m\u001b[0m\u001b[0m\n\u001b[1;32m   1276\u001b[0m         \"\"\"\n\u001b[0;32m-> 1277\u001b[0;31m         \u001b[0;32mreturn\u001b[0m \u001b[0mlist\u001b[0m\u001b[0;34m(\u001b[0m\u001b[0mself\u001b[0m\u001b[0;34m.\u001b[0m\u001b[0msentences_from_text\u001b[0m\u001b[0;34m(\u001b[0m\u001b[0mtext\u001b[0m\u001b[0;34m,\u001b[0m \u001b[0mrealign_boundaries\u001b[0m\u001b[0;34m)\u001b[0m\u001b[0;34m)\u001b[0m\u001b[0;34m\u001b[0m\u001b[0;34m\u001b[0m\u001b[0m\n\u001b[0m\u001b[1;32m   1278\u001b[0m \u001b[0;34m\u001b[0m\u001b[0m\n\u001b[1;32m   1279\u001b[0m     \u001b[0;32mdef\u001b[0m \u001b[0mdebug_decisions\u001b[0m\u001b[0;34m(\u001b[0m\u001b[0mself\u001b[0m\u001b[0;34m,\u001b[0m \u001b[0mtext\u001b[0m\u001b[0;34m)\u001b[0m\u001b[0;34m:\u001b[0m\u001b[0;34m\u001b[0m\u001b[0;34m\u001b[0m\u001b[0m\n",
      "\u001b[0;32m~/anaconda3/lib/python3.7/site-packages/nltk/tokenize/punkt.py\u001b[0m in \u001b[0;36msentences_from_text\u001b[0;34m(self, text, realign_boundaries)\u001b[0m\n\u001b[1;32m   1329\u001b[0m         \u001b[0mfollows\u001b[0m \u001b[0mthe\u001b[0m \u001b[0mperiod\u001b[0m\u001b[0;34m.\u001b[0m\u001b[0;34m\u001b[0m\u001b[0;34m\u001b[0m\u001b[0m\n\u001b[1;32m   1330\u001b[0m         \"\"\"\n\u001b[0;32m-> 1331\u001b[0;31m         \u001b[0;32mreturn\u001b[0m \u001b[0;34m[\u001b[0m\u001b[0mtext\u001b[0m\u001b[0;34m[\u001b[0m\u001b[0ms\u001b[0m\u001b[0;34m:\u001b[0m\u001b[0me\u001b[0m\u001b[0;34m]\u001b[0m \u001b[0;32mfor\u001b[0m \u001b[0ms\u001b[0m\u001b[0;34m,\u001b[0m \u001b[0me\u001b[0m \u001b[0;32min\u001b[0m \u001b[0mself\u001b[0m\u001b[0;34m.\u001b[0m\u001b[0mspan_tokenize\u001b[0m\u001b[0;34m(\u001b[0m\u001b[0mtext\u001b[0m\u001b[0;34m,\u001b[0m \u001b[0mrealign_boundaries\u001b[0m\u001b[0;34m)\u001b[0m\u001b[0;34m]\u001b[0m\u001b[0;34m\u001b[0m\u001b[0;34m\u001b[0m\u001b[0m\n\u001b[0m\u001b[1;32m   1332\u001b[0m \u001b[0;34m\u001b[0m\u001b[0m\n\u001b[1;32m   1333\u001b[0m     \u001b[0;32mdef\u001b[0m \u001b[0m_slices_from_text\u001b[0m\u001b[0;34m(\u001b[0m\u001b[0mself\u001b[0m\u001b[0;34m,\u001b[0m \u001b[0mtext\u001b[0m\u001b[0;34m)\u001b[0m\u001b[0;34m:\u001b[0m\u001b[0;34m\u001b[0m\u001b[0;34m\u001b[0m\u001b[0m\n",
      "\u001b[0;32m~/anaconda3/lib/python3.7/site-packages/nltk/tokenize/punkt.py\u001b[0m in \u001b[0;36m<listcomp>\u001b[0;34m(.0)\u001b[0m\n\u001b[1;32m   1329\u001b[0m         \u001b[0mfollows\u001b[0m \u001b[0mthe\u001b[0m \u001b[0mperiod\u001b[0m\u001b[0;34m.\u001b[0m\u001b[0;34m\u001b[0m\u001b[0;34m\u001b[0m\u001b[0m\n\u001b[1;32m   1330\u001b[0m         \"\"\"\n\u001b[0;32m-> 1331\u001b[0;31m         \u001b[0;32mreturn\u001b[0m \u001b[0;34m[\u001b[0m\u001b[0mtext\u001b[0m\u001b[0;34m[\u001b[0m\u001b[0ms\u001b[0m\u001b[0;34m:\u001b[0m\u001b[0me\u001b[0m\u001b[0;34m]\u001b[0m \u001b[0;32mfor\u001b[0m \u001b[0ms\u001b[0m\u001b[0;34m,\u001b[0m \u001b[0me\u001b[0m \u001b[0;32min\u001b[0m \u001b[0mself\u001b[0m\u001b[0;34m.\u001b[0m\u001b[0mspan_tokenize\u001b[0m\u001b[0;34m(\u001b[0m\u001b[0mtext\u001b[0m\u001b[0;34m,\u001b[0m \u001b[0mrealign_boundaries\u001b[0m\u001b[0;34m)\u001b[0m\u001b[0;34m]\u001b[0m\u001b[0;34m\u001b[0m\u001b[0;34m\u001b[0m\u001b[0m\n\u001b[0m\u001b[1;32m   1332\u001b[0m \u001b[0;34m\u001b[0m\u001b[0m\n\u001b[1;32m   1333\u001b[0m     \u001b[0;32mdef\u001b[0m \u001b[0m_slices_from_text\u001b[0m\u001b[0;34m(\u001b[0m\u001b[0mself\u001b[0m\u001b[0;34m,\u001b[0m \u001b[0mtext\u001b[0m\u001b[0;34m)\u001b[0m\u001b[0;34m:\u001b[0m\u001b[0;34m\u001b[0m\u001b[0;34m\u001b[0m\u001b[0m\n",
      "\u001b[0;32m~/anaconda3/lib/python3.7/site-packages/nltk/tokenize/punkt.py\u001b[0m in \u001b[0;36mspan_tokenize\u001b[0;34m(self, text, realign_boundaries)\u001b[0m\n\u001b[1;32m   1319\u001b[0m         \u001b[0;32mif\u001b[0m \u001b[0mrealign_boundaries\u001b[0m\u001b[0;34m:\u001b[0m\u001b[0;34m\u001b[0m\u001b[0;34m\u001b[0m\u001b[0m\n\u001b[1;32m   1320\u001b[0m             \u001b[0mslices\u001b[0m \u001b[0;34m=\u001b[0m \u001b[0mself\u001b[0m\u001b[0;34m.\u001b[0m\u001b[0m_realign_boundaries\u001b[0m\u001b[0;34m(\u001b[0m\u001b[0mtext\u001b[0m\u001b[0;34m,\u001b[0m \u001b[0mslices\u001b[0m\u001b[0;34m)\u001b[0m\u001b[0;34m\u001b[0m\u001b[0;34m\u001b[0m\u001b[0m\n\u001b[0;32m-> 1321\u001b[0;31m         \u001b[0;32mfor\u001b[0m \u001b[0msl\u001b[0m \u001b[0;32min\u001b[0m \u001b[0mslices\u001b[0m\u001b[0;34m:\u001b[0m\u001b[0;34m\u001b[0m\u001b[0;34m\u001b[0m\u001b[0m\n\u001b[0m\u001b[1;32m   1322\u001b[0m             \u001b[0;32myield\u001b[0m \u001b[0;34m(\u001b[0m\u001b[0msl\u001b[0m\u001b[0;34m.\u001b[0m\u001b[0mstart\u001b[0m\u001b[0;34m,\u001b[0m \u001b[0msl\u001b[0m\u001b[0;34m.\u001b[0m\u001b[0mstop\u001b[0m\u001b[0;34m)\u001b[0m\u001b[0;34m\u001b[0m\u001b[0;34m\u001b[0m\u001b[0m\n\u001b[1;32m   1323\u001b[0m \u001b[0;34m\u001b[0m\u001b[0m\n",
      "\u001b[0;32m~/anaconda3/lib/python3.7/site-packages/nltk/tokenize/punkt.py\u001b[0m in \u001b[0;36m_realign_boundaries\u001b[0;34m(self, text, slices)\u001b[0m\n\u001b[1;32m   1360\u001b[0m         \"\"\"\n\u001b[1;32m   1361\u001b[0m         \u001b[0mrealign\u001b[0m \u001b[0;34m=\u001b[0m \u001b[0;36m0\u001b[0m\u001b[0;34m\u001b[0m\u001b[0;34m\u001b[0m\u001b[0m\n\u001b[0;32m-> 1362\u001b[0;31m         \u001b[0;32mfor\u001b[0m \u001b[0msl1\u001b[0m\u001b[0;34m,\u001b[0m \u001b[0msl2\u001b[0m \u001b[0;32min\u001b[0m \u001b[0m_pair_iter\u001b[0m\u001b[0;34m(\u001b[0m\u001b[0mslices\u001b[0m\u001b[0;34m)\u001b[0m\u001b[0;34m:\u001b[0m\u001b[0;34m\u001b[0m\u001b[0;34m\u001b[0m\u001b[0m\n\u001b[0m\u001b[1;32m   1363\u001b[0m             \u001b[0msl1\u001b[0m \u001b[0;34m=\u001b[0m \u001b[0mslice\u001b[0m\u001b[0;34m(\u001b[0m\u001b[0msl1\u001b[0m\u001b[0;34m.\u001b[0m\u001b[0mstart\u001b[0m \u001b[0;34m+\u001b[0m \u001b[0mrealign\u001b[0m\u001b[0;34m,\u001b[0m \u001b[0msl1\u001b[0m\u001b[0;34m.\u001b[0m\u001b[0mstop\u001b[0m\u001b[0;34m)\u001b[0m\u001b[0;34m\u001b[0m\u001b[0;34m\u001b[0m\u001b[0m\n\u001b[1;32m   1364\u001b[0m             \u001b[0;32mif\u001b[0m \u001b[0;32mnot\u001b[0m \u001b[0msl2\u001b[0m\u001b[0;34m:\u001b[0m\u001b[0;34m\u001b[0m\u001b[0;34m\u001b[0m\u001b[0m\n",
      "\u001b[0;32m~/anaconda3/lib/python3.7/site-packages/nltk/tokenize/punkt.py\u001b[0m in \u001b[0;36m_pair_iter\u001b[0;34m(it)\u001b[0m\n\u001b[1;32m    316\u001b[0m     \u001b[0mit\u001b[0m \u001b[0;34m=\u001b[0m \u001b[0miter\u001b[0m\u001b[0;34m(\u001b[0m\u001b[0mit\u001b[0m\u001b[0;34m)\u001b[0m\u001b[0;34m\u001b[0m\u001b[0;34m\u001b[0m\u001b[0m\n\u001b[1;32m    317\u001b[0m     \u001b[0;32mtry\u001b[0m\u001b[0;34m:\u001b[0m\u001b[0;34m\u001b[0m\u001b[0;34m\u001b[0m\u001b[0m\n\u001b[0;32m--> 318\u001b[0;31m         \u001b[0mprev\u001b[0m \u001b[0;34m=\u001b[0m \u001b[0mnext\u001b[0m\u001b[0;34m(\u001b[0m\u001b[0mit\u001b[0m\u001b[0;34m)\u001b[0m\u001b[0;34m\u001b[0m\u001b[0;34m\u001b[0m\u001b[0m\n\u001b[0m\u001b[1;32m    319\u001b[0m     \u001b[0;32mexcept\u001b[0m \u001b[0mStopIteration\u001b[0m\u001b[0;34m:\u001b[0m\u001b[0;34m\u001b[0m\u001b[0;34m\u001b[0m\u001b[0m\n\u001b[1;32m    320\u001b[0m         \u001b[0;32mreturn\u001b[0m\u001b[0;34m\u001b[0m\u001b[0;34m\u001b[0m\u001b[0m\n",
      "\u001b[0;32m~/anaconda3/lib/python3.7/site-packages/nltk/tokenize/punkt.py\u001b[0m in \u001b[0;36m_slices_from_text\u001b[0;34m(self, text)\u001b[0m\n\u001b[1;32m   1333\u001b[0m     \u001b[0;32mdef\u001b[0m \u001b[0m_slices_from_text\u001b[0m\u001b[0;34m(\u001b[0m\u001b[0mself\u001b[0m\u001b[0;34m,\u001b[0m \u001b[0mtext\u001b[0m\u001b[0;34m)\u001b[0m\u001b[0;34m:\u001b[0m\u001b[0;34m\u001b[0m\u001b[0;34m\u001b[0m\u001b[0m\n\u001b[1;32m   1334\u001b[0m         \u001b[0mlast_break\u001b[0m \u001b[0;34m=\u001b[0m \u001b[0;36m0\u001b[0m\u001b[0;34m\u001b[0m\u001b[0;34m\u001b[0m\u001b[0m\n\u001b[0;32m-> 1335\u001b[0;31m         \u001b[0;32mfor\u001b[0m \u001b[0mmatch\u001b[0m \u001b[0;32min\u001b[0m \u001b[0mself\u001b[0m\u001b[0;34m.\u001b[0m\u001b[0m_lang_vars\u001b[0m\u001b[0;34m.\u001b[0m\u001b[0mperiod_context_re\u001b[0m\u001b[0;34m(\u001b[0m\u001b[0;34m)\u001b[0m\u001b[0;34m.\u001b[0m\u001b[0mfinditer\u001b[0m\u001b[0;34m(\u001b[0m\u001b[0mtext\u001b[0m\u001b[0;34m)\u001b[0m\u001b[0;34m:\u001b[0m\u001b[0;34m\u001b[0m\u001b[0;34m\u001b[0m\u001b[0m\n\u001b[0m\u001b[1;32m   1336\u001b[0m             \u001b[0mcontext\u001b[0m \u001b[0;34m=\u001b[0m \u001b[0mmatch\u001b[0m\u001b[0;34m.\u001b[0m\u001b[0mgroup\u001b[0m\u001b[0;34m(\u001b[0m\u001b[0;34m)\u001b[0m \u001b[0;34m+\u001b[0m \u001b[0mmatch\u001b[0m\u001b[0;34m.\u001b[0m\u001b[0mgroup\u001b[0m\u001b[0;34m(\u001b[0m\u001b[0;34m'after_tok'\u001b[0m\u001b[0;34m)\u001b[0m\u001b[0;34m\u001b[0m\u001b[0;34m\u001b[0m\u001b[0m\n\u001b[1;32m   1337\u001b[0m             \u001b[0;32mif\u001b[0m \u001b[0mself\u001b[0m\u001b[0;34m.\u001b[0m\u001b[0mtext_contains_sentbreak\u001b[0m\u001b[0;34m(\u001b[0m\u001b[0mcontext\u001b[0m\u001b[0;34m)\u001b[0m\u001b[0;34m:\u001b[0m\u001b[0;34m\u001b[0m\u001b[0;34m\u001b[0m\u001b[0m\n",
      "\u001b[0;31mTypeError\u001b[0m: expected string or bytes-like object"
     ]
    }
   ],
   "source": [
    "topicArray=[]\n",
    "for text in textdf:\n",
    "    corpus = nltk.sent_tokenize(text)\n",
    "    for i in range(len(corpus)):\n",
    "          corpus [i] = corpus [i].lower()\n",
    "          corpus [i] = re.sub(r'\\W',' ',corpus [i])\n",
    "          corpus [i] = re.sub(r'\\s+',' ',corpus [i])\n",
    "          corpus[i] = re.sub(r'[0-9]', '', corpus[i])\n",
    "    corpus.remove(corpus[0])\n",
    "    corpus_clean = [clean(sent).split() for sent in corpus]\n",
    "    dictionary = corpora.Dictionary(corpus_clean)\n",
    "    doc_term_matrix = [dictionary.doc2bow(sent) for sent in corpus_clean]\n",
    "    Lda = gensim.models.ldamodel.LdaModel\n",
    "    ldamodel = Lda(doc_term_matrix, num_topics=5, id2word=dictionary, passes=1500)\n",
    "    topicArray.append(ldamodel.print_topics(num_topics=5, num_words=8))\n",
    "    \n",
    "    "
   ]
  },
  {
   "cell_type": "code",
   "execution_count": 91,
   "metadata": {},
   "outputs": [
    {
     "data": {
      "text/plain": [
       "[(0,\n",
       "  '0.059*\"turkey\" + 0.046*\"state\" + 0.043*\"kurdish\" + 0.037*\"force\" + 0.031*\"group\" + 0.031*\"islamic\" + 0.030*\"syria\"'),\n",
       " (1,\n",
       "  '0.041*\"force\" + 0.041*\"kurdish\" + 0.022*\"terrorist\" + 0.022*\"pkk\" + 0.022*\"country\" + 0.022*\"considers\" + 0.022*\"labeled\"'),\n",
       " (2,\n",
       "  '0.042*\"davutoglu\" + 0.029*\"hit\" + 0.029*\"force\" + 0.029*\"said\" + 0.029*\"river\" + 0.016*\"link\" + 0.016*\"west\"'),\n",
       " (3,\n",
       "  '0.034*\"kurdish\" + 0.024*\"tal\" + 0.024*\"abyad\" + 0.024*\"said\" + 0.018*\"force\" + 0.018*\"turkey\" + 0.017*\"pyd\"'),\n",
       " (4,\n",
       "  '0.034*\"turkey\" + 0.034*\"force\" + 0.023*\"davutoglu\" + 0.023*\"turkish\" + 0.023*\"northern\" + 0.023*\"syria\" + 0.023*\"kurdish\"')]"
      ]
     },
     "execution_count": 91,
     "metadata": {},
     "output_type": "execute_result"
    }
   ],
   "source": [
    "topicArray[1]"
   ]
  },
  {
   "cell_type": "code",
   "execution_count": 83,
   "metadata": {},
   "outputs": [
    {
     "data": {
      "text/plain": [
       "'FacebookEmail Twitter Google+ LinkedIn Pinterest Turkey says it fired at Kurdish forces in northern Syria Turkey?has confirmed that its military has attacked the main Kurdish force in northern Syria a key ally of the United States in its efforts to defeat the Islamic State group. Post to Facebook Turkey says it fired at Kurdish forces in northern Syria Turkey?has confirmed that its military has attacked the main Kurdish force in northern Syria a key ally of the United States in its efforts to defeat the Islamic State group. Check out this story on Militarytimes.com: http://militari.ly/1MglQE5 CancelSend A link has been sent to your friends email address. Posted! A link has been posted to your Facebook feed. 2 To find out more about Facebook commenting please read the Conversation Guidelines and FAQs Turkey says it fired at Kurdish forces in northern Syria The Associated Press 9:33 a.m. EDT October 27 2015 Ahmet Davutoglu Turkish prime minister and leader of the Justice and Development Party delivers his speech at a rally in Istanbul on Sunday ahead of the Nov. 1 general elections. (Photo: Bulent Kilic/AP) 2 CONNECT 21 TWEET LINKEDIN 2 COMMENTEMAILMORE ANKARA?Turkey???Turkey?has confirmed that its military has attacked the main Kurdish force in northern Syria a key ally of the United States in its efforts to defeat the Islamic State group. The U.S.-supported Kurdish militia known as the YPG said the Turkish military shot at its forces deployed in the town of Tal Abyad twice Sunday using mostly machine guns. No one was injured in the shooting and the Kurdish forces didnt return fire. Kurds say Turkey shot at its forces in northern Syria Turkish Prime Minister Ahmet Davutoglu confirmed that the military targeted the Kurdish forces in an interview with?Turkeys?ATV television late Monday. We said the PYD will not go west of the Euphrates and that we would hit it the moment it did. We hit it twice Davutoglu said. The YPG is the fighting force of the PYD or the Kurdish Democratic Party. Turkey?cannot abandon its border its fate to any country Davutoglu said. Davutoglu did not elaborate. The two reports seemed to conflict each other with Davutoglu suggesting that the Turkish forces had hit the Kurdish forces west of the Euphrates river while the YPG said the attack was in Tal Abyad which is east of the river. Turkey?is wary of the PYD which is affiliated with?Turkeys?Kurdish PKK rebels who have waged a bloody insurgency in southeastern?Turkey. The Kurdish capture of the majority-Arab town of Tal Abyad and its subsequent inclusion under the semiautonomous enclave has further irked the country. The Kurdish forces have been a key ally for the U.S.-led coalition fighting the Islamic State group in Syria which?Turkey?is also a part of. Turkey?and the U.S. however differ on whether the force is a terrorist organization. Both countries have labeled the PKK as a terror group but only?Turkey?considers the Syrian Kurdish forces as terrorists. Kurdish fighters expelled Islamic State militants from Tal Abyad in June dealing a major blow to the extremist groups abilities to access supply routes across the Turkish borders. Last week Tal Abyad was declared an independent administration allied with the semiautonomous Kurdish enclave in northern Syria. 2 CONNECT 21 TWEET LINKEDIN 2 COMMENTEMAILMORE Read or Share this story: http://militari.ly/1MglQE5 MORE STORIES '"
      ]
     },
     "execution_count": 83,
     "metadata": {},
     "output_type": "execute_result"
    }
   ],
   "source": [
    "textdf[1]"
   ]
  },
  {
   "cell_type": "code",
   "execution_count": null,
   "metadata": {},
   "outputs": [],
   "source": []
  }
 ],
 "metadata": {
  "accelerator": "TPU",
  "colab": {
   "collapsed_sections": [],
   "name": "LDAPractice.ipynb",
   "provenance": []
  },
  "kernelspec": {
   "display_name": "Python 3",
   "language": "python",
   "name": "python3"
  },
  "language_info": {
   "codemirror_mode": {
    "name": "ipython",
    "version": 3
   },
   "file_extension": ".py",
   "mimetype": "text/x-python",
   "name": "python",
   "nbconvert_exporter": "python",
   "pygments_lexer": "ipython3",
   "version": "3.7.6"
  }
 },
 "nbformat": 4,
 "nbformat_minor": 1
}
